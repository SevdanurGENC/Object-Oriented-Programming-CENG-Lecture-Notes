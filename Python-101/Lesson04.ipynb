{
 "cells": [
  {
   "cell_type": "markdown",
   "metadata": {
    "colab_type": "text",
    "id": "zvyKibr2vVNm"
   },
   "source": [
    "## Lists"
   ]
  },
  {
   "cell_type": "code",
   "execution_count": null,
   "metadata": {},
   "outputs": [],
   "source": [
    "\"\"\"\n",
    "A list is a data structure in Python that is a mutable, or changeable, ordered sequence of elements. \n",
    "Each element or value that is inside of a list is called an item. Just as strings are defined as characters \n",
    "between quotes, lists are defined by having values between square brackets [ ].\n",
    "\"\"\""
   ]
  },
  {
   "cell_type": "code",
   "execution_count": 63,
   "metadata": {},
   "outputs": [],
   "source": [
    "mylist = [3,5,6,7]  # creating lists"
   ]
  },
  {
   "cell_type": "code",
   "execution_count": 64,
   "metadata": {
    "colab": {
     "base_uri": "https://localhost:8080/",
     "height": 35
    },
    "colab_type": "code",
    "id": "njA7EYZGv07w",
    "outputId": "39d8d67d-578a-46c7-c3b3-275d39a06063"
   },
   "outputs": [
    {
     "name": "stdout",
     "output_type": "stream",
     "text": [
      "[3, 5, 6, 7]\n"
     ]
    }
   ],
   "source": [
    "print(mylist) "
   ]
  },
  {
   "cell_type": "code",
   "execution_count": 65,
   "metadata": {
    "colab": {
     "base_uri": "https://localhost:8080/",
     "height": 88
    },
    "colab_type": "code",
    "id": "hQhGEzmPwgQ2",
    "outputId": "66c861e8-e948-405b-e8cf-d6f25a72f8b4"
   },
   "outputs": [
    {
     "name": "stdout",
     "output_type": "stream",
     "text": [
      "3\n"
     ]
    }
   ],
   "source": [
    "print(mylist[0])"
   ]
  },
  {
   "cell_type": "code",
   "execution_count": 66,
   "metadata": {},
   "outputs": [
    {
     "name": "stdout",
     "output_type": "stream",
     "text": [
      "6\n"
     ]
    }
   ],
   "source": [
    "print(mylist[2])"
   ]
  },
  {
   "cell_type": "code",
   "execution_count": 67,
   "metadata": {},
   "outputs": [
    {
     "name": "stdout",
     "output_type": "stream",
     "text": [
      "7\n"
     ]
    }
   ],
   "source": [
    "print(mylist[-1])"
   ]
  },
  {
   "cell_type": "code",
   "execution_count": 68,
   "metadata": {},
   "outputs": [
    {
     "name": "stdout",
     "output_type": "stream",
     "text": [
      "5\n"
     ]
    }
   ],
   "source": [
    "print(mylist[-3])"
   ]
  },
  {
   "cell_type": "code",
   "execution_count": 69,
   "metadata": {
    "colab": {
     "base_uri": "https://localhost:8080/",
     "height": 35
    },
    "colab_type": "code",
    "id": "ngPWrPA_w3gG",
    "outputId": "082ef017-93ad-4aea-ceee-f6673380cbce"
   },
   "outputs": [
    {
     "name": "stdout",
     "output_type": "stream",
     "text": [
      "[3, 5, 'python', 7]\n"
     ]
    }
   ],
   "source": [
    "mylist[2] = \"python\"   # lists can contain different data types\n",
    "print(mylist)"
   ]
  },
  {
   "cell_type": "code",
   "execution_count": 70,
   "metadata": {
    "colab": {
     "base_uri": "https://localhost:8080/",
     "height": 35
    },
    "colab_type": "code",
    "id": "hI6Wz-NWxMuG",
    "outputId": "bcfe22a8-4dd6-4484-93ea-352d475abf2a"
   },
   "outputs": [
    {
     "name": "stdout",
     "output_type": "stream",
     "text": [
      "[3, 5, 'python', 7, 'course']\n"
     ]
    }
   ],
   "source": [
    "mylist.append('course')  # we can add items to the end of list\n",
    "print(mylist)"
   ]
  },
  {
   "cell_type": "code",
   "execution_count": 71,
   "metadata": {},
   "outputs": [
    {
     "name": "stdout",
     "output_type": "stream",
     "text": [
      "[3, 5, 'python', 7, 'course', 'course', 'course']\n"
     ]
    }
   ],
   "source": [
    "mylist.append('course')\n",
    "mylist.append('course')\n",
    "print(mylist)"
   ]
  },
  {
   "cell_type": "code",
   "execution_count": 72,
   "metadata": {
    "colab": {
     "base_uri": "https://localhost:8080/",
     "height": 70
    },
    "colab_type": "code",
    "id": "dqz8xPRgxdHU",
    "outputId": "d87f772f-2dc6-4864-cb82-f83e3320a71b"
   },
   "outputs": [
    {
     "name": "stdout",
     "output_type": "stream",
     "text": [
      "course\n"
     ]
    }
   ],
   "source": [
    "thelast = mylist.pop()  # pop() gets rid of the last element of the list\n",
    "print(thelast)"
   ]
  },
  {
   "cell_type": "code",
   "execution_count": 73,
   "metadata": {},
   "outputs": [
    {
     "name": "stdout",
     "output_type": "stream",
     "text": [
      "[3, 5, 'python', 7, 'course', 'course']\n"
     ]
    }
   ],
   "source": [
    "print(mylist)"
   ]
  },
  {
   "cell_type": "code",
   "execution_count": 74,
   "metadata": {
    "colab": {
     "base_uri": "https://localhost:8080/",
     "height": 35
    },
    "colab_type": "code",
    "id": "Dt0ef3SiyJng",
    "outputId": "5c4b09a6-4918-4393-e8ff-5ab2be38f39e"
   },
   "outputs": [
    {
     "data": {
      "text/plain": [
       "2"
      ]
     },
     "execution_count": 74,
     "metadata": {},
     "output_type": "execute_result"
    }
   ],
   "source": [
    "mylist.index(\"python\")"
   ]
  },
  {
   "cell_type": "code",
   "execution_count": 75,
   "metadata": {
    "colab": {
     "base_uri": "https://localhost:8080/",
     "height": 35
    },
    "colab_type": "code",
    "id": "r1A4DZ4syQtk",
    "outputId": "c013fbaf-b73e-4a25-8d56-d94452ee75db"
   },
   "outputs": [
    {
     "data": {
      "text/plain": [
       "4"
      ]
     },
     "execution_count": 75,
     "metadata": {},
     "output_type": "execute_result"
    }
   ],
   "source": [
    "mylist.index(\"course\")"
   ]
  },
  {
   "cell_type": "code",
   "execution_count": 76,
   "metadata": {
    "colab": {
     "base_uri": "https://localhost:8080/",
     "height": 35
    },
    "colab_type": "code",
    "id": "iFn2-UYKyWCZ",
    "outputId": "7b69fee3-6725-46e4-8417-b6e25b3c93f7"
   },
   "outputs": [
    {
     "data": {
      "text/plain": [
       "2"
      ]
     },
     "execution_count": 76,
     "metadata": {},
     "output_type": "execute_result"
    }
   ],
   "source": [
    "mylist.count(\"course\")"
   ]
  },
  {
   "cell_type": "code",
   "execution_count": 77,
   "metadata": {
    "colab": {
     "base_uri": "https://localhost:8080/",
     "height": 35
    },
    "colab_type": "code",
    "id": "46qXsaPbyowR",
    "outputId": "09b1b5c5-b4d3-4ea5-a57f-106aa4a69109"
   },
   "outputs": [
    {
     "name": "stdout",
     "output_type": "stream",
     "text": [
      "[3, 5, 'python', 7, 'course']\n"
     ]
    }
   ],
   "source": [
    "mylist.remove(\"course\")\n",
    "print(mylist)"
   ]
  },
  {
   "cell_type": "code",
   "execution_count": 79,
   "metadata": {},
   "outputs": [
    {
     "data": {
      "text/plain": [
       "[1, 3, 6]"
      ]
     },
     "execution_count": 79,
     "metadata": {},
     "output_type": "execute_result"
    }
   ],
   "source": [
    "l = [1,6,3]\n",
    "l.sort()\n",
    "l"
   ]
  },
  {
   "cell_type": "code",
   "execution_count": 78,
   "metadata": {
    "colab": {
     "base_uri": "https://localhost:8080/",
     "height": 186
    },
    "colab_type": "code",
    "id": "UlKtby-1zYVT",
    "outputId": "a3c9e296-ea13-46c8-da73-9418ed3ac895"
   },
   "outputs": [
    {
     "ename": "TypeError",
     "evalue": "'<' not supported between instances of 'str' and 'int'",
     "output_type": "error",
     "traceback": [
      "\u001b[0;31m---------------------------------------------------------------------------\u001b[0m",
      "\u001b[0;31mTypeError\u001b[0m                                 Traceback (most recent call last)",
      "\u001b[0;32m<ipython-input-78-bc29555334f8>\u001b[0m in \u001b[0;36m<module>\u001b[0;34m\u001b[0m\n\u001b[0;32m----> 1\u001b[0;31m \u001b[0mmylist\u001b[0m\u001b[0;34m.\u001b[0m\u001b[0msort\u001b[0m\u001b[0;34m(\u001b[0m\u001b[0;34m)\u001b[0m\u001b[0;34m\u001b[0m\u001b[0;34m\u001b[0m\u001b[0m\n\u001b[0m\u001b[1;32m      2\u001b[0m \u001b[0mmylist\u001b[0m\u001b[0;34m\u001b[0m\u001b[0;34m\u001b[0m\u001b[0m\n",
      "\u001b[0;31mTypeError\u001b[0m: '<' not supported between instances of 'str' and 'int'"
     ]
    }
   ],
   "source": [
    "mylist.sort()\n",
    "mylist"
   ]
  },
  {
   "cell_type": "code",
   "execution_count": 80,
   "metadata": {
    "colab": {
     "base_uri": "https://localhost:8080/",
     "height": 35
    },
    "colab_type": "code",
    "id": "E26Vtqlyzfal",
    "outputId": "fe9b0ac7-0547-48b7-9379-4eee55b7c736"
   },
   "outputs": [
    {
     "name": "stdout",
     "output_type": "stream",
     "text": [
      "[3, 5, 7]\n"
     ]
    }
   ],
   "source": [
    "mylist.remove(\"course\")\n",
    "mylist.remove(\"python\")\n",
    "print(mylist)"
   ]
  },
  {
   "cell_type": "code",
   "execution_count": 81,
   "metadata": {
    "colab": {
     "base_uri": "https://localhost:8080/",
     "height": 35
    },
    "colab_type": "code",
    "id": "2pnKy1t7znEH",
    "outputId": "808b1377-4da3-454e-a67f-262f6e8a3f5c"
   },
   "outputs": [
    {
     "data": {
      "text/plain": [
       "[3, 5, 7]"
      ]
     },
     "execution_count": 81,
     "metadata": {},
     "output_type": "execute_result"
    }
   ],
   "source": [
    "mylist.sort()\n",
    "mylist"
   ]
  },
  {
   "cell_type": "code",
   "execution_count": 82,
   "metadata": {
    "colab": {
     "base_uri": "https://localhost:8080/",
     "height": 35
    },
    "colab_type": "code",
    "id": "sjC4_sbzzt0n",
    "outputId": "9b4dc577-f844-41f2-9d0b-8271391437e8"
   },
   "outputs": [
    {
     "data": {
      "text/plain": [
       "[7, 5, 3]"
      ]
     },
     "execution_count": 82,
     "metadata": {},
     "output_type": "execute_result"
    }
   ],
   "source": [
    "mylist.reverse()\n",
    "mylist"
   ]
  },
  {
   "cell_type": "code",
   "execution_count": 83,
   "metadata": {
    "colab": {
     "base_uri": "https://localhost:8080/",
     "height": 35
    },
    "colab_type": "code",
    "id": "SDVAJpN3z4md",
    "outputId": "5eb5b5c4-0e93-4594-a0e1-a2bb02f2e276"
   },
   "outputs": [
    {
     "data": {
      "text/plain": [
       "['course', 'hello', 'python']"
      ]
     },
     "execution_count": 83,
     "metadata": {},
     "output_type": "execute_result"
    }
   ],
   "source": [
    "mylist2 = [\"python\", \"course\", \"hello\"]\n",
    "mylist2.sort()\n",
    "mylist2"
   ]
  },
  {
   "cell_type": "code",
   "execution_count": 85,
   "metadata": {},
   "outputs": [
    {
     "data": {
      "text/plain": [
       "[7, 5, 3, 1, 11, 111, 1111]"
      ]
     },
     "execution_count": 85,
     "metadata": {},
     "output_type": "execute_result"
    }
   ],
   "source": [
    "mylist"
   ]
  },
  {
   "cell_type": "code",
   "execution_count": 84,
   "metadata": {
    "colab": {
     "base_uri": "https://localhost:8080/",
     "height": 35
    },
    "colab_type": "code",
    "id": "mLBbaZH70SkL",
    "outputId": "b35d5081-92ce-4b6d-ed7d-af8f8bf6a24a"
   },
   "outputs": [
    {
     "data": {
      "text/plain": [
       "[7, 5, 3, 1, 11, 111, 1111]"
      ]
     },
     "execution_count": 84,
     "metadata": {},
     "output_type": "execute_result"
    }
   ],
   "source": [
    "mylist3 = [1, 11, 111, 1111]\n",
    "mylist.extend(mylist3)\n",
    "mylist"
   ]
  },
  {
   "cell_type": "code",
   "execution_count": 86,
   "metadata": {
    "colab": {
     "base_uri": "https://localhost:8080/",
     "height": 35
    },
    "colab_type": "code",
    "id": "gaNw7ha90pe5",
    "outputId": "8a88ab23-4548-4417-8743-4ff28015c3d1"
   },
   "outputs": [
    {
     "name": "stdout",
     "output_type": "stream",
     "text": [
      "[7, 5, 3, 1, 11, 111, 1111, [1, 11, 111, 1111]]\n"
     ]
    }
   ],
   "source": [
    "mylist4 = [1, 11, 111, 1111]\n",
    "mylist.append(mylist4)\n",
    "print(mylist)"
   ]
  },
  {
   "cell_type": "code",
   "execution_count": 87,
   "metadata": {
    "colab": {
     "base_uri": "https://localhost:8080/",
     "height": 35
    },
    "colab_type": "code",
    "id": "AfHla3bf2rFG",
    "outputId": "4c024053-4f10-4edf-d04c-6e1f64e57ef1"
   },
   "outputs": [
    {
     "name": "stdout",
     "output_type": "stream",
     "text": [
      "[7, 5, 3, 1, 11, 55, 111, 1111, [1, 11, 111, 1111]]\n"
     ]
    }
   ],
   "source": [
    "mylist.insert(5,55)   # insert(x,y) --> adds the y value to the index x \n",
    "print(mylist)"
   ]
  },
  {
   "cell_type": "code",
   "execution_count": 88,
   "metadata": {
    "colab": {
     "base_uri": "https://localhost:8080/",
     "height": 35
    },
    "colab_type": "code",
    "id": "s_OhpjEiOKgw",
    "outputId": "89dfa80d-9ba4-420c-bd8f-39a3f4890b46"
   },
   "outputs": [
    {
     "name": "stdout",
     "output_type": "stream",
     "text": [
      "[0, 1, 2, 3, 4, 5, 6, 7]\n"
     ]
    }
   ],
   "source": [
    "numbers = list(range(8))\n",
    "\n",
    "print(numbers)"
   ]
  },
  {
   "cell_type": "code",
   "execution_count": 89,
   "metadata": {
    "colab": {
     "base_uri": "https://localhost:8080/",
     "height": 35
    },
    "colab_type": "code",
    "id": "TrlAuQrZmqPe",
    "outputId": "46f3b118-0e87-4f66-aac4-4c5c528a9a22"
   },
   "outputs": [
    {
     "name": "stdout",
     "output_type": "stream",
     "text": [
      "[2, 5, 8, 11]\n"
     ]
    }
   ],
   "source": [
    "numbers2 = list(range(2,14,3))\n",
    "print(numbers2)"
   ]
  },
  {
   "cell_type": "code",
   "execution_count": 90,
   "metadata": {
    "colab": {
     "base_uri": "https://localhost:8080/",
     "height": 35
    },
    "colab_type": "code",
    "id": "dWYyfECgjoD5",
    "outputId": "7f9093cf-841f-4cca-b2ce-1a2056c79b6a"
   },
   "outputs": [
    {
     "name": "stdout",
     "output_type": "stream",
     "text": [
      "[2, 3, 4]\n"
     ]
    }
   ],
   "source": [
    "print(numbers[2:5])"
   ]
  },
  {
   "cell_type": "code",
   "execution_count": 91,
   "metadata": {
    "colab": {
     "base_uri": "https://localhost:8080/",
     "height": 35
    },
    "colab_type": "code",
    "id": "9pNuEe8lj-T9",
    "outputId": "ecea7a28-03f4-4d44-ef6d-5f0fbd7c3cf7"
   },
   "outputs": [
    {
     "data": {
      "text/plain": [
       "[0, 1, 2, 3, 4, 10, 11, 12]"
      ]
     },
     "execution_count": 91,
     "metadata": {},
     "output_type": "execute_result"
    }
   ],
   "source": [
    "numbers[5:8] = [10,11,12]\n",
    "numbers"
   ]
  },
  {
   "cell_type": "code",
   "execution_count": 92,
   "metadata": {
    "colab": {
     "base_uri": "https://localhost:8080/",
     "height": 35
    },
    "colab_type": "code",
    "id": "0qGcvxjfks0k",
    "outputId": "7d05b9d6-b89a-44fc-d51c-3d4015c07f63"
   },
   "outputs": [
    {
     "data": {
      "text/plain": [
       "True"
      ]
     },
     "execution_count": 92,
     "metadata": {},
     "output_type": "execute_result"
    }
   ],
   "source": [
    "12 in numbers"
   ]
  },
  {
   "cell_type": "code",
   "execution_count": 93,
   "metadata": {
    "colab": {
     "base_uri": "https://localhost:8080/",
     "height": 35
    },
    "colab_type": "code",
    "id": "_8ZofXhRkv6g",
    "outputId": "b4b53abb-e83b-4c99-95e2-2e8ea9f461fe"
   },
   "outputs": [
    {
     "data": {
      "text/plain": [
       "False"
      ]
     },
     "execution_count": 93,
     "metadata": {},
     "output_type": "execute_result"
    }
   ],
   "source": [
    "15 in numbers"
   ]
  },
  {
   "cell_type": "code",
   "execution_count": 94,
   "metadata": {
    "colab": {
     "base_uri": "https://localhost:8080/",
     "height": 35
    },
    "colab_type": "code",
    "id": "dGzhmKtfk1cj",
    "outputId": "1b03a797-5be1-4669-b5ed-8fa251def5a9"
   },
   "outputs": [
    {
     "data": {
      "text/plain": [
       "[1, 2, 3, 4, 5]"
      ]
     },
     "execution_count": 94,
     "metadata": {},
     "output_type": "execute_result"
    }
   ],
   "source": [
    "[1,2,3] + [ 4,5]"
   ]
  },
  {
   "cell_type": "code",
   "execution_count": 95,
   "metadata": {
    "colab": {
     "base_uri": "https://localhost:8080/",
     "height": 35
    },
    "colab_type": "code",
    "id": "hb1-Cp99l3-P",
    "outputId": "26eea7c9-57b0-479d-d56e-399784ad7491"
   },
   "outputs": [
    {
     "data": {
      "text/plain": [
       "[1, 2, 3, 1, 2, 3, 1, 2, 3]"
      ]
     },
     "execution_count": 95,
     "metadata": {},
     "output_type": "execute_result"
    }
   ],
   "source": [
    "[1,2,3] *3"
   ]
  },
  {
   "cell_type": "code",
   "execution_count": 96,
   "metadata": {
    "colab": {
     "base_uri": "https://localhost:8080/",
     "height": 35
    },
    "colab_type": "code",
    "id": "ZZ0ieLF1mJGq",
    "outputId": "0f97c39a-8962-46c1-b5d8-dead5460e0aa"
   },
   "outputs": [
    {
     "data": {
      "text/plain": [
       "5"
      ]
     },
     "execution_count": 96,
     "metadata": {},
     "output_type": "execute_result"
    }
   ],
   "source": [
    "list1 = [[1,2], 3, [4,5,6]]\n",
    "list1[2][1]"
   ]
  },
  {
   "cell_type": "code",
   "execution_count": 97,
   "metadata": {},
   "outputs": [
    {
     "ename": "TypeError",
     "evalue": "'int' object is not subscriptable",
     "output_type": "error",
     "traceback": [
      "\u001b[0;31m---------------------------------------------------------------------------\u001b[0m",
      "\u001b[0;31mTypeError\u001b[0m                                 Traceback (most recent call last)",
      "\u001b[0;32m<ipython-input-97-48ea71713f15>\u001b[0m in \u001b[0;36m<module>\u001b[0;34m\u001b[0m\n\u001b[0;32m----> 1\u001b[0;31m \u001b[0mlist1\u001b[0m\u001b[0;34m[\u001b[0m\u001b[0;36m1\u001b[0m\u001b[0;34m]\u001b[0m\u001b[0;34m[\u001b[0m\u001b[0;36m1\u001b[0m\u001b[0;34m]\u001b[0m\u001b[0;34m\u001b[0m\u001b[0;34m\u001b[0m\u001b[0m\n\u001b[0m",
      "\u001b[0;31mTypeError\u001b[0m: 'int' object is not subscriptable"
     ]
    }
   ],
   "source": [
    "list1[1][1]"
   ]
  },
  {
   "cell_type": "markdown",
   "metadata": {
    "colab_type": "text",
    "id": "IdVXxCBHJ07g"
   },
   "source": [
    "# Sözlükler (Dictionary)\n",
    "\n",
    "\n",
    "\n",
    "*   Python'daki bir veri tipi.\n",
    "*   Sözlükler,anahtarlar (keys) tarafından indexlenir ve bu anahtarlar String ve sayı tipinde olabilir.\n",
    "*   key:value şeklinde yazılır ve key ler benzersiz (unique) değerlerdir.\n",
    "*   {}\n",
    "\n",
    "\n",
    "\n"
   ]
  },
  {
   "cell_type": "code",
   "execution_count": 1,
   "metadata": {},
   "outputs": [
    {
     "name": "stdout",
     "output_type": "stream",
     "text": [
      "{}\n"
     ]
    }
   ],
   "source": [
    "d = {}\n",
    "\n",
    "print(d)"
   ]
  },
  {
   "cell_type": "code",
   "execution_count": 2,
   "metadata": {},
   "outputs": [
    {
     "name": "stdout",
     "output_type": "stream",
     "text": [
      "{'python': 1, 'course': 2}\n"
     ]
    }
   ],
   "source": [
    "d = {\"python\":1, \"course\":2}\n",
    "print(d)"
   ]
  },
  {
   "cell_type": "code",
   "execution_count": 3,
   "metadata": {},
   "outputs": [
    {
     "data": {
      "text/plain": [
       "{'machine': 'learning', 'artificial': 'intelligence'}"
      ]
     },
     "execution_count": 3,
     "metadata": {},
     "output_type": "execute_result"
    }
   ],
   "source": [
    "d2 = {\"machine\":\"learning\", \"artificial\":\"intelligence\" }\n",
    "d2"
   ]
  },
  {
   "cell_type": "code",
   "execution_count": 4,
   "metadata": {
    "colab": {
     "base_uri": "https://localhost:8080/",
     "height": 36
    },
    "colab_type": "code",
    "id": "eckt9hWHMKyB",
    "outputId": "2574c92e-966b-4f7a-faf9-b6b782bda0b4"
   },
   "outputs": [
    {
     "data": {
      "text/plain": [
       "'intelligence'"
      ]
     },
     "execution_count": 4,
     "metadata": {},
     "output_type": "execute_result"
    }
   ],
   "source": [
    "d2[\"artificial\"]"
   ]
  },
  {
   "cell_type": "code",
   "execution_count": 5,
   "metadata": {
    "colab": {
     "base_uri": "https://localhost:8080/",
     "height": 35
    },
    "colab_type": "code",
    "id": "EtB2gyEmMWjy",
    "outputId": "f16e2223-550d-401d-b669-228d34ce8982"
   },
   "outputs": [
    {
     "data": {
      "text/plain": [
       "2"
      ]
     },
     "execution_count": 5,
     "metadata": {},
     "output_type": "execute_result"
    }
   ],
   "source": [
    "d[\"course\"]"
   ]
  },
  {
   "cell_type": "code",
   "execution_count": 13,
   "metadata": {
    "colab": {
     "base_uri": "https://localhost:8080/",
     "height": 35
    },
    "colab_type": "code",
    "id": "t2flZAV2NIIq",
    "outputId": "9ee61c7c-b81b-4965-d128-fdb44d16e691"
   },
   "outputs": [
    {
     "data": {
      "text/plain": [
       "{'machine': 'learning', 'artificial': 'intelligence', 'deep': 'learning'}"
      ]
     },
     "execution_count": 13,
     "metadata": {},
     "output_type": "execute_result"
    }
   ],
   "source": [
    "d2[\"deep\"] = \"learning\"\n",
    "d2\n",
    "#print(d2)"
   ]
  },
  {
   "cell_type": "code",
   "execution_count": 6,
   "metadata": {
    "colab": {
     "base_uri": "https://localhost:8080/",
     "height": 35
    },
    "colab_type": "code",
    "id": "ntLDke2enyh6",
    "outputId": "e64c7450-f5cb-4ef4-ac96-c32e702e799d"
   },
   "outputs": [
    {
     "name": "stdout",
     "output_type": "stream",
     "text": [
      "dict_keys(['python', 'course'])\n"
     ]
    }
   ],
   "source": [
    "print(d.keys())"
   ]
  },
  {
   "cell_type": "code",
   "execution_count": 125,
   "metadata": {
    "colab": {
     "base_uri": "https://localhost:8080/",
     "height": 35
    },
    "colab_type": "code",
    "id": "RRCll5K-oEW6",
    "outputId": "ca0a5e9d-4b4c-4f91-fc2e-6581f76dc6f2"
   },
   "outputs": [
    {
     "data": {
      "text/plain": [
       "dict_values(['learning', 'intelligence', 'learning'])"
      ]
     },
     "execution_count": 125,
     "metadata": {
      "tags": []
     },
     "output_type": "execute_result"
    }
   ],
   "source": [
    "d2.values()"
   ]
  },
  {
   "cell_type": "code",
   "execution_count": 126,
   "metadata": {
    "colab": {
     "base_uri": "https://localhost:8080/",
     "height": 35
    },
    "colab_type": "code",
    "id": "YYzF_DyGoHWm",
    "outputId": "efa04009-abdf-40e1-d177-cb046ff201b7"
   },
   "outputs": [
    {
     "data": {
      "text/plain": [
       "dict_items([('machine', 'learning'), ('artificial', 'intelligence'), ('deep', 'learning')])"
      ]
     },
     "execution_count": 126,
     "metadata": {
      "tags": []
     },
     "output_type": "execute_result"
    }
   ],
   "source": [
    "d2.items()"
   ]
  },
  {
   "cell_type": "code",
   "execution_count": 127,
   "metadata": {
    "colab": {
     "base_uri": "https://localhost:8080/",
     "height": 70
    },
    "colab_type": "code",
    "id": "rcKOifmfoap9",
    "outputId": "fdea2f68-ed1b-45c2-ba42-54e7e56b2ae4"
   },
   "outputs": [
    {
     "name": "stdout",
     "output_type": "stream",
     "text": [
      "machine\n",
      "artificial\n",
      "deep\n"
     ]
    }
   ],
   "source": [
    "for k in d2.keys():\n",
    "  print(k)\n"
   ]
  },
  {
   "cell_type": "code",
   "execution_count": 128,
   "metadata": {
    "colab": {
     "base_uri": "https://localhost:8080/",
     "height": 52
    },
    "colab_type": "code",
    "id": "bhSGEUT5oqc3",
    "outputId": "c72bb74e-5010-476f-a289-f63ff4e68572"
   },
   "outputs": [
    {
     "name": "stdout",
     "output_type": "stream",
     "text": [
      "1\n",
      "2\n"
     ]
    }
   ],
   "source": [
    "for v in d.values():\n",
    "  print(v)"
   ]
  },
  {
   "cell_type": "code",
   "execution_count": 129,
   "metadata": {
    "colab": {
     "base_uri": "https://localhost:8080/",
     "height": 70
    },
    "colab_type": "code",
    "id": "j5Oyr1AFpC4f",
    "outputId": "98ea8ef2-915c-4dd4-d0c9-d5987b97b12d"
   },
   "outputs": [
    {
     "name": "stdout",
     "output_type": "stream",
     "text": [
      "machine learning\n",
      "artificial intelligence\n",
      "deep learning\n"
     ]
    }
   ],
   "source": [
    "for k,v in d2.items():\n",
    "  print(k,v)"
   ]
  },
  {
   "cell_type": "code",
   "execution_count": 130,
   "metadata": {
    "colab": {
     "base_uri": "https://localhost:8080/",
     "height": 35
    },
    "colab_type": "code",
    "id": "ffQvbfgepJVv",
    "outputId": "12edae3a-2b66-4279-e6fc-10c4f9d005b1"
   },
   "outputs": [
    {
     "name": "stdout",
     "output_type": "stream",
     "text": [
      "course\n"
     ]
    }
   ],
   "source": [
    "for k,v in d.items():\n",
    "  if v == 2:\n",
    "    print(k)"
   ]
  },
  {
   "cell_type": "code",
   "execution_count": 131,
   "metadata": {
    "colab": {
     "base_uri": "https://localhost:8080/",
     "height": 35
    },
    "colab_type": "code",
    "id": "fmxKFTs4pqwP",
    "outputId": "ed84dd19-da07-4772-bacf-be7d9f95e991"
   },
   "outputs": [
    {
     "data": {
      "text/plain": [
       "{'course': 2, 'python': 1}"
      ]
     },
     "execution_count": 131,
     "metadata": {
      "tags": []
     },
     "output_type": "execute_result"
    }
   ],
   "source": [
    "d"
   ]
  },
  {
   "cell_type": "code",
   "execution_count": 132,
   "metadata": {
    "colab": {
     "base_uri": "https://localhost:8080/",
     "height": 35
    },
    "colab_type": "code",
    "id": "iy6FAQxHpt6Q",
    "outputId": "a59e0324-fb84-4c14-e723-2e535c09105c"
   },
   "outputs": [
    {
     "data": {
      "text/plain": [
       "{'a': [3, 4, 5], 'course': 2, 'python': 1}"
      ]
     },
     "execution_count": 132,
     "metadata": {
      "tags": []
     },
     "output_type": "execute_result"
    }
   ],
   "source": [
    "d[\"a\"] = [3,4,5]\n",
    "d"
   ]
  },
  {
   "cell_type": "code",
   "execution_count": 133,
   "metadata": {
    "colab": {
     "base_uri": "https://localhost:8080/",
     "height": 35
    },
    "colab_type": "code",
    "id": "AINo_32Upzyv",
    "outputId": "81ed10a8-59f8-4d29-afc5-f81281ae6541"
   },
   "outputs": [
    {
     "data": {
      "text/plain": [
       "{'a': [3, 4, 5], 'course': 2}"
      ]
     },
     "execution_count": 133,
     "metadata": {
      "tags": []
     },
     "output_type": "execute_result"
    }
   ],
   "source": [
    "d.pop(\"python\")\n",
    "d"
   ]
  },
  {
   "cell_type": "code",
   "execution_count": 134,
   "metadata": {
    "colab": {
     "base_uri": "https://localhost:8080/",
     "height": 35
    },
    "colab_type": "code",
    "id": "U8QBwgp0sSJi",
    "outputId": "4f9ed760-c159-42e8-8a03-79180334dd79"
   },
   "outputs": [
    {
     "data": {
      "text/plain": [
       "2"
      ]
     },
     "execution_count": 134,
     "metadata": {
      "tags": []
     },
     "output_type": "execute_result"
    }
   ],
   "source": [
    "len(d)"
   ]
  },
  {
   "cell_type": "code",
   "execution_count": 135,
   "metadata": {
    "colab": {
     "base_uri": "https://localhost:8080/",
     "height": 35
    },
    "colab_type": "code",
    "id": "89k7tFi_sWJO",
    "outputId": "ac845006-5d16-42f4-f51d-e974b74e4be8"
   },
   "outputs": [
    {
     "data": {
      "text/plain": [
       "True"
      ]
     },
     "execution_count": 135,
     "metadata": {
      "tags": []
     },
     "output_type": "execute_result"
    }
   ],
   "source": [
    "\"a\" in d"
   ]
  },
  {
   "cell_type": "code",
   "execution_count": 8,
   "metadata": {
    "colab": {
     "base_uri": "https://localhost:8080/",
     "height": 35
    },
    "colab_type": "code",
    "id": "XdyIf0L1sYRM",
    "outputId": "bc09b449-a697-4c67-8ed4-e28ad9b6b118"
   },
   "outputs": [
    {
     "data": {
      "text/plain": [
       "False"
      ]
     },
     "execution_count": 8,
     "metadata": {},
     "output_type": "execute_result"
    }
   ],
   "source": [
    "\"aa\" in d"
   ]
  },
  {
   "cell_type": "code",
   "execution_count": 14,
   "metadata": {
    "colab": {
     "base_uri": "https://localhost:8080/",
     "height": 35
    },
    "colab_type": "code",
    "id": "oJvHWYyouN9w",
    "outputId": "c495cd2c-67ce-466d-82e4-7d47ec3a6fbf"
   },
   "outputs": [
    {
     "data": {
      "text/plain": [
       "{'machine': 'learning', 'artificial': 'intelligence', 'deep': 'learning'}"
      ]
     },
     "execution_count": 14,
     "metadata": {},
     "output_type": "execute_result"
    }
   ],
   "source": [
    "d2"
   ]
  },
  {
   "cell_type": "code",
   "execution_count": 138,
   "metadata": {
    "colab": {
     "base_uri": "https://localhost:8080/",
     "height": 36
    },
    "colab_type": "code",
    "id": "uAtvUx9Jsf0w",
    "outputId": "d29e5cc0-99f0-4bb7-e5e3-4a625922c45b"
   },
   "outputs": [
    {
     "data": {
      "application/vnd.google.colaboratory.intrinsic+json": {
       "type": "string"
      },
      "text/plain": [
       "'intelligence'"
      ]
     },
     "execution_count": 138,
     "metadata": {
      "tags": []
     },
     "output_type": "execute_result"
    }
   ],
   "source": [
    "d2.get(\"artificial\")"
   ]
  },
  {
   "cell_type": "code",
   "execution_count": 15,
   "metadata": {
    "colab": {},
    "colab_type": "code",
    "id": "GobxPk3fuWi2"
   },
   "outputs": [],
   "source": [
    "d2.get(\"gizem\")"
   ]
  },
  {
   "cell_type": "code",
   "execution_count": 16,
   "metadata": {
    "colab": {
     "base_uri": "https://localhost:8080/",
     "height": 35
    },
    "colab_type": "code",
    "id": "nyH6npGYuhRD",
    "outputId": "b5a8ef56-c1cb-449b-9903-c426bb8c9fc7"
   },
   "outputs": [
    {
     "data": {
      "text/plain": [
       "{'machine': 'learning', 'artificial': 'intelligence'}"
      ]
     },
     "execution_count": 16,
     "metadata": {},
     "output_type": "execute_result"
    }
   ],
   "source": [
    "del d2[\"deep\"]\n",
    "d2"
   ]
  },
  {
   "cell_type": "code",
   "execution_count": 142,
   "metadata": {
    "colab": {
     "base_uri": "https://localhost:8080/",
     "height": 124
    },
    "colab_type": "code",
    "id": "rED5dTIhvSO6",
    "outputId": "0ad1b7da-8b6d-45ed-c324-7919c30ae999"
   },
   "outputs": [
    {
     "name": "stdout",
     "output_type": "stream",
     "text": [
      "insan canlısının 2 adet ayağı bulunur\n",
      "insan canlısının 2 adet ayağı bulunur.\n",
      "kedi canlısının 4 adet ayağı bulunur\n",
      "kedi canlısının 4 adet ayağı bulunur.\n",
      "örümcek canlısının 8 adet ayağı bulunur\n",
      "örümcek canlısının 8 adet ayağı bulunur.\n"
     ]
    }
   ],
   "source": [
    "d4 = {\"insan\":2, \"kedi\":4, \"örümcek\":8}\n",
    "\n",
    "for i in d4:\n",
    "  ayak = d4[i]\n",
    "  print(\"%s canlısının %d adet ayağı bulunur\" % (i,ayak))\n",
    "  print(str(i) + \" canlısının \" + str(ayak) +\" adet ayağı bulunur.\")"
   ]
  },
  {
   "cell_type": "code",
   "execution_count": 144,
   "metadata": {
    "colab": {
     "base_uri": "https://localhost:8080/",
     "height": 70
    },
    "colab_type": "code",
    "id": "CGzBpPlgwUTX",
    "outputId": "fa668070-d5d3-44ec-90ea-c510952324a0"
   },
   "outputs": [
    {
     "name": "stdout",
     "output_type": "stream",
     "text": [
      "insan canlısının 2 adet ayağı bulunur.\n",
      "kedi canlısının 4 adet ayağı bulunur.\n",
      "örümcek canlısının 8 adet ayağı bulunur.\n"
     ]
    }
   ],
   "source": [
    "d4 = {\"insan\":2, \"kedi\":4, \"örümcek\":8}\n",
    "\n",
    "for i,ayak in d4.items():\n",
    "  print(str(i) + \" canlısının \" + str(ayak) +\" adet ayağı bulunur.\")"
   ]
  },
  {
   "cell_type": "code",
   "execution_count": 145,
   "metadata": {
    "colab": {},
    "colab_type": "code",
    "id": "SZia6YVqwfNU"
   },
   "outputs": [],
   "source": [
    "ilceler = {\"İstanbul\":[\"Bostancı\", \"Beşiktaş\", \"Kadıköy\"], \n",
    "           \"Ankara\":[\"Çankaya\", \"Gölbaşı\", \"Kızılcahamam\"],\n",
    "           \"İzmir\":[\"Çeşme\",\"Bornova\",\"Foça\"]}"
   ]
  },
  {
   "cell_type": "code",
   "execution_count": 146,
   "metadata": {
    "colab": {
     "base_uri": "https://localhost:8080/",
     "height": 35
    },
    "colab_type": "code",
    "id": "4HyiNDwcwfAD",
    "outputId": "a86d855c-34d6-4fc9-8e7e-41e9a86886d5"
   },
   "outputs": [
    {
     "data": {
      "text/plain": [
       "['Bostancı', 'Beşiktaş', 'Kadıköy']"
      ]
     },
     "execution_count": 146,
     "metadata": {
      "tags": []
     },
     "output_type": "execute_result"
    }
   ],
   "source": [
    "ilceler[\"İstanbul\"]"
   ]
  },
  {
   "cell_type": "code",
   "execution_count": 147,
   "metadata": {
    "colab": {
     "base_uri": "https://localhost:8080/",
     "height": 35
    },
    "colab_type": "code",
    "id": "CMpXSAUuxmmB",
    "outputId": "38b5e335-106e-42b7-c858-ce434d89d35e"
   },
   "outputs": [
    {
     "data": {
      "text/plain": [
       "dict"
      ]
     },
     "execution_count": 147,
     "metadata": {
      "tags": []
     },
     "output_type": "execute_result"
    }
   ],
   "source": [
    "type(ilceler)"
   ]
  },
  {
   "cell_type": "code",
   "execution_count": 148,
   "metadata": {
    "colab": {
     "base_uri": "https://localhost:8080/",
     "height": 35
    },
    "colab_type": "code",
    "id": "yOyreuu_xqgL",
    "outputId": "87123a0c-a302-4bd5-a654-8068fd82540d"
   },
   "outputs": [
    {
     "data": {
      "text/plain": [
       "list"
      ]
     },
     "execution_count": 148,
     "metadata": {
      "tags": []
     },
     "output_type": "execute_result"
    }
   ],
   "source": [
    "type(ilceler[\"Ankara\"])"
   ]
  },
  {
   "cell_type": "code",
   "execution_count": 149,
   "metadata": {
    "colab": {
     "base_uri": "https://localhost:8080/",
     "height": 36
    },
    "colab_type": "code",
    "id": "jTxblvirxu9I",
    "outputId": "d36d9562-0810-4db1-9518-22c5345cae09"
   },
   "outputs": [
    {
     "data": {
      "application/vnd.google.colaboratory.intrinsic+json": {
       "type": "string"
      },
      "text/plain": [
       "'Çeşme'"
      ]
     },
     "execution_count": 149,
     "metadata": {
      "tags": []
     },
     "output_type": "execute_result"
    }
   ],
   "source": [
    "ilceler[\"İzmir\"][0]"
   ]
  },
  {
   "cell_type": "code",
   "execution_count": 150,
   "metadata": {
    "colab": {
     "base_uri": "https://localhost:8080/",
     "height": 36
    },
    "colab_type": "code",
    "id": "b2gxQlCvyMcq",
    "outputId": "6aaa7b71-8b1c-4ea7-e638-5e4ea791648d"
   },
   "outputs": [
    {
     "data": {
      "application/vnd.google.colaboratory.intrinsic+json": {
       "type": "string"
      },
      "text/plain": [
       "'Foça'"
      ]
     },
     "execution_count": 150,
     "metadata": {
      "tags": []
     },
     "output_type": "execute_result"
    }
   ],
   "source": [
    "ilceler[\"İzmir\"][2]"
   ]
  },
  {
   "cell_type": "markdown",
   "metadata": {
    "colab_type": "text",
    "id": "9whjWWUdJktn"
   },
   "source": [
    "## Sözlükler ( Dictionaries )"
   ]
  },
  {
   "cell_type": "code",
   "execution_count": 115,
   "metadata": {
    "colab": {},
    "colab_type": "code",
    "id": "X6fvhH0_Jktn"
   },
   "outputs": [
    {
     "name": "stdout",
     "output_type": "stream",
     "text": [
      "{'Elma': 'Apple', 'Armut': 'Pear', 'Tilki': 'Fox'}\n"
     ]
    }
   ],
   "source": [
    "sozluk = {}\n",
    "sozluk = dict()\n",
    "\n",
    "sozluk['Elma'] = 'Apple'\n",
    "sozluk['Armut'] = 'Pear'\n",
    "sozluk['Tilki'] = 'Fox'\n",
    "\n",
    "print(sozluk)"
   ]
  },
  {
   "cell_type": "code",
   "execution_count": 116,
   "metadata": {
    "colab": {},
    "colab_type": "code",
    "id": "YxJd-yx4Jktp"
   },
   "outputs": [
    {
     "name": "stdout",
     "output_type": "stream",
     "text": [
      "dict_keys(['Elma', 'Armut', 'Tilki'])\n",
      "dict_values(['Apple', 'Pear', 'Fox'])\n"
     ]
    }
   ],
   "source": [
    "sozluk_keys = sozluk.keys()\n",
    "print(sozluk_keys)\n",
    "\n",
    "sozluk_values = sozluk.values()\n",
    "print(sozluk_values)"
   ]
  },
  {
   "cell_type": "code",
   "execution_count": 117,
   "metadata": {
    "colab": {},
    "colab_type": "code",
    "id": "eLn08kZQJktq"
   },
   "outputs": [
    {
     "name": "stdout",
     "output_type": "stream",
     "text": [
      "dict_items([('Elma', 'Apple'), ('Armut', 'Pear'), ('Tilki', 'Fox')])\n",
      "Elma Apple\n",
      "Armut Pear\n",
      "Tilki Fox\n"
     ]
    }
   ],
   "source": [
    "\"\"\"\n",
    "for key in sozluk.keys():\n",
    "    pass\n",
    "    \n",
    "for value in sozluk.values():\n",
    "    pass\n",
    "\"\"\"\n",
    "print(sozluk.items())\n",
    "for key, value in sozluk.items():\n",
    "    print(key, value)"
   ]
  },
  {
   "cell_type": "code",
   "execution_count": 118,
   "metadata": {
    "colab": {},
    "colab_type": "code",
    "id": "lXG5JnSTJktr"
   },
   "outputs": [
    {
     "name": "stdout",
     "output_type": "stream",
     "text": [
      "Pear\n"
     ]
    },
    {
     "ename": "KeyError",
     "evalue": "'Üzüm'",
     "output_type": "error",
     "traceback": [
      "\u001b[1;31m---------------------------------------------------------------------------\u001b[0m",
      "\u001b[1;31mKeyError\u001b[0m                                  Traceback (most recent call last)",
      "\u001b[1;32m<ipython-input-118-7a29f718c7cd>\u001b[0m in \u001b[0;36m<module>\u001b[1;34m\u001b[0m\n\u001b[0;32m      1\u001b[0m \u001b[0mprint\u001b[0m\u001b[1;33m(\u001b[0m\u001b[0msozluk\u001b[0m\u001b[1;33m[\u001b[0m\u001b[1;34m'Armut'\u001b[0m\u001b[1;33m]\u001b[0m\u001b[1;33m)\u001b[0m\u001b[1;33m\u001b[0m\u001b[1;33m\u001b[0m\u001b[0m\n\u001b[1;32m----> 2\u001b[1;33m \u001b[0mprint\u001b[0m\u001b[1;33m(\u001b[0m\u001b[0msozluk\u001b[0m\u001b[1;33m[\u001b[0m\u001b[1;34m'Üzüm'\u001b[0m\u001b[1;33m]\u001b[0m\u001b[1;33m)\u001b[0m\u001b[1;33m\u001b[0m\u001b[1;33m\u001b[0m\u001b[0m\n\u001b[0m",
      "\u001b[1;31mKeyError\u001b[0m: 'Üzüm'"
     ]
    }
   ],
   "source": [
    "print(sozluk['Armut'])\n",
    "print(sozluk['Üzüm'])"
   ]
  },
  {
   "cell_type": "code",
   "execution_count": 119,
   "metadata": {
    "colab": {},
    "colab_type": "code",
    "id": "zuETRKKKJktr"
   },
   "outputs": [
    {
     "name": "stdout",
     "output_type": "stream",
     "text": [
      "None\n"
     ]
    }
   ],
   "source": [
    "print(sozluk.get('ÜzümÜ'))"
   ]
  },
  {
   "cell_type": "code",
   "execution_count": 120,
   "metadata": {
    "colab": {},
    "colab_type": "code",
    "id": "vq5Nm1vMJktt"
   },
   "outputs": [
    {
     "data": {
      "text/plain": [
       "'Apple'"
      ]
     },
     "execution_count": 120,
     "metadata": {},
     "output_type": "execute_result"
    }
   ],
   "source": [
    "sozluk.setdefault('Elma', 'Malus')"
   ]
  },
  {
   "cell_type": "code",
   "execution_count": 121,
   "metadata": {
    "colab": {},
    "colab_type": "code",
    "id": "pRETlCp_Jktt"
   },
   "outputs": [
    {
     "data": {
      "text/plain": [
       "'Grape'"
      ]
     },
     "execution_count": 121,
     "metadata": {},
     "output_type": "execute_result"
    }
   ],
   "source": [
    "sozluk.setdefault('Üzüm', 'Grape')\n"
   ]
  },
  {
   "cell_type": "markdown",
   "metadata": {
    "colab_type": "text",
    "id": "sp_E8xAhG21y"
   },
   "source": [
    "# Demetler(Tuples)\n",
    "\n",
    "\n",
    "\n",
    "*   Sıralı veri yapısıdır, listeler gibi index değerine sahiptir, tüm veri tiplerini içerisinde barındırabilir. \n",
    "*   Listelerden farklı olarak, değiştirilemeyen bir yapıları vardır.Elimizde birden fazla değiştirilemez değerimiz var ise, bunları bir demet içinde toplayabiliriz.\n",
    "\n"
   ]
  },
  {
   "cell_type": "code",
   "execution_count": 167,
   "metadata": {
    "colab": {
     "base_uri": "https://localhost:8080/",
     "height": 52
    },
    "colab_type": "code",
    "id": "8Rui2302H8jD",
    "outputId": "c925805c-b8c6-48bd-ce59-62df117086be"
   },
   "outputs": [
    {
     "name": "stdout",
     "output_type": "stream",
     "text": [
      "(1, 2, 3, 4, 5)\n",
      "<class 'tuple'>\n"
     ]
    }
   ],
   "source": [
    "demet = (1,2,3,4,5)\n",
    "print(demet)\n",
    "print(type(demet))"
   ]
  },
  {
   "cell_type": "code",
   "execution_count": 168,
   "metadata": {
    "colab": {
     "base_uri": "https://localhost:8080/",
     "height": 35
    },
    "colab_type": "code",
    "id": "wZffTxPsIqqI",
    "outputId": "e043064f-a416-46bd-adcc-9f739ff992f9"
   },
   "outputs": [
    {
     "data": {
      "text/plain": [
       "tuple"
      ]
     },
     "execution_count": 168,
     "metadata": {
      "tags": []
     },
     "output_type": "execute_result"
    }
   ],
   "source": [
    "demet2 = ()  #boş bir listeyi de, liste = [] olarak tanımlayabiliyorduk.\n",
    "type(demet2)"
   ]
  },
  {
   "cell_type": "code",
   "execution_count": 169,
   "metadata": {
    "colab": {
     "base_uri": "https://localhost:8080/",
     "height": 35
    },
    "colab_type": "code",
    "id": "IrvB1HzGLYBZ",
    "outputId": "dab4ddd5-3799-493f-c314-8f71b67320b8"
   },
   "outputs": [
    {
     "name": "stdout",
     "output_type": "stream",
     "text": [
      "4\n"
     ]
    }
   ],
   "source": [
    "print(demet[3])"
   ]
  },
  {
   "cell_type": "code",
   "execution_count": 170,
   "metadata": {
    "colab": {
     "base_uri": "https://localhost:8080/",
     "height": 35
    },
    "colab_type": "code",
    "id": "y_9FkBJORo5y",
    "outputId": "ec7d4abf-777d-4363-c014-9b5ed5c69101"
   },
   "outputs": [
    {
     "data": {
      "text/plain": [
       "4"
      ]
     },
     "execution_count": 170,
     "metadata": {
      "tags": []
     },
     "output_type": "execute_result"
    }
   ],
   "source": [
    "demet[-2]"
   ]
  },
  {
   "cell_type": "code",
   "execution_count": 171,
   "metadata": {
    "colab": {
     "base_uri": "https://localhost:8080/",
     "height": 35
    },
    "colab_type": "code",
    "id": "ZPMFZi-qRs4a",
    "outputId": "7b3703ec-141d-4ba4-9a4c-d48e3c9ce5d6"
   },
   "outputs": [
    {
     "data": {
      "text/plain": [
       "(1, 2, 3, 4)"
      ]
     },
     "execution_count": 171,
     "metadata": {
      "tags": []
     },
     "output_type": "execute_result"
    }
   ],
   "source": [
    "demet[:4]"
   ]
  },
  {
   "cell_type": "code",
   "execution_count": 172,
   "metadata": {
    "colab": {
     "base_uri": "https://localhost:8080/",
     "height": 35
    },
    "colab_type": "code",
    "id": "TeT5RXH1R6Gv",
    "outputId": "94499c40-f15e-4f5d-8c59-f68470a8ca10"
   },
   "outputs": [
    {
     "data": {
      "text/plain": [
       "3"
      ]
     },
     "execution_count": 172,
     "metadata": {
      "tags": []
     },
     "output_type": "execute_result"
    }
   ],
   "source": [
    "dm3 = (\"gizem\", 5, 8, \"eylul\")\n",
    "dm3.index(\"eylul\")"
   ]
  },
  {
   "cell_type": "code",
   "execution_count": 173,
   "metadata": {
    "colab": {
     "base_uri": "https://localhost:8080/",
     "height": 35
    },
    "colab_type": "code",
    "id": "wRks9wXwSRhJ",
    "outputId": "03b8bf14-973e-4413-c16d-60b29f14d26e"
   },
   "outputs": [
    {
     "data": {
      "text/plain": [
       "1"
      ]
     },
     "execution_count": 173,
     "metadata": {
      "tags": []
     },
     "output_type": "execute_result"
    }
   ],
   "source": [
    "dm3.count(5)"
   ]
  },
  {
   "cell_type": "code",
   "execution_count": 13,
   "metadata": {
    "colab": {
     "base_uri": "https://localhost:8080/",
     "height": 239
    },
    "colab_type": "code",
    "id": "Bo_JC5jkSWMf",
    "outputId": "c8777e9c-074f-42d5-9e72-bf7c154eb653"
   },
   "outputs": [
    {
     "ename": "TypeError",
     "evalue": "'tuple' object does not support item assignment",
     "output_type": "error",
     "traceback": [
      "\u001b[0;31m---------------------------------------------------------------------------\u001b[0m",
      "\u001b[0;31mTypeError\u001b[0m                                 Traceback (most recent call last)",
      "\u001b[0;32m<ipython-input-13-0ea4e2bfcadd>\u001b[0m in \u001b[0;36m<module>\u001b[0;34m\u001b[0m\n\u001b[1;32m      1\u001b[0m \u001b[0mdm4\u001b[0m \u001b[0;34m=\u001b[0m \u001b[0;34m(\u001b[0m\u001b[0;34m\"elma\"\u001b[0m\u001b[0;34m,\u001b[0m\u001b[0;34m\"armut\"\u001b[0m\u001b[0;34m,\u001b[0m\u001b[0;34m\"çilek\"\u001b[0m\u001b[0;34m)\u001b[0m\u001b[0;34m\u001b[0m\u001b[0;34m\u001b[0m\u001b[0m\n\u001b[1;32m      2\u001b[0m \u001b[0;34m\u001b[0m\u001b[0m\n\u001b[0;32m----> 3\u001b[0;31m \u001b[0mdm4\u001b[0m\u001b[0;34m[\u001b[0m\u001b[0;36m0\u001b[0m\u001b[0;34m]\u001b[0m \u001b[0;34m=\u001b[0m \u001b[0;34m\"kiraz\"\u001b[0m\u001b[0;34m\u001b[0m\u001b[0;34m\u001b[0m\u001b[0m\n\u001b[0m",
      "\u001b[0;31mTypeError\u001b[0m: 'tuple' object does not support item assignment"
     ]
    }
   ],
   "source": [
    "dm4 = (\"elma\",\"armut\",\"çilek\")\n",
    "\n",
    "dm4[0] = \"kiraz\""
   ]
  },
  {
   "cell_type": "code",
   "execution_count": 175,
   "metadata": {
    "colab": {
     "base_uri": "https://localhost:8080/",
     "height": 168
    },
    "colab_type": "code",
    "id": "twLyvUivSoBr",
    "outputId": "492c221c-2c88-4774-b16d-7f3040ccaa70"
   },
   "outputs": [
    {
     "ename": "AttributeError",
     "evalue": "ignored",
     "output_type": "error",
     "traceback": [
      "\u001b[0;31m---------------------------------------------------------------------------\u001b[0m",
      "\u001b[0;31mAttributeError\u001b[0m                            Traceback (most recent call last)",
      "\u001b[0;32m<ipython-input-175-85e9113c16c3>\u001b[0m in \u001b[0;36m<module>\u001b[0;34m()\u001b[0m\n\u001b[0;32m----> 1\u001b[0;31m \u001b[0mdm4\u001b[0m\u001b[0;34m.\u001b[0m\u001b[0mremove\u001b[0m\u001b[0;34m(\u001b[0m\u001b[0;34m\"armut\"\u001b[0m\u001b[0;34m)\u001b[0m\u001b[0;34m\u001b[0m\u001b[0;34m\u001b[0m\u001b[0m\n\u001b[0m",
      "\u001b[0;31mAttributeError\u001b[0m: 'tuple' object has no attribute 'remove'"
     ]
    }
   ],
   "source": [
    "dm4.remove(\"armut\")"
   ]
  },
  {
   "cell_type": "markdown",
   "metadata": {
    "colab_type": "text",
    "id": "R2cdGsXhJktM"
   },
   "source": [
    "## Listeler ve Demetler ( Lists and Tuples )"
   ]
  },
  {
   "cell_type": "code",
   "execution_count": 91,
   "metadata": {
    "colab": {},
    "colab_type": "code",
    "id": "0c-YarJsJktM",
    "scrolled": true
   },
   "outputs": [
    {
     "name": "stdout",
     "output_type": "stream",
     "text": [
      "[] 0\n",
      "[10] 1\n",
      "[10, 20, 30, 40] 4\n"
     ]
    }
   ],
   "source": [
    "liste1 = []\n",
    "liste1 = list()\n",
    "print(liste1, len(liste1))\n",
    "\n",
    "liste1.append(10)\n",
    "print(liste1, len(liste1))\n",
    "\n",
    "liste1.append(20)\n",
    "liste1.append(30)\n",
    "liste1.append(40)\n",
    "print(liste1, len(liste1))"
   ]
  },
  {
   "cell_type": "code",
   "execution_count": 92,
   "metadata": {
    "colab": {},
    "colab_type": "code",
    "id": "85ZD6NSGJktN"
   },
   "outputs": [
    {
     "name": "stdout",
     "output_type": "stream",
     "text": [
      "10\n",
      "30\n",
      "40\n",
      "[40, 30, 20, 10]\n"
     ]
    }
   ],
   "source": [
    "print(liste1[0])\n",
    "print(liste1[2])\n",
    "print(liste1[-1])\n",
    "\n",
    "#liste[başlangıç: bitiş: artış]\n",
    "print(liste1[::-1])"
   ]
  },
  {
   "cell_type": "code",
   "execution_count": 93,
   "metadata": {
    "colab": {},
    "colab_type": "code",
    "id": "GV9zQUhzJktO"
   },
   "outputs": [
    {
     "name": "stdout",
     "output_type": "stream",
     "text": [
      "[10, 20, 30, 40, 100]\n"
     ]
    }
   ],
   "source": [
    "liste1.insert(5, 100)\n",
    "print(liste1)"
   ]
  },
  {
   "cell_type": "code",
   "execution_count": 94,
   "metadata": {
    "colab": {},
    "colab_type": "code",
    "id": "iswTCZO_JktP"
   },
   "outputs": [
    {
     "name": "stdout",
     "output_type": "stream",
     "text": [
      "[10, 20, 30, 40]\n"
     ]
    }
   ],
   "source": [
    "liste1.pop()\n",
    "print(liste1)"
   ]
  },
  {
   "cell_type": "code",
   "execution_count": 95,
   "metadata": {
    "colab": {},
    "colab_type": "code",
    "id": "qmDW_vdVJktR"
   },
   "outputs": [
    {
     "name": "stdout",
     "output_type": "stream",
     "text": [
      "[20, 30, 40] 10\n"
     ]
    }
   ],
   "source": [
    "silinen = liste1.pop(0)\n",
    "print(liste1, silinen)"
   ]
  },
  {
   "cell_type": "code",
   "execution_count": 96,
   "metadata": {
    "colab": {},
    "colab_type": "code",
    "id": "Blji52wAJktR"
   },
   "outputs": [
    {
     "name": "stdout",
     "output_type": "stream",
     "text": [
      "[20, 40]\n"
     ]
    }
   ],
   "source": [
    "liste1.remove(30)\n",
    "print(liste1)"
   ]
  },
  {
   "cell_type": "code",
   "execution_count": 97,
   "metadata": {
    "colab": {},
    "colab_type": "code",
    "id": "nFIyZkc6JktS"
   },
   "outputs": [
    {
     "name": "stdout",
     "output_type": "stream",
     "text": [
      "[2, 0, 1, 7] [4, 3, 2, 8]\n",
      "[2, 0, 1, 7, 4, 3, 2, 8]\n"
     ]
    }
   ],
   "source": [
    "liste1 = [2, 0, 1, 7]\n",
    "liste2 = [4, 3, 2, 8]\n",
    "print(liste1, liste2)\n",
    "\n",
    "liste1.extend(liste2)\n",
    "print(liste1)"
   ]
  },
  {
   "cell_type": "code",
   "execution_count": 98,
   "metadata": {
    "colab": {},
    "colab_type": "code",
    "id": "mtY-opU2JktT"
   },
   "outputs": [
    {
     "name": "stdout",
     "output_type": "stream",
     "text": [
      "[0, 1, 2, 2, 3, 4, 7, 8]\n"
     ]
    }
   ],
   "source": [
    "liste1 = sorted(liste1)\n",
    "print(liste1)"
   ]
  },
  {
   "cell_type": "code",
   "execution_count": 99,
   "metadata": {
    "colab": {},
    "colab_type": "code",
    "id": "iWKGSMNrJktX"
   },
   "outputs": [
    {
     "name": "stdout",
     "output_type": "stream",
     "text": [
      "[0, 1, 2, 2, 3, 4, 7, 8]\n"
     ]
    }
   ],
   "source": [
    "liste1.sort()\n",
    "print(liste1)"
   ]
  },
  {
   "cell_type": "code",
   "execution_count": 101,
   "metadata": {
    "colab": {},
    "colab_type": "code",
    "id": "ZiU2q5dkJktY"
   },
   "outputs": [
    {
     "name": "stdout",
     "output_type": "stream",
     "text": [
      "Aranacak kelime:Armut\n",
      "1\n"
     ]
    }
   ],
   "source": [
    "liste1 = [\"Elma\", \"Armut\", \"Tilki\", \"Kuş\", \"Armut\", \"Çiçek\"]\n",
    "index = liste1.index(input(\"Aranacak kelime:\"))\n",
    "print(index)"
   ]
  },
  {
   "cell_type": "code",
   "execution_count": 102,
   "metadata": {
    "colab": {},
    "colab_type": "code",
    "id": "7NIlPY-fJktZ"
   },
   "outputs": [
    {
     "name": "stdout",
     "output_type": "stream",
     "text": [
      "Sayısını bulunacak kelime:Armut\n",
      "2\n"
     ]
    }
   ],
   "source": [
    "liste1 = [\"Elma\", \"Armut\", \"Tilki\", \"Kuş\", \"Armut\", \"Çiçek\"]\n",
    "sayaç = liste1.count(input(\"Sayısını bulunacak kelime:\"))\n",
    "print(sayaç)"
   ]
  },
  {
   "cell_type": "code",
   "execution_count": 103,
   "metadata": {
    "colab": {},
    "colab_type": "code",
    "id": "P73rgRh5Jkta"
   },
   "outputs": [
    {
     "name": "stdout",
     "output_type": "stream",
     "text": [
      "['Elma', 'Armut', 'Tilki', 'Kuş', 'Armut', 'Çiçek']\n"
     ]
    }
   ],
   "source": [
    "yeni_liste = liste1\n",
    "print(yeni_liste)"
   ]
  },
  {
   "cell_type": "code",
   "execution_count": 105,
   "metadata": {
    "colab": {},
    "colab_type": "code",
    "id": "G3pXgkgfJktb"
   },
   "outputs": [
    {
     "name": "stdout",
     "output_type": "stream",
     "text": [
      "['Muz', 'Armut', 'Tilki', 'Kuş', 'Armut', 'Çiçek']\n",
      "['Muz', 'Armut', 'Tilki', 'Kuş', 'Armut', 'Çiçek']\n",
      "1976364775048\n",
      "1976364775048\n"
     ]
    }
   ],
   "source": [
    "yeni_liste[0] = \"Muz\"\n",
    "print(yeni_liste)\n",
    "print(liste1)\n",
    "\n",
    "print(id(yeni_liste))\n",
    "print(id(liste1))"
   ]
  },
  {
   "cell_type": "code",
   "execution_count": 106,
   "metadata": {
    "colab": {},
    "colab_type": "code",
    "id": "OfbK-RcJJktc"
   },
   "outputs": [],
   "source": [
    "liste1 = [\"Elma\", \"Armut\", \"Tilki\", \"Kuş\", \"Armut\", \"Çiçek\"]\n",
    "yeni_liste = liste1.copy()"
   ]
  },
  {
   "cell_type": "code",
   "execution_count": 107,
   "metadata": {
    "colab": {},
    "colab_type": "code",
    "id": "82GNZr_pJktd"
   },
   "outputs": [
    {
     "name": "stdout",
     "output_type": "stream",
     "text": [
      "['Muz', 'Armut', 'Tilki', 'Kuş', 'Armut', 'Çiçek']\n",
      "['Elma', 'Armut', 'Tilki', 'Kuş', 'Armut', 'Çiçek']\n",
      "1976364777160\n",
      "1976365493064\n"
     ]
    }
   ],
   "source": [
    "yeni_liste[0] = \"Muz\"\n",
    "print(yeni_liste)\n",
    "print(liste1)\n",
    "\n",
    "print(id(yeni_liste))\n",
    "print(id(liste1))"
   ]
  },
  {
   "cell_type": "code",
   "execution_count": 108,
   "metadata": {
    "colab": {},
    "colab_type": "code",
    "id": "Gwn-FJsGJkte"
   },
   "outputs": [],
   "source": [
    "liste3 = [\"John\", 1, \"Doe\", 2.56, \"Oğuz\", (55+5j), \"ATAY\"]"
   ]
  },
  {
   "cell_type": "code",
   "execution_count": 109,
   "metadata": {
    "colab": {},
    "colab_type": "code",
    "id": "llU04U0DJktf"
   },
   "outputs": [
    {
     "name": "stdout",
     "output_type": "stream",
     "text": [
      "John <class 'str'>\n",
      "1 <class 'int'>\n",
      "Doe <class 'str'>\n",
      "2.56 <class 'float'>\n",
      "Oğuz <class 'str'>\n",
      "(55+5j) <class 'complex'>\n",
      "ATAY <class 'str'>\n"
     ]
    }
   ],
   "source": [
    "for i in liste3:\n",
    "    print(i, type(i))"
   ]
  },
  {
   "cell_type": "code",
   "execution_count": 110,
   "metadata": {
    "colab": {},
    "colab_type": "code",
    "id": "LPNLqjqJJktg"
   },
   "outputs": [
    {
     "name": "stdout",
     "output_type": "stream",
     "text": [
      "1 2 3 4 \n",
      "9 8 7 6 \n",
      "0 6 5 2 \n"
     ]
    }
   ],
   "source": [
    "matrix = [\n",
    "    [1, 2, 3, 4],\n",
    "    [9, 8, 7, 6],\n",
    "    [0, 6, 5, 2]\n",
    "]\n",
    "\n",
    "for satır in matrix:\n",
    "    for sütun in satır:\n",
    "        print(sütun, end=\" \")\n",
    "    print()"
   ]
  },
  {
   "cell_type": "code",
   "execution_count": 111,
   "metadata": {
    "colab": {},
    "colab_type": "code",
    "id": "5DymGnTAJkth",
    "scrolled": true
   },
   "outputs": [
    {
     "name": "stdout",
     "output_type": "stream",
     "text": [
      "2\n",
      "1\n",
      "Help on tuple object:\n",
      "\n",
      "class tuple(object)\n",
      " |  tuple(iterable=(), /)\n",
      " |  \n",
      " |  Built-in immutable sequence.\n",
      " |  \n",
      " |  If no argument is given, the constructor returns an empty tuple.\n",
      " |  If iterable is specified the tuple is initialized from iterable's items.\n",
      " |  \n",
      " |  If the argument is a tuple, the return value is the same object.\n",
      " |  \n",
      " |  Methods defined here:\n",
      " |  \n",
      " |  __add__(self, value, /)\n",
      " |      Return self+value.\n",
      " |  \n",
      " |  __contains__(self, key, /)\n",
      " |      Return key in self.\n",
      " |  \n",
      " |  __eq__(self, value, /)\n",
      " |      Return self==value.\n",
      " |  \n",
      " |  __ge__(self, value, /)\n",
      " |      Return self>=value.\n",
      " |  \n",
      " |  __getattribute__(self, name, /)\n",
      " |      Return getattr(self, name).\n",
      " |  \n",
      " |  __getitem__(self, key, /)\n",
      " |      Return self[key].\n",
      " |  \n",
      " |  __getnewargs__(self, /)\n",
      " |  \n",
      " |  __gt__(self, value, /)\n",
      " |      Return self>value.\n",
      " |  \n",
      " |  __hash__(self, /)\n",
      " |      Return hash(self).\n",
      " |  \n",
      " |  __iter__(self, /)\n",
      " |      Implement iter(self).\n",
      " |  \n",
      " |  __le__(self, value, /)\n",
      " |      Return self<=value.\n",
      " |  \n",
      " |  __len__(self, /)\n",
      " |      Return len(self).\n",
      " |  \n",
      " |  __lt__(self, value, /)\n",
      " |      Return self<value.\n",
      " |  \n",
      " |  __mul__(self, value, /)\n",
      " |      Return self*value.\n",
      " |  \n",
      " |  __ne__(self, value, /)\n",
      " |      Return self!=value.\n",
      " |  \n",
      " |  __repr__(self, /)\n",
      " |      Return repr(self).\n",
      " |  \n",
      " |  __rmul__(self, value, /)\n",
      " |      Return value*self.\n",
      " |  \n",
      " |  count(self, value, /)\n",
      " |      Return number of occurrences of value.\n",
      " |  \n",
      " |  index(self, value, start=0, stop=9223372036854775807, /)\n",
      " |      Return first index of value.\n",
      " |      \n",
      " |      Raises ValueError if the value is not present.\n",
      " |  \n",
      " |  ----------------------------------------------------------------------\n",
      " |  Static methods defined here:\n",
      " |  \n",
      " |  __new__(*args, **kwargs) from builtins.type\n",
      " |      Create and return a new object.  See help(type) for accurate signature.\n",
      "\n"
     ]
    }
   ],
   "source": [
    "demet = ()\n",
    "demet = tuple()\n",
    "demet = (10, 20, 25, 30, 35, 40, 35)\n",
    "\n",
    "index = demet.index(25)\n",
    "print(index)\n",
    "\n",
    "sayaç = demet.count(20)\n",
    "print(sayaç)\n",
    "\n",
    "help(tuple())"
   ]
  },
  {
   "cell_type": "markdown",
   "metadata": {
    "colab_type": "text",
    "id": "vcwht9vhJktw"
   },
   "source": [
    "## Kümeler ve Dondurulmuş Kümeler ( Sets and Frozensets )"
   ]
  },
  {
   "cell_type": "code",
   "execution_count": 122,
   "metadata": {
    "colab": {},
    "colab_type": "code",
    "id": "ADdrGsvcJktw"
   },
   "outputs": [
    {
     "name": "stdout",
     "output_type": "stream",
     "text": [
      "{1, 2, 3}\n"
     ]
    }
   ],
   "source": [
    "küme = set()\n",
    "\n",
    "küme.add(1)\n",
    "küme.add(2)\n",
    "küme.add(3)\n",
    "küme.add(3)\n",
    "küme.add(3)\n",
    "küme.add(2)\n",
    "\n",
    "print(küme)"
   ]
  },
  {
   "cell_type": "code",
   "execution_count": 123,
   "metadata": {
    "colab": {},
    "colab_type": "code",
    "id": "g0IqVQc0Jktx"
   },
   "outputs": [
    {
     "name": "stdout",
     "output_type": "stream",
     "text": [
      "{0, 1, 2, 3, 4, 5, 10, 12}\n"
     ]
    }
   ],
   "source": [
    "liste = [10, 12, 1, 0, 2, 3, 4, 4, 2, 3, 0, 2, 1, 5]\n",
    "küme = set(liste)\n",
    "\n",
    "print(küme)"
   ]
  },
  {
   "cell_type": "code",
   "execution_count": 124,
   "metadata": {
    "colab": {},
    "colab_type": "code",
    "id": "BG4yCaSjJkty"
   },
   "outputs": [
    {
     "name": "stdout",
     "output_type": "stream",
     "text": [
      "{0, 1, 2, 3, 4, 5, 12}\n"
     ]
    }
   ],
   "source": [
    "küme.remove(10)\n",
    "print(küme)"
   ]
  },
  {
   "cell_type": "code",
   "execution_count": 125,
   "metadata": {
    "colab": {},
    "colab_type": "code",
    "id": "mEKKQxVdJktz"
   },
   "outputs": [
    {
     "name": "stdout",
     "output_type": "stream",
     "text": [
      "Kesişim kümesi:  {50, 30}\n",
      "Birleşim kümesi:  {100, 10, 50, 20, 90, 30}\n",
      "Küme1:  {10, 100, 50, 30}\n"
     ]
    }
   ],
   "source": [
    "liste1 = [10, 100, 50, 30]\n",
    "liste2 = [20, 50, 90, 30]\n",
    "\n",
    "küme1 = set(liste1)\n",
    "küme2 = set(liste2)\n",
    "\n",
    "print(\"Kesişim kümesi: \", küme1.intersection(küme2))\n",
    "print(\"Birleşim kümesi: \", küme1.union(küme2))\n",
    "print(\"Küme1: \", küme1)"
   ]
  },
  {
   "cell_type": "markdown",
   "metadata": {
    "colab_type": "text",
    "id": "Ak4uMk3pzHZI"
   },
   "source": [
    "# Kümeler (Sets)\n",
    "\n",
    "\n",
    "*   Bir küme, listelerden farklı olarak, belli bir sırası bulunmayan bir veri topluluğudur; elemanlarına indexleme ile erişilemez.\n",
    "*   Tıpkı matematiksel kümeler gibi, aynı elemandan birden fazla barındıramaz. \n",
    "\n",
    "*   Kümeler içerisine bir öğe ancak bir defa eklenebilir. Yani bir küme iki\n",
    "aynı elemana sahip olamaz.\n",
    "*   Boş küme oluşturmak için set() fonksiyonunu kullanıyoruz.\n",
    "\n",
    "\n",
    "\n",
    "\n",
    "\n"
   ]
  },
  {
   "cell_type": "code",
   "execution_count": 152,
   "metadata": {
    "colab": {
     "base_uri": "https://localhost:8080/",
     "height": 35
    },
    "colab_type": "code",
    "id": "QgZuDyx3yvn9",
    "outputId": "5661fe2b-3797-4b21-f74f-a5d733a64ad0"
   },
   "outputs": [
    {
     "data": {
      "text/plain": [
       "{5, 6, 8, 'abc', 'python'}"
      ]
     },
     "execution_count": 152,
     "metadata": {
      "tags": []
     },
     "output_type": "execute_result"
    }
   ],
   "source": [
    "s = {\"python\", 5,6,8,5,6,\"abc\", \"python\"}\n",
    "s"
   ]
  },
  {
   "cell_type": "code",
   "execution_count": 154,
   "metadata": {
    "colab": {
     "base_uri": "https://localhost:8080/",
     "height": 35
    },
    "colab_type": "code",
    "id": "KmzyF9b--0Ci",
    "outputId": "0fd6f24f-f616-40e2-da1e-ea76843cbcd7"
   },
   "outputs": [
    {
     "data": {
      "text/plain": [
       "set"
      ]
     },
     "execution_count": 154,
     "metadata": {
      "tags": []
     },
     "output_type": "execute_result"
    }
   ],
   "source": [
    "bos = set()\n",
    "type(bos)"
   ]
  },
  {
   "cell_type": "code",
   "execution_count": 153,
   "metadata": {
    "colab": {
     "base_uri": "https://localhost:8080/",
     "height": 35
    },
    "colab_type": "code",
    "id": "8qLJrT9VAUvf",
    "outputId": "49d3a738-03e5-45f9-a284-eab1cd844848"
   },
   "outputs": [
    {
     "data": {
      "text/plain": [
       "dict"
      ]
     },
     "execution_count": 153,
     "metadata": {
      "tags": []
     },
     "output_type": "execute_result"
    }
   ],
   "source": [
    "bos2 = {}\n",
    "type(bos2)"
   ]
  },
  {
   "cell_type": "code",
   "execution_count": 23,
   "metadata": {
    "colab": {
     "base_uri": "https://localhost:8080/",
     "height": 35
    },
    "colab_type": "code",
    "id": "cH4PCXOhAZpS",
    "outputId": "4de26760-75fc-49bc-dae2-a1b72febd89d"
   },
   "outputs": [
    {
     "name": "stdout",
     "output_type": "stream",
     "text": [
      "{'python', 5, 6, 8, 'abc'}\n"
     ]
    },
    {
     "data": {
      "text/plain": [
       "set"
      ]
     },
     "execution_count": 23,
     "metadata": {},
     "output_type": "execute_result"
    }
   ],
   "source": [
    "s2 = set([\"python\", 5,6,8,5,6,\"abc\", \"python\"])\n",
    "print(s2)\n",
    "type(s2)"
   ]
  },
  {
   "cell_type": "code",
   "execution_count": 21,
   "metadata": {
    "colab": {
     "base_uri": "https://localhost:8080/",
     "height": 52
    },
    "colab_type": "code",
    "id": "TLu1Ec_bA__q",
    "outputId": "589fc732-30b1-4055-c84b-5293450f6eef"
   },
   "outputs": [
    {
     "name": "stdout",
     "output_type": "stream",
     "text": [
      "{'a', 'n', 's'}\n"
     ]
    }
   ],
   "source": [
    "an = set(\"ananas\")\n",
    "print(an)"
   ]
  },
  {
   "cell_type": "code",
   "execution_count": 18,
   "metadata": {
    "colab": {
     "base_uri": "https://localhost:8080/",
     "height": 186
    },
    "colab_type": "code",
    "id": "JEA3fgi7BXBR",
    "outputId": "ffaeb6f0-240c-4dea-a179-4b98c7051dca"
   },
   "outputs": [
    {
     "ename": "TypeError",
     "evalue": "unhashable type: 'list'",
     "output_type": "error",
     "traceback": [
      "\u001b[0;31m---------------------------------------------------------------------------\u001b[0m",
      "\u001b[0;31mTypeError\u001b[0m                                 Traceback (most recent call last)",
      "\u001b[0;32m<ipython-input-18-215d4652bbe6>\u001b[0m in \u001b[0;36m<module>\u001b[0;34m\u001b[0m\n\u001b[0;32m----> 1\u001b[0;31m \u001b[0my\u001b[0m \u001b[0;34m=\u001b[0m \u001b[0;34m{\u001b[0m\u001b[0;34m\"a\"\u001b[0m\u001b[0;34m,\u001b[0m\u001b[0;34m\"b\"\u001b[0m\u001b[0;34m,\u001b[0m\u001b[0;34m[\u001b[0m\u001b[0;36m1\u001b[0m\u001b[0;34m,\u001b[0m\u001b[0;36m2\u001b[0m\u001b[0;34m,\u001b[0m\u001b[0;36m3\u001b[0m\u001b[0;34m]\u001b[0m\u001b[0;34m,\u001b[0m\u001b[0;36m5\u001b[0m\u001b[0;34m,\u001b[0m\u001b[0;36m6\u001b[0m\u001b[0;34m}\u001b[0m\u001b[0;34m\u001b[0m\u001b[0;34m\u001b[0m\u001b[0m\n\u001b[0m\u001b[1;32m      2\u001b[0m \u001b[0mprint\u001b[0m\u001b[0;34m(\u001b[0m\u001b[0my\u001b[0m\u001b[0;34m)\u001b[0m\u001b[0;34m\u001b[0m\u001b[0;34m\u001b[0m\u001b[0m\n",
      "\u001b[0;31mTypeError\u001b[0m: unhashable type: 'list'"
     ]
    }
   ],
   "source": [
    "y = {\"a\",\"b\",[1,2,3],5,6}\n",
    "print(y)"
   ]
  },
  {
   "cell_type": "code",
   "execution_count": 24,
   "metadata": {
    "colab": {
     "base_uri": "https://localhost:8080/",
     "height": 35
    },
    "colab_type": "code",
    "id": "WNZzrXshBy-0",
    "outputId": "7683a43d-ecba-44c9-bb94-c53a70bba02d"
   },
   "outputs": [
    {
     "data": {
      "text/plain": [
       "{5, 6, 8, 'abc', 'python'}"
      ]
     },
     "execution_count": 24,
     "metadata": {},
     "output_type": "execute_result"
    }
   ],
   "source": [
    "s2"
   ]
  },
  {
   "cell_type": "code",
   "execution_count": 25,
   "metadata": {
    "colab": {
     "base_uri": "https://localhost:8080/",
     "height": 35
    },
    "colab_type": "code",
    "id": "k1IVnwKEB0Wn",
    "outputId": "c7eefb52-3522-4954-f90a-b7cdc30e4ee2"
   },
   "outputs": [
    {
     "data": {
      "text/plain": [
       "True"
      ]
     },
     "execution_count": 25,
     "metadata": {},
     "output_type": "execute_result"
    }
   ],
   "source": [
    "6 in s2"
   ]
  },
  {
   "cell_type": "code",
   "execution_count": 26,
   "metadata": {
    "colab": {
     "base_uri": "https://localhost:8080/",
     "height": 35
    },
    "colab_type": "code",
    "id": "GUtmrwfhB2mj",
    "outputId": "d52e785c-6aa7-4397-ed56-a0599cdbe4f5"
   },
   "outputs": [
    {
     "data": {
      "text/plain": [
       "False"
      ]
     },
     "execution_count": 26,
     "metadata": {},
     "output_type": "execute_result"
    }
   ],
   "source": [
    "9 in s2"
   ]
  },
  {
   "cell_type": "code",
   "execution_count": 27,
   "metadata": {
    "colab": {
     "base_uri": "https://localhost:8080/",
     "height": 35
    },
    "colab_type": "code",
    "id": "lPvxuypLB4Pg",
    "outputId": "f13d4e43-966b-4b31-8bdc-12093592e187"
   },
   "outputs": [
    {
     "data": {
      "text/plain": [
       "5"
      ]
     },
     "execution_count": 27,
     "metadata": {},
     "output_type": "execute_result"
    }
   ],
   "source": [
    "len(s2)"
   ]
  },
  {
   "cell_type": "code",
   "execution_count": 28,
   "metadata": {
    "colab": {
     "base_uri": "https://localhost:8080/",
     "height": 35
    },
    "colab_type": "code",
    "id": "wCijI6-vCEj6",
    "outputId": "b59118c9-6059-4002-d1aa-283b6761f5f4"
   },
   "outputs": [
    {
     "data": {
      "text/plain": [
       "{5, 6, 8, 'abc', 'ai', 'python'}"
      ]
     },
     "execution_count": 28,
     "metadata": {},
     "output_type": "execute_result"
    }
   ],
   "source": [
    "s2.add(\"ai\")\n",
    "s2"
   ]
  },
  {
   "cell_type": "code",
   "execution_count": 29,
   "metadata": {
    "colab": {
     "base_uri": "https://localhost:8080/",
     "height": 52
    },
    "colab_type": "code",
    "id": "tPq001PuCLO3",
    "outputId": "82b1466c-46b1-45f9-adc7-6b87b13c6763"
   },
   "outputs": [
    {
     "name": "stdout",
     "output_type": "stream",
     "text": [
      "{'python', 5, 6, 8, 'abc', 'ai'}\n"
     ]
    },
    {
     "data": {
      "text/plain": [
       "6"
      ]
     },
     "execution_count": 29,
     "metadata": {},
     "output_type": "execute_result"
    }
   ],
   "source": [
    "s2.add(\"ai\")\n",
    "print(s2)\n",
    "len(s2)"
   ]
  },
  {
   "cell_type": "code",
   "execution_count": 30,
   "metadata": {
    "colab": {
     "base_uri": "https://localhost:8080/",
     "height": 35
    },
    "colab_type": "code",
    "id": "EGZnvf9WCRYk",
    "outputId": "2d503674-8139-4afc-bbbb-da3515931d25"
   },
   "outputs": [
    {
     "name": "stdout",
     "output_type": "stream",
     "text": [
      "{'python', 5, 6, 8, 'abc'}\n"
     ]
    }
   ],
   "source": [
    "s2.remove(\"ai\")\n",
    "print(s2)"
   ]
  },
  {
   "cell_type": "code",
   "execution_count": 36,
   "metadata": {
    "colab": {
     "base_uri": "https://localhost:8080/",
     "height": 35
    },
    "colab_type": "code",
    "id": "wtZoskbUDQMN",
    "outputId": "effe7b2c-3db1-4a91-9e5e-99f0789e16cd"
   },
   "outputs": [
    {
     "name": "stdout",
     "output_type": "stream",
     "text": [
      "[0.0, 1.0, 1.4142135623730951, 1.7320508075688772, 2.0, 2.23606797749979, 2.449489742783178, 2.6457513110645907, 2.8284271247461903, 3.0]\n"
     ]
    }
   ],
   "source": [
    "from math import sqrt\n",
    "\n",
    "#import math\n",
    "\n",
    "print([sqrt(x) for x in list(range(10))])"
   ]
  }
 ],
 "metadata": {
  "kernelspec": {
   "display_name": "Python 3",
   "language": "python",
   "name": "python3"
  },
  "language_info": {
   "codemirror_mode": {
    "name": "ipython",
    "version": 3
   },
   "file_extension": ".py",
   "mimetype": "text/x-python",
   "name": "python",
   "nbconvert_exporter": "python",
   "pygments_lexer": "ipython3",
   "version": "3.7.3"
  }
 },
 "nbformat": 4,
 "nbformat_minor": 2
}
