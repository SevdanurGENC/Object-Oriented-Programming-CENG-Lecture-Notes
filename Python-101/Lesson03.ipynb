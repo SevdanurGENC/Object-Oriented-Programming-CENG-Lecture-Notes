{
  "cells": [
    {
      "cell_type": "markdown",
      "metadata": {
        "id": "9NqX9G3F8uZQ"
      },
      "source": [
        "# Modüller\n",
        "\n",
        "Bazı işlevleri kolaylıkla yerine getirmemizi sağlayan birtakım fonksiyonları ve nitelikleri içinde barındıran araçlardır. Barındırdığı bu fonksiyonları farklı dosyalar ve programlar içinde tekrar tekrar kullanma imkanı sağlar. Modüller sayesinde Python çok daha kullanışlı ve uygulaması kolay bir dil haline gelmiştir.\n",
        "\n",
        "Python’da herhangi bir modülü kullanabilmek için öncelikle onu ‘içe aktarmamız’ gerekir. İçe aktarmak, bir modül içindeki fonksiyon ve nitelikleri başka bir program içinden kullanılabilir hale getirmek demektir.\n",
        "\n",
        "**import <modül_adı>**"
      ]
    },
    {
      "cell_type": "code",
      "execution_count": 2,
      "metadata": {
        "colab": {
          "base_uri": "https://localhost:8080/"
        },
        "id": "MDmE3VeY2BUv",
        "outputId": "75e5cd8f-e2eb-41fe-e044-b1218f9e78d0"
      },
      "outputs": [
        {
          "output_type": "stream",
          "name": "stdout",
          "text": [
            "Bir tahmin giriniz:50\n",
            "Bir tahmin giriniz:30\n",
            "Daha küçük bir sayı giriniz!!\n",
            "Bir tahmin giriniz:10\n",
            "Daha küçük bir sayı giriniz!!\n",
            "Bir tahmin giriniz:5\n",
            "Daha küçük bir sayı giriniz!!\n",
            "Bir tahmin giriniz:3\n",
            "Tebrikler\n"
          ]
        }
      ],
      "source": [
        "import random as rnd\n",
        "gizli = rnd.randint(1, 100)\n",
        "check = False\n",
        "tahmin = int(input(\"Bir tahmin giriniz:\"))\n",
        "\n",
        "for x in range(5):\n",
        "  tahmin = int(input(\"Bir tahmin giriniz:\"))\n",
        "  if tahmin == gizli:\n",
        "    print(\"Tebrikler\")\n",
        "    check = True\n",
        "    break\n",
        "  elif tahmin < gizli:\n",
        "    print(\"Daha büyük bir sayı giriniz!!\")\n",
        "  else:\n",
        "    print(\"Daha küçük bir sayı giriniz!!\")\n",
        "\n",
        "if not check:\n",
        "  print(\"Bilemediniz, belirlenen sayı: \", gizli)"
      ]
    },
    {
      "cell_type": "markdown",
      "metadata": {
        "id": "6vddxASQcwOx"
      },
      "source": [
        "# Fonksiyonlar (Function)\n",
        "\n",
        "Fonksiyonlar, belirli bir eylemi gerçekleştirmek için tekrar tekrar kullanılabilen kod bloklarıdır. Bildiğimiz gibi Python'da print (), len () vb. Birçok kullanılabilir fonksiyon tanımlanmıştır. Kütüphanelerde, modüllerde ve paketlerde tanımlı fonksiyonlara erişim sağlayarak kendi kodumuzda kullanabiliriz. Bunlara ön tanımlı fonksiyonlar, gömülü fonksiyonlar (built-in) veya kütüphane fonksiyonları denir. Hazır fonksiyonları kullanabileceğimiz gibi kendi fonksiyonlarımızı da oluşturabiliriz. (Kullanıcı tanımlı) Fonksiyonlar kod tekrarını önler ve kodumuz daha modüler ve düzenli kalır.\n",
        "\n",
        "\n",
        "*****\n",
        "\n",
        "def \"function_ismi\"(parametre1,parametre2,..):\n",
        "\n",
        "\n",
        "> \"Bir şeyler yap\"\n",
        "\n",
        "  return \"bir şey döndür\"  (işlevselliğe bağlıdır)\n",
        "\n",
        "\n"
      ]
    },
    {
      "cell_type": "code",
      "execution_count": 3,
      "metadata": {
        "id": "xmv4r_jCboXC"
      },
      "outputs": [],
      "source": [
        "def hello():\n",
        "  print(\"Hello Everyone!!\")"
      ]
    },
    {
      "cell_type": "code",
      "execution_count": 4,
      "metadata": {
        "colab": {
          "base_uri": "https://localhost:8080/"
        },
        "id": "9WyymUQqgSBQ",
        "outputId": "b97ba6ba-a1ee-4d6f-d82d-3d96a404080b"
      },
      "outputs": [
        {
          "output_type": "stream",
          "name": "stdout",
          "text": [
            "Hello Everyone!!\n"
          ]
        }
      ],
      "source": [
        "hello()#calling the func   #the functions don't have any parameters"
      ]
    },
    {
      "cell_type": "code",
      "execution_count": 5,
      "metadata": {
        "colab": {
          "base_uri": "https://localhost:8080/"
        },
        "id": "MJ9-t1W-lWiN",
        "outputId": "7d86dfcd-f6a6-4f7f-96f5-9691043b901c"
      },
      "outputs": [
        {
          "output_type": "stream",
          "name": "stdout",
          "text": [
            "Hello Everyone!!\n"
          ]
        }
      ],
      "source": [
        "hello()"
      ]
    },
    {
      "cell_type": "code",
      "execution_count": 6,
      "metadata": {
        "id": "0mNT-X0DoP7y"
      },
      "outputs": [],
      "source": [
        "def hello(name):\n",
        "  print(\"Hello \" + name)\n"
      ]
    },
    {
      "cell_type": "code",
      "execution_count": 7,
      "metadata": {
        "colab": {
          "base_uri": "https://localhost:8080/"
        },
        "id": "DxZKzFIuoW08",
        "outputId": "a580332b-26e2-4cad-ee68-8e5fc273b656"
      },
      "outputs": [
        {
          "output_type": "stream",
          "name": "stdout",
          "text": [
            "Hello Sevda\n"
          ]
        }
      ],
      "source": [
        "hello(\"Sevda\")"
      ]
    },
    {
      "cell_type": "code",
      "execution_count": 8,
      "metadata": {
        "colab": {
          "base_uri": "https://localhost:8080/"
        },
        "id": "3AoI1i0igZC7",
        "outputId": "0b3325dc-d78c-4754-ce1c-21026f573b44"
      },
      "outputs": [
        {
          "output_type": "stream",
          "name": "stdout",
          "text": [
            "Hello World!!\n",
            "Lorem Ipsum\n",
            "Hello World!!\n"
          ]
        }
      ],
      "source": [
        "def func1():\n",
        "  print(\"Hello World!!\")\n",
        "\n",
        "func1()\n",
        "print(\"Lorem Ipsum\")\n",
        "func1()"
      ]
    },
    {
      "cell_type": "code",
      "execution_count": 9,
      "metadata": {
        "id": "iiSPTWt3hJHo"
      },
      "outputs": [],
      "source": [
        "def summ(a,b):\n",
        "  sum1 = a + b\n",
        "  print(sum1)"
      ]
    },
    {
      "cell_type": "code",
      "execution_count": 10,
      "metadata": {
        "colab": {
          "base_uri": "https://localhost:8080/"
        },
        "id": "WNgM1TR4haRG",
        "outputId": "9cd912e4-ec65-4f7a-c1a3-95e9bf5a7726"
      },
      "outputs": [
        {
          "output_type": "stream",
          "name": "stdout",
          "text": [
            "13\n"
          ]
        }
      ],
      "source": [
        "summ(6,7)"
      ]
    },
    {
      "cell_type": "code",
      "execution_count": 11,
      "metadata": {
        "id": "NiymGvuihkZ2"
      },
      "outputs": [],
      "source": [
        "def func(x,y):\n",
        "  summ = x + y\n",
        "  multip = x * y\n",
        "  return (summ,multip)"
      ]
    },
    {
      "cell_type": "code",
      "execution_count": 12,
      "metadata": {
        "colab": {
          "base_uri": "https://localhost:8080/"
        },
        "id": "SbtW4TLdh7Pp",
        "outputId": "ad89f187-d5ed-428a-a770-27f41e539a1f"
      },
      "outputs": [
        {
          "output_type": "stream",
          "name": "stdout",
          "text": [
            "68 1035\n"
          ]
        }
      ],
      "source": [
        "t,c = func(23,45)\n",
        "\n",
        "print(t,c)"
      ]
    },
    {
      "cell_type": "code",
      "execution_count": 16,
      "metadata": {
        "colab": {
          "base_uri": "https://localhost:8080/"
        },
        "id": "Nca_Rpf9iC-x",
        "outputId": "071d6830-ca45-40f2-c416-b8482f8a1fb7"
      },
      "outputs": [
        {
          "output_type": "stream",
          "name": "stdout",
          "text": [
            "Sum of the values: 68, Multiplying of the values: 1035\n"
          ]
        }
      ],
      "source": [
        "print(\"Sum of the values: \" + str(t) + \", Multiplying of the values: \" + str(c))"
      ]
    },
    {
      "cell_type": "code",
      "execution_count": 13,
      "metadata": {
        "colab": {
          "base_uri": "https://localhost:8080/"
        },
        "id": "M9YmyEwwlWir",
        "outputId": "2164a9fa-86b3-4a23-c4cd-b0add3c47636"
      },
      "outputs": [
        {
          "output_type": "execute_result",
          "data": {
            "text/plain": [
              "(8, 15)"
            ]
          },
          "metadata": {},
          "execution_count": 13
        }
      ],
      "source": [
        "func(3,5)"
      ]
    },
    {
      "cell_type": "code",
      "execution_count": 14,
      "metadata": {
        "colab": {
          "base_uri": "https://localhost:8080/"
        },
        "id": "ok5sO2h2lWiv",
        "outputId": "8d6d8acd-fc90-40ea-e8af-0023f3100092"
      },
      "outputs": [
        {
          "output_type": "stream",
          "name": "stdout",
          "text": [
            "4 and 5\n"
          ]
        }
      ],
      "source": [
        "x = 5\n",
        "y = 4\n",
        "x,y = y,x\n",
        "print(x,\"and\",y)"
      ]
    },
    {
      "cell_type": "code",
      "execution_count": 17,
      "metadata": {
        "id": "5IS0ARTJiPY1"
      },
      "outputs": [],
      "source": [
        "#Let's write a function that it will square the entered number, but will be terminated when you enter the number 5 and give us an error message.\n",
        "\n",
        "def sqr(x):\n",
        "  if x == 5:\n",
        "    return (\"Terminated because you entered 5\")\n",
        "\n",
        "  result = x **2\n",
        "  return (result)"
      ]
    },
    {
      "cell_type": "code",
      "execution_count": 18,
      "metadata": {
        "colab": {
          "base_uri": "https://localhost:8080/"
        },
        "id": "w0Am5qkekKNH",
        "outputId": "580ef9fe-94d5-456e-e9d2-244759dc3057"
      },
      "outputs": [
        {
          "output_type": "execute_result",
          "data": {
            "text/plain": [
              "100"
            ]
          },
          "metadata": {},
          "execution_count": 18
        }
      ],
      "source": [
        "sqr(10)"
      ]
    },
    {
      "cell_type": "code",
      "execution_count": 19,
      "metadata": {
        "colab": {
          "base_uri": "https://localhost:8080/",
          "height": 36
        },
        "id": "-A1MrkLDkMju",
        "outputId": "df87b7e4-cd3f-4f90-bac4-0a99230484f8"
      },
      "outputs": [
        {
          "output_type": "execute_result",
          "data": {
            "text/plain": [
              "'Terminated because you entered 5'"
            ],
            "application/vnd.google.colaboratory.intrinsic+json": {
              "type": "string"
            }
          },
          "metadata": {},
          "execution_count": 19
        }
      ],
      "source": [
        "sqr(5)"
      ]
    },
    {
      "cell_type": "code",
      "execution_count": 20,
      "metadata": {
        "colab": {
          "base_uri": "https://localhost:8080/"
        },
        "id": "gsu2kbuJnKmx",
        "outputId": "14c9d5d2-244d-4c41-ae40-d3c46df5ade1"
      },
      "outputs": [
        {
          "output_type": "stream",
          "name": "stdout",
          "text": [
            "Terminated because you entered 5\n"
          ]
        }
      ],
      "source": [
        "d = sqr(5)\n",
        "print(d)"
      ]
    },
    {
      "cell_type": "code",
      "execution_count": 24,
      "metadata": {
        "id": "ewtG6xuRkQsy"
      },
      "outputs": [],
      "source": [
        "# Let's write a function that tells you whether the entered number is positive, negative or zero.\n",
        "\n",
        "def func(x):\n",
        "  if x > 0:\n",
        "    return (\"Positive\")\n",
        "  elif x < 0:\n",
        "    return (\"Negative\")\n",
        "  else:\n",
        "    return (\"Zero\")"
      ]
    },
    {
      "cell_type": "code",
      "execution_count": 26,
      "metadata": {
        "colab": {
          "base_uri": "https://localhost:8080/"
        },
        "id": "UQ3T_8UTlJ8u",
        "outputId": "d1e521fd-1931-4bca-d79d-05ce4470ca35"
      },
      "outputs": [
        {
          "output_type": "stream",
          "name": "stdout",
          "text": [
            "Negative\n",
            "Positive\n",
            "Positive\n",
            "Zero\n",
            "Negative\n",
            "Negative\n"
          ]
        }
      ],
      "source": [
        "for i in [-2,5,6,0,-4,-7]:\n",
        "  print(func(i))"
      ]
    },
    {
      "cell_type": "code",
      "execution_count": 27,
      "metadata": {
        "id": "_gih-r9xlZBr"
      },
      "outputs": [],
      "source": [
        "# factorial calculation\n",
        "\n",
        "def factorial(num):\n",
        "  factorial = 1\n",
        "  if (num == 0 or num == 1):\n",
        "    print(\"Factorial: \", factorial)\n",
        "  else:\n",
        "    while (num >= 1):\n",
        "      factorial = factorial * num\n",
        "      num -= 1\n",
        "    print(\"Factorial: \", factorial)"
      ]
    },
    {
      "cell_type": "code",
      "execution_count": 28,
      "metadata": {
        "colab": {
          "base_uri": "https://localhost:8080/"
        },
        "id": "sw8EVtqplWjU",
        "outputId": "e20666eb-15eb-4eaa-cf77-2dbcbe40d3f6"
      },
      "outputs": [
        {
          "output_type": "stream",
          "name": "stdout",
          "text": [
            "Factorial:  120\n"
          ]
        }
      ],
      "source": [
        "factorial(5)"
      ]
    },
    {
      "cell_type": "code",
      "execution_count": null,
      "metadata": {
        "id": "nhEq72M9lWjY"
      },
      "outputs": [],
      "source": [
        "# 5* 4* 3* 2* 1 = 120"
      ]
    },
    {
      "cell_type": "code",
      "execution_count": 31,
      "metadata": {
        "id": "OQBMccOwyhl9"
      },
      "outputs": [],
      "source": [
        "#using for loop\n",
        "\n",
        "def factorial2(num2):\n",
        "  factorial2 = 1\n",
        "  if (num2 == 0 or num2 == 1):\n",
        "    print(\"Factorial: \", factorial2)\n",
        "  else:\n",
        "    for i in range(factorial2, num2+1):\n",
        "       factorial2 = factorial2 * i\n",
        "    print(\"Factorial: \", factorial2)"
      ]
    },
    {
      "cell_type": "code",
      "execution_count": 32,
      "metadata": {
        "colab": {
          "base_uri": "https://localhost:8080/"
        },
        "id": "-b8t6CgSl3Yu",
        "outputId": "01c4a14b-c88d-495e-fc7f-b946cfc5a6ee"
      },
      "outputs": [
        {
          "output_type": "stream",
          "name": "stdout",
          "text": [
            "Factorial:  120\n"
          ]
        }
      ],
      "source": [
        "x = factorial2(5)\n",
        "x"
      ]
    },
    {
      "cell_type": "code",
      "execution_count": 33,
      "metadata": {
        "id": "blFFawxml7wW"
      },
      "outputs": [],
      "source": [
        "def factorial3(nums):\n",
        "  factorial3 = 1\n",
        "  if (nums == 0 or nums == 1):\n",
        "    return (\"Factorial: \", factorial3)\n",
        "  else:\n",
        "    for i in range(factorial3, nums+1):\n",
        "       factorial3 *= i\n",
        "    return (\"Factorial: \", factorial3)"
      ]
    },
    {
      "cell_type": "code",
      "execution_count": 34,
      "metadata": {
        "colab": {
          "base_uri": "https://localhost:8080/"
        },
        "id": "HVWS7rb9mAIf",
        "outputId": "682744ff-406c-474f-9bcb-ba6704400b19"
      },
      "outputs": [
        {
          "output_type": "stream",
          "name": "stdout",
          "text": [
            "('Factorial: ', 720)\n"
          ]
        }
      ],
      "source": [
        "x = factorial3(6)\n",
        "print(x)"
      ]
    },
    {
      "cell_type": "code",
      "execution_count": 35,
      "metadata": {
        "id": "HIUms-AlzQu9"
      },
      "outputs": [],
      "source": [
        "def hello2(name, capLetter = False):\n",
        "  if capLetter:\n",
        "    print(\"Hello \" + name.upper())\n",
        "  else:\n",
        "    print(\"Hello \" + name)"
      ]
    },
    {
      "cell_type": "code",
      "execution_count": 36,
      "metadata": {
        "colab": {
          "base_uri": "https://localhost:8080/"
        },
        "id": "DkHm9Vtw0O4M",
        "outputId": "f563b32d-7a5f-4ff8-c034-1553bb769e3c"
      },
      "outputs": [
        {
          "output_type": "stream",
          "name": "stdout",
          "text": [
            "Hello Lorem Ipsum\n"
          ]
        }
      ],
      "source": [
        "hello2(\"Lorem Ipsum\")"
      ]
    },
    {
      "cell_type": "code",
      "execution_count": 37,
      "metadata": {
        "colab": {
          "base_uri": "https://localhost:8080/"
        },
        "id": "dYyDrfTn0TOS",
        "outputId": "30762666-8da9-40df-f9c3-dce9ee9fd747"
      },
      "outputs": [
        {
          "output_type": "stream",
          "name": "stdout",
          "text": [
            "Hello LOREM IPSUM\n"
          ]
        }
      ],
      "source": [
        "hello2(\"Lorem Ipsum\", capLetter= True)"
      ]
    },
    {
      "cell_type": "code",
      "execution_count": 38,
      "metadata": {
        "id": "AzJDy8xD1Rbm"
      },
      "outputs": [],
      "source": [
        "def multp(*args):\n",
        "  result = 1\n",
        "  for i in args:\n",
        "    result = result * i\n",
        "  print(result)\n",
        "\n",
        "# *args keeps the data as tuple type."
      ]
    },
    {
      "cell_type": "code",
      "execution_count": 39,
      "metadata": {
        "colab": {
          "base_uri": "https://localhost:8080/"
        },
        "id": "crk-VWf912z_",
        "outputId": "91814a44-0752-4e6b-aa92-cb188f5bde36"
      },
      "outputs": [
        {
          "output_type": "stream",
          "name": "stdout",
          "text": [
            "6720\n"
          ]
        }
      ],
      "source": [
        "multp(4,5,6,7,8)"
      ]
    },
    {
      "cell_type": "code",
      "execution_count": 41,
      "metadata": {
        "colab": {
          "base_uri": "https://localhost:8080/"
        },
        "id": "sp9bJPmu1-lF",
        "outputId": "fbc477d4-84d7-410b-be62-c3cc48748ece"
      },
      "outputs": [
        {
          "output_type": "stream",
          "name": "stdout",
          "text": [
            "120\n"
          ]
        }
      ],
      "source": [
        "multp(2,3,4,5)"
      ]
    },
    {
      "cell_type": "code",
      "execution_count": 42,
      "metadata": {
        "id": "M_gEN02J7Z6P"
      },
      "outputs": [],
      "source": [
        "def salaryCalc(salary):\n",
        "\n",
        "  if salary < 0:\n",
        "    return(\"Invalid value\")\n",
        "  else:\n",
        "    if 0 < salary <= 1000:\n",
        "      salary = salary + salary * 0.15\n",
        "    elif salary <= 2000:\n",
        "      salary = salary + salary * 0.1\n",
        "    elif salary <= 3000:\n",
        "      salary = salary + salary * 0.05\n",
        "    else:\n",
        "      salary = salary + salary * 0.025\n",
        "\n",
        "    return (\"New salary: \", salary)"
      ]
    },
    {
      "cell_type": "code",
      "execution_count": 43,
      "metadata": {
        "colab": {
          "base_uri": "https://localhost:8080/"
        },
        "id": "Tp8kE5iH7-_x",
        "outputId": "5ff683e3-cfe0-469b-9e00-1f407054ccab"
      },
      "outputs": [
        {
          "output_type": "execute_result",
          "data": {
            "text/plain": [
              "('New salary: ', 575.0)"
            ]
          },
          "metadata": {},
          "execution_count": 43
        }
      ],
      "source": [
        "salaryCalc(500)"
      ]
    },
    {
      "cell_type": "code",
      "execution_count": 44,
      "metadata": {
        "id": "I9BT87fl-Kgr"
      },
      "outputs": [],
      "source": [
        "def salaryCalc2():\n",
        "\n",
        "  salary = float(input(\"Please enter your current salary: \"))\n",
        "\n",
        "  if salary < 0:\n",
        "    return(\"Invalid value\")\n",
        "  else:\n",
        "    if 0 < salary <= 1000:\n",
        "      salary = salary + salary * 0.15\n",
        "    elif salary <= 2000:\n",
        "      salary = salary + salary * 0.1\n",
        "    elif salary <= 3000:\n",
        "      salary = salary + salary * 0.05\n",
        "    else:\n",
        "      salary = salary + salary * 0.025\n",
        "\n",
        "    return (\"New salary: \", salary)"
      ]
    },
    {
      "cell_type": "code",
      "execution_count": 45,
      "metadata": {
        "colab": {
          "base_uri": "https://localhost:8080/"
        },
        "id": "bF1ty6Cc8U_X",
        "outputId": "cd64f1de-9af8-4181-d5a2-8f8c6be62428"
      },
      "outputs": [
        {
          "output_type": "stream",
          "name": "stdout",
          "text": [
            "Please enter your current salary: 1500\n",
            "('New salary: ', 1650.0)\n"
          ]
        }
      ],
      "source": [
        "new_salary = salaryCalc2()\n",
        "print(new_salary)"
      ]
    },
    {
      "cell_type": "code",
      "execution_count": 46,
      "metadata": {
        "colab": {
          "base_uri": "https://localhost:8080/"
        },
        "id": "tDklGeaVlWkM",
        "outputId": "453ad537-9d41-41e6-df20-9c89c9c3ac72"
      },
      "outputs": [
        {
          "output_type": "execute_result",
          "data": {
            "text/plain": [
              "15"
            ]
          },
          "metadata": {},
          "execution_count": 46
        }
      ],
      "source": [
        "def carpma(x,y):\n",
        "    return x * y\n",
        "\n",
        "carpma(3,5)"
      ]
    },
    {
      "cell_type": "code",
      "execution_count": 47,
      "metadata": {
        "colab": {
          "base_uri": "https://localhost:8080/"
        },
        "id": "KnNFw7g6lWkO",
        "outputId": "7f668e33-b1c6-4ee4-dd19-907156671024"
      },
      "outputs": [
        {
          "output_type": "stream",
          "name": "stdout",
          "text": [
            "(5, 6, 7, 8, 9)\n",
            "(100, 'Hello World')\n"
          ]
        }
      ],
      "source": [
        "def func_args(*numbers):\n",
        "    print(numbers)\n",
        "\n",
        "func_args(5,6,7,8,9)\n",
        "func_args(100,\"Hello World\")"
      ]
    },
    {
      "cell_type": "code",
      "execution_count": 51,
      "metadata": {
        "colab": {
          "base_uri": "https://localhost:8080/"
        },
        "id": "FekFHwnOlWkT",
        "outputId": "c10a37dc-ec6b-405c-f502-477d488e7129"
      },
      "outputs": [
        {
          "output_type": "stream",
          "name": "stdout",
          "text": [
            "[10, 4.4, 'Lorem', True, 'Ipsum', 33, 9.8]\n"
          ]
        }
      ],
      "source": [
        "def func_args(*args):\n",
        "    for i in args:\n",
        "        print(i)\n",
        "\n",
        "liste = [10,4.4,'Lorem',True,\"Ipsum\",33,9.8]\n",
        "func_args(liste)"
      ]
    },
    {
      "cell_type": "code",
      "execution_count": 49,
      "metadata": {
        "colab": {
          "base_uri": "https://localhost:8080/"
        },
        "id": "C6IwiuHnlWkZ",
        "outputId": "d53f888f-d888-4c7f-dcc0-3622bc5d4fb4"
      },
      "outputs": [
        {
          "output_type": "stream",
          "name": "stdout",
          "text": [
            "{'num1': 'Ankara', 'num2': 'Kocaeli', 'num3': True, 'num4': 3.14}\n"
          ]
        }
      ],
      "source": [
        "#kwargs\n",
        "def func_kwargs(**number):\n",
        "    print(number)\n",
        "\n",
        "func_kwargs(num1 = 'Ankara', num2 = 'Kocaeli', num3 = True, num4 = 3.14)"
      ]
    },
    {
      "cell_type": "markdown",
      "metadata": {
        "id": "6sOO_4CbBygM"
      },
      "source": [
        "### Let's write a function that returns a random word from a list.\n",
        "\n",
        "### Modules\n",
        "\n",
        "import numpy as np\n",
        "\n",
        "import tensorflow as tf"
      ]
    },
    {
      "cell_type": "code",
      "execution_count": 56,
      "metadata": {
        "id": "WOjxc70xm5Mo",
        "outputId": "5e407697-526a-43d7-8590-6d9baf888d59",
        "colab": {
          "base_uri": "https://localhost:8080/",
          "height": 383
        }
      },
      "outputs": [
        {
          "output_type": "error",
          "ename": "ModuleNotFoundError",
          "evalue": "No module named 'myModules'",
          "traceback": [
            "\u001b[0;31m---------------------------------------------------------------------------\u001b[0m",
            "\u001b[0;31mModuleNotFoundError\u001b[0m                       Traceback (most recent call last)",
            "\u001b[0;32m<ipython-input-56-1a32e411b67c>\u001b[0m in \u001b[0;36m<cell line: 1>\u001b[0;34m()\u001b[0m\n\u001b[0;32m----> 1\u001b[0;31m \u001b[0;32mimport\u001b[0m \u001b[0mmyModules\u001b[0m \u001b[0;32mas\u001b[0m \u001b[0mmy_mod\u001b[0m\u001b[0;34m\u001b[0m\u001b[0;34m\u001b[0m\u001b[0m\n\u001b[0m\u001b[1;32m      2\u001b[0m \u001b[0;34m\u001b[0m\u001b[0m\n\u001b[1;32m      3\u001b[0m \u001b[0mmyModules\u001b[0m\u001b[0;34m.\u001b[0m\u001b[0mmyFunc\u001b[0m\u001b[0;34m(\u001b[0m\u001b[0;34m)\u001b[0m\u001b[0;34m\u001b[0m\u001b[0;34m\u001b[0m\u001b[0m\n\u001b[1;32m      4\u001b[0m \u001b[0;34m\u001b[0m\u001b[0m\n\u001b[1;32m      5\u001b[0m \u001b[0;32mfrom\u001b[0m \u001b[0mmyModules\u001b[0m \u001b[0;32mimport\u001b[0m \u001b[0;34m*\u001b[0m\u001b[0;34m\u001b[0m\u001b[0;34m\u001b[0m\u001b[0m\n",
            "\u001b[0;31mModuleNotFoundError\u001b[0m: No module named 'myModules'",
            "",
            "\u001b[0;31m---------------------------------------------------------------------------\u001b[0;32m\nNOTE: If your import is failing due to a missing package, you can\nmanually install dependencies using either !pip or !apt.\n\nTo view examples of installing some common dependencies, click the\n\"Open Examples\" button below.\n\u001b[0;31m---------------------------------------------------------------------------\u001b[0m\n"
          ],
          "errorDetails": {
            "actions": [
              {
                "action": "open_url",
                "actionText": "Open Examples",
                "url": "/notebooks/snippets/importing_libraries.ipynb"
              }
            ]
          }
        }
      ],
      "source": [
        "import myModules as my_mod\n",
        "\n",
        "myModules.myFunc()\n",
        "\n",
        "from myModules import *\n",
        "\n",
        "myFunc()"
      ]
    },
    {
      "cell_type": "code",
      "execution_count": 57,
      "metadata": {
        "colab": {
          "base_uri": "https://localhost:8080/",
          "height": 176
        },
        "id": "Xjm17EGTlWkd",
        "outputId": "a6270645-1b4e-41ff-e96e-e8451f343627"
      },
      "outputs": [
        {
          "output_type": "error",
          "ename": "NameError",
          "evalue": "name 'my_mod' is not defined",
          "traceback": [
            "\u001b[0;31m---------------------------------------------------------------------------\u001b[0m",
            "\u001b[0;31mNameError\u001b[0m                                 Traceback (most recent call last)",
            "\u001b[0;32m<ipython-input-57-bcee619b4ee2>\u001b[0m in \u001b[0;36m<cell line: 2>\u001b[0;34m()\u001b[0m\n\u001b[1;32m      1\u001b[0m \u001b[0;31m#calling a function from myModules\u001b[0m\u001b[0;34m\u001b[0m\u001b[0;34m\u001b[0m\u001b[0m\n\u001b[0;32m----> 2\u001b[0;31m \u001b[0mmy_mod\u001b[0m\u001b[0;34m.\u001b[0m\u001b[0msum\u001b[0m\u001b[0;34m(\u001b[0m\u001b[0;34m)\u001b[0m\u001b[0;34m\u001b[0m\u001b[0;34m\u001b[0m\u001b[0m\n\u001b[0m\u001b[1;32m      3\u001b[0m \u001b[0mmy_mod\u001b[0m\u001b[0;34m.\u001b[0m\u001b[0mmultiple\u001b[0m\u001b[0;34m(\u001b[0m\u001b[0;34m)\u001b[0m\u001b[0;34m\u001b[0m\u001b[0;34m\u001b[0m\u001b[0m\n",
            "\u001b[0;31mNameError\u001b[0m: name 'my_mod' is not defined"
          ]
        }
      ],
      "source": [
        "#calling a function from myModules\n",
        "my_mod.sum()\n",
        "my_mod.multiple()"
      ]
    },
    {
      "cell_type": "code",
      "execution_count": 58,
      "metadata": {
        "id": "fyf2VtDZ3ALS"
      },
      "outputs": [],
      "source": [
        "words = [\"artificial\",\"intelligence\",\"machine\",\"learning\",\"python\",\"programming\"]\n",
        "\n",
        "#from random import *\n",
        "import random as rnd\n",
        "\n",
        "def randomWord(words):\n",
        "  index = rnd.randint(0, len(words)-1)\n",
        "  return words[index]"
      ]
    },
    {
      "cell_type": "code",
      "execution_count": 59,
      "metadata": {
        "colab": {
          "base_uri": "https://localhost:8080/"
        },
        "id": "BesFivMOlWki",
        "outputId": "a901354a-750e-45c6-ea40-3f23499a55d6"
      },
      "outputs": [
        {
          "output_type": "execute_result",
          "data": {
            "text/plain": [
              "6"
            ]
          },
          "metadata": {},
          "execution_count": 59
        }
      ],
      "source": [
        "len(words)"
      ]
    },
    {
      "cell_type": "code",
      "execution_count": 62,
      "metadata": {
        "colab": {
          "base_uri": "https://localhost:8080/"
        },
        "id": "vdt230OzC_DR",
        "outputId": "dba82b13-5d45-4e09-967e-8e5501c00a74"
      },
      "outputs": [
        {
          "output_type": "stream",
          "name": "stdout",
          "text": [
            "intelligence\n"
          ]
        }
      ],
      "source": [
        "word = randomWord(words)\n",
        "print(word)"
      ]
    },
    {
      "cell_type": "markdown",
      "metadata": {
        "id": "MfFOsrA6AfmC"
      },
      "source": [
        "### Global & Local Variables"
      ]
    },
    {
      "cell_type": "code",
      "execution_count": 63,
      "metadata": {
        "colab": {
          "base_uri": "https://localhost:8080/"
        },
        "id": "7_UD1zAn_lxX",
        "outputId": "79b9d14e-0c45-4998-c357-3d80d9f8acae"
      },
      "outputs": [
        {
          "output_type": "stream",
          "name": "stdout",
          "text": [
            "5\n"
          ]
        }
      ],
      "source": [
        "x = 5\n",
        "\n",
        "print(x)"
      ]
    },
    {
      "cell_type": "code",
      "execution_count": 64,
      "metadata": {
        "id": "IisEjgqpAqCi"
      },
      "outputs": [],
      "source": [
        "def display():\n",
        "  x = 4\n",
        "  return(x)"
      ]
    },
    {
      "cell_type": "code",
      "execution_count": null,
      "metadata": {
        "colab": {
          "base_uri": "https://localhost:8080/",
          "height": 35
        },
        "id": "6dhEuYDjAylB",
        "outputId": "3d88f156-bdd1-411b-9fcb-93715c02d292"
      },
      "outputs": [
        {
          "data": {
            "text/plain": [
              "4"
            ]
          },
          "execution_count": 125,
          "metadata": {},
          "output_type": "execute_result"
        }
      ],
      "source": [
        "display()"
      ]
    },
    {
      "cell_type": "code",
      "execution_count": null,
      "metadata": {
        "colab": {
          "base_uri": "https://localhost:8080/",
          "height": 35
        },
        "id": "dPUxfagJA7Gn",
        "outputId": "ba6bf99f-ba77-4498-b6f5-fe4c2328d920"
      },
      "outputs": [
        {
          "name": "stdout",
          "output_type": "stream",
          "text": [
            "5\n"
          ]
        }
      ],
      "source": [
        "print(x)"
      ]
    },
    {
      "cell_type": "markdown",
      "metadata": {
        "id": "WJreHgrGllCV"
      },
      "source": [
        "## Methods\n",
        "\n",
        "Functions are called by name, it can take parameters inside and optionally the resulting value can be used outside of the function.\n",
        "\n",
        "\n",
        "Methods are also called by name, in many ways they are like functions, but calling is performed through an object such as a String or list.\n",
        "\n",
        "\n",
        "object.methodName(parameter)"
      ]
    },
    {
      "cell_type": "code",
      "execution_count": 67,
      "metadata": {
        "colab": {
          "base_uri": "https://localhost:8080/"
        },
        "id": "G56qfrjqDEDP",
        "outputId": "eb9b5c8c-827c-4e76-82fe-02349cf9e977"
      },
      "outputs": [
        {
          "output_type": "stream",
          "name": "stdout",
          "text": [
            "Please enter a name: selamlar\n",
            "Selamlar\n"
          ]
        }
      ],
      "source": [
        "s = input(\"Please enter a name: \")\n",
        "\n",
        "upper = s.capitalize()\n",
        "\n",
        "print(upper)"
      ]
    },
    {
      "cell_type": "code",
      "execution_count": 69,
      "metadata": {
        "colab": {
          "base_uri": "https://localhost:8080/"
        },
        "id": "7DzoBNeApbzZ",
        "outputId": "6f7909cf-2671-4927-cd67-88adabf86d0b"
      },
      "outputs": [
        {
          "output_type": "stream",
          "name": "stdout",
          "text": [
            "78\n",
            "5\n"
          ]
        }
      ],
      "source": [
        "#return the index of the element with the highest value in a given list.\n",
        "\n",
        "myList = [45,7,23,6,12,78]\n",
        "\n",
        "maxElement = max(myList)\n",
        "\n",
        "print(maxElement)\n",
        "\n",
        "maxIndex = myList.index(maxElement)\n",
        "\n",
        "print(maxIndex)"
      ]
    },
    {
      "cell_type": "markdown",
      "metadata": {
        "id": "V0B2QkdWJkuK"
      },
      "source": [
        "## Fonksiyonlar ( Functions )"
      ]
    },
    {
      "cell_type": "code",
      "execution_count": 70,
      "metadata": {
        "colab": {
          "base_uri": "https://localhost:8080/"
        },
        "id": "msp6-4AjJkuK",
        "outputId": "3d382e89-a1cb-4490-bb77-a38eaebd3bad"
      },
      "outputs": [
        {
          "output_type": "stream",
          "name": "stdout",
          "text": [
            "\n",
            "İsim: Ahmet DENİZ\n",
            "Ortalama: 78.33\n",
            "Harf notu: C\n",
            "--------------------\n",
            "İsim: Aylin TÜRK\n",
            "Ortalama: 45.00\n",
            "Harf notu: F\n",
            "--------------------\n",
            "İsim: Murat YILMAZ\n",
            "Ortalama: 95.00\n",
            "Harf notu: A\n",
            "--------------------"
          ]
        }
      ],
      "source": [
        "def not_hesaplama(ad, puanlar):\n",
        "    ortalama = sum(puanlar) / len(puanlar)\n",
        "\n",
        "    if ortalama > 90:\n",
        "        harf = 'A'\n",
        "    elif ortalama > 80:\n",
        "        harf = 'B'\n",
        "    elif ortalama > 60:\n",
        "        harf = 'C'\n",
        "    elif ortalama > 50:\n",
        "        harf = 'D'\n",
        "    else:\n",
        "        harf = 'F'\n",
        "\n",
        "    print(f'\\nİsim: {ad}\\nOrtalama: {ortalama:.2f}\\nHarf notu: {harf}\\n', end=\"-\"*20)\n",
        "\n",
        "not_hesaplama('Ahmet DENİZ', (60, 100, 75))\n",
        "not_hesaplama('Aylin TÜRK', (20, 50, 65))\n",
        "not_hesaplama('Murat YILMAZ', (100, 100, 85))"
      ]
    },
    {
      "cell_type": "code",
      "execution_count": null,
      "metadata": {
        "id": "0S3WZf4kJkuL",
        "outputId": "ac826146-e55b-486d-85cf-6e9083b74f63"
      },
      "outputs": [
        {
          "name": "stdout",
          "output_type": "stream",
          "text": [
            "100\n",
            "20\n",
            "64\n"
          ]
        }
      ],
      "source": [
        "def carp(a=10, b=10):\n",
        "    sonuc = a * b\n",
        "    return sonuc\n",
        "\n",
        "sonuc = carp()\n",
        "print(sonuc)\n",
        "\n",
        "print(carp(5, 4))\n",
        "print(carp(b=32, a=2))"
      ]
    },
    {
      "cell_type": "code",
      "execution_count": null,
      "metadata": {
        "id": "Il7Fjz8jJkuQ",
        "outputId": "d27d138b-724a-4a9e-a244-573ea2ceb7c6"
      },
      "outputs": [
        {
          "name": "stdout",
          "output_type": "stream",
          "text": [
            "10\n",
            "5\n"
          ]
        }
      ],
      "source": [
        "a = 5\n",
        "def a_degistirme():\n",
        "    a = 10\n",
        "    print(a)\n",
        "a_degistirme()\n",
        "print(a)"
      ]
    },
    {
      "cell_type": "code",
      "execution_count": null,
      "metadata": {
        "id": "Ea_sU_BGJkuR",
        "outputId": "22f52843-7cd3-4564-a27c-82efdbf8d530"
      },
      "outputs": [
        {
          "name": "stdout",
          "output_type": "stream",
          "text": [
            "10\n",
            "10\n"
          ]
        }
      ],
      "source": [
        "a = 5\n",
        "def a_degistirme():\n",
        "    global a\n",
        "    a = 10\n",
        "    print(a)\n",
        "a_degistirme()\n",
        "print(a)"
      ]
    },
    {
      "cell_type": "markdown",
      "metadata": {
        "id": "H6k8jXA_OKDH"
      },
      "source": [
        "# Nesne Yönelimli Programlamaya Giriş (Intro to Object Oriented Programming)\n",
        "\n",
        "Etrafımızda gördüğümüz her varlık bir nesnedir. Her nesnenin kendi nitelikleri ve gerçekleştirdikleri bir dizi işlev (yöntem) vardır. Sınıf dediğimiz kavram aynı zamanda nesne üretmemizi sağlayan veri tipleridir."
      ]
    },
    {
      "cell_type": "code",
      "execution_count": 71,
      "metadata": {
        "colab": {
          "base_uri": "https://localhost:8080/"
        },
        "id": "3OrB2on4la2n",
        "outputId": "cef07497-e664-4c7a-c63c-af64ffe1cd2e"
      },
      "outputs": [
        {
          "output_type": "stream",
          "name": "stdout",
          "text": [
            "Bir kelime giriniz:merhaba\n",
            "merhaba kelimesinde 3 sesli harf var.\n"
          ]
        }
      ],
      "source": [
        "sesli_harfler = 'aeıioöuü'\n",
        "sayac = 0\n",
        "def kelime_al():\n",
        "    return input('Bir kelime giriniz:')\n",
        "\n",
        "def sesli_harf(harf):\n",
        "    return harf in sesli_harfler\n",
        "\n",
        "def artır(sayac,kelime):\n",
        "    for harf in kelime:\n",
        "        if sesli_harf(harf):\n",
        "            sayac = sayac + 1\n",
        "    return sayac\n",
        "\n",
        "def ekrana_bas(kelime):\n",
        "    mesaj = '{} kelimesinde {} sesli harf var.'\n",
        "    print(mesaj.format(kelime,artır(sayac,kelime)))\n",
        "\n",
        "def calıstır():\n",
        "    kelime = kelime_al()\n",
        "    ekrana_bas(kelime)\n",
        "\n",
        "calıstır()"
      ]
    },
    {
      "cell_type": "code",
      "execution_count": 72,
      "metadata": {
        "colab": {
          "base_uri": "https://localhost:8080/"
        },
        "id": "ohitmdGBla2q",
        "outputId": "e57c20e7-a894-4586-9f60-1c291f44cdf3"
      },
      "outputs": [
        {
          "output_type": "stream",
          "name": "stdout",
          "text": [
            "Bir kelime girin: merhaba dünya\n",
            "merhaba dünya kelimesinde 5 sesli harf var.\n"
          ]
        }
      ],
      "source": [
        "class HarfSayacı:\n",
        "    def __init__(self):\n",
        "        self.sesli_harfler = 'aeıioöuü'\n",
        "        self.sayaç = 0\n",
        "\n",
        "    def kelime_sor(self):\n",
        "        return input('Bir kelime girin: ')\n",
        "\n",
        "    def seslidir(self, harf):\n",
        "        return harf in self.sesli_harfler\n",
        "\n",
        "    def artır(self):\n",
        "        for harf in self.kelime:\n",
        "            if self.seslidir(harf):\n",
        "                self.sayaç += 1\n",
        "        return self.sayaç\n",
        "\n",
        "    def ekrana_bas(self):\n",
        "        mesaj = \"{} kelimesinde {} sesli harf var.\"\n",
        "        sesli_harf_sayısı = self.artır()\n",
        "        print(mesaj.format(self.kelime, sesli_harf_sayısı))\n",
        "\n",
        "    def çalıştır(self):\n",
        "        self.kelime = self.kelime_sor()\n",
        "        self.ekrana_bas()\n",
        "\n",
        "if __name__ == '__main__':\n",
        "    sayaç = HarfSayacı()\n",
        "    sayaç.çalıştır()"
      ]
    },
    {
      "cell_type": "code",
      "execution_count": 73,
      "metadata": {
        "id": "RvIjixb-ONiw"
      },
      "outputs": [],
      "source": [
        "#class attributes\n",
        "class Car():\n",
        "  colour = \"yellow\"\n",
        "  brand = \"xyz\"\n",
        "  door = 4"
      ]
    },
    {
      "cell_type": "code",
      "execution_count": 74,
      "metadata": {
        "colab": {
          "base_uri": "https://localhost:8080/"
        },
        "id": "PHXc3gzoZVRK",
        "outputId": "5f582b7b-c9d5-4536-9ca7-d4e8db8d0e99"
      },
      "outputs": [
        {
          "output_type": "stream",
          "name": "stdout",
          "text": [
            "<__main__.Car object at 0x78275c0373a0>\n"
          ]
        }
      ],
      "source": [
        "#instantiation\n",
        "car1 = Car()\n",
        "\n",
        "print(car1)"
      ]
    },
    {
      "cell_type": "code",
      "execution_count": 75,
      "metadata": {
        "colab": {
          "base_uri": "https://localhost:8080/"
        },
        "id": "8Z38odyhZj2x",
        "outputId": "f899962c-0599-4579-9bab-1ea98598dfa4"
      },
      "outputs": [
        {
          "output_type": "stream",
          "name": "stdout",
          "text": [
            "yellow\n",
            "xyz\n",
            "4\n"
          ]
        }
      ],
      "source": [
        "print(car1.colour)\n",
        "print(car1.brand)\n",
        "print(car1.door)"
      ]
    },
    {
      "cell_type": "code",
      "execution_count": 76,
      "metadata": {
        "colab": {
          "base_uri": "https://localhost:8080/",
          "height": 36
        },
        "id": "ASMwsKZQZ73S",
        "outputId": "0cc94909-58c6-42a9-ef1a-1eea5d16ed8c"
      },
      "outputs": [
        {
          "output_type": "execute_result",
          "data": {
            "text/plain": [
              "'yellow'"
            ],
            "application/vnd.google.colaboratory.intrinsic+json": {
              "type": "string"
            }
          },
          "metadata": {},
          "execution_count": 76
        }
      ],
      "source": [
        "car2 = Car()\n",
        "\n",
        "car2.colour"
      ]
    },
    {
      "cell_type": "code",
      "execution_count": 77,
      "metadata": {
        "colab": {
          "base_uri": "https://localhost:8080/"
        },
        "id": "gvURL79zaMSZ",
        "outputId": "7aa9933a-0cb4-49d8-8f90-e6f73d97a2e8"
      },
      "outputs": [
        {
          "output_type": "execute_result",
          "data": {
            "text/plain": [
              "4"
            ]
          },
          "metadata": {},
          "execution_count": 77
        }
      ],
      "source": [
        "#We can also call attributes over the class without creating an object.\n",
        "\n",
        "Car.door"
      ]
    },
    {
      "cell_type": "code",
      "execution_count": 78,
      "metadata": {
        "colab": {
          "base_uri": "https://localhost:8080/",
          "height": 36
        },
        "id": "D-bSYoMcaRbD",
        "outputId": "bbea7eae-995c-49d3-c627-f9cc0fd51418"
      },
      "outputs": [
        {
          "output_type": "execute_result",
          "data": {
            "text/plain": [
              "'xyz'"
            ],
            "application/vnd.google.colaboratory.intrinsic+json": {
              "type": "string"
            }
          },
          "metadata": {},
          "execution_count": 78
        }
      ],
      "source": [
        "Car.brand"
      ]
    },
    {
      "cell_type": "code",
      "execution_count": 79,
      "metadata": {
        "colab": {
          "base_uri": "https://localhost:8080/"
        },
        "id": "ODInfukGbGLo",
        "outputId": "f1c9a8bc-7fa0-4820-fb8f-e81ea456c499"
      },
      "outputs": [
        {
          "output_type": "execute_result",
          "data": {
            "text/plain": [
              "['__class__',\n",
              " '__delattr__',\n",
              " '__dict__',\n",
              " '__dir__',\n",
              " '__doc__',\n",
              " '__eq__',\n",
              " '__format__',\n",
              " '__ge__',\n",
              " '__getattribute__',\n",
              " '__gt__',\n",
              " '__hash__',\n",
              " '__init__',\n",
              " '__init_subclass__',\n",
              " '__le__',\n",
              " '__lt__',\n",
              " '__module__',\n",
              " '__ne__',\n",
              " '__new__',\n",
              " '__reduce__',\n",
              " '__reduce_ex__',\n",
              " '__repr__',\n",
              " '__setattr__',\n",
              " '__sizeof__',\n",
              " '__str__',\n",
              " '__subclasshook__',\n",
              " '__weakref__',\n",
              " 'brand',\n",
              " 'colour',\n",
              " 'door']"
            ]
          },
          "metadata": {},
          "execution_count": 79
        }
      ],
      "source": [
        "dir(car1)"
      ]
    },
    {
      "cell_type": "markdown",
      "source": [
        "## Constructor Function\n",
        "\n",
        "Başlangıçta her nesneyi farklı değerlerle oluşturmak için nesnelerin değerlerini göndermemiz gerekir.\n",
        "\n",
        "Bunun için özel bir metot kullanıyoruz:\n",
        "\n",
        "__init() __ init() metodu bir kurucu fonksiyon olarak tanımlanmıştır.\n",
        "\n",
        "Nesnelerimizi oluştururken otomatik olarak çağrılan ilk fonksiyondur.\n",
        "\n",
        "Bu metodu özel olarak tanımlayarak nesnelerimizi farklı değerlerle oluşturabiliriz.\n",
        "\n",
        "self= tanımlanan sınıftaki herhangi bir değişkene veya diğer metotlara erişmek için."
      ],
      "metadata": {
        "id": "OnwEUiD70NFc"
      }
    },
    {
      "cell_type": "code",
      "execution_count": 81,
      "metadata": {
        "id": "VdPxg1DUbrRE"
      },
      "outputs": [],
      "source": [
        "class Car2():\n",
        "\n",
        "  def __init__(self):\n",
        "    print(\"init function calling...\")"
      ]
    },
    {
      "cell_type": "code",
      "execution_count": 82,
      "metadata": {
        "colab": {
          "base_uri": "https://localhost:8080/"
        },
        "id": "MHV17DUfla3g",
        "outputId": "e72134ae-b6d1-48e7-cef9-1f7da09764fc"
      },
      "outputs": [
        {
          "output_type": "stream",
          "name": "stdout",
          "text": [
            "init function calling...\n"
          ]
        },
        {
          "output_type": "execute_result",
          "data": {
            "text/plain": [
              "<__main__.Car2 at 0x78275c036290>"
            ]
          },
          "metadata": {},
          "execution_count": 82
        }
      ],
      "source": [
        "car_init = Car2()\n",
        "car_init"
      ]
    },
    {
      "cell_type": "code",
      "execution_count": 83,
      "metadata": {
        "colab": {
          "base_uri": "https://localhost:8080/"
        },
        "id": "BVfHG7DXcdGj",
        "outputId": "01a98245-2f5d-4509-9fef-51d39527f033"
      },
      "outputs": [
        {
          "output_type": "stream",
          "name": "stdout",
          "text": [
            "init function calling...\n"
          ]
        }
      ],
      "source": [
        "car = Car2()"
      ]
    },
    {
      "cell_type": "code",
      "execution_count": 84,
      "metadata": {
        "colab": {
          "base_uri": "https://localhost:8080/"
        },
        "id": "HSQQs2f0eZpr",
        "outputId": "080f1b8c-1d29-4d1c-e7fb-6f245b984703"
      },
      "outputs": [
        {
          "output_type": "stream",
          "name": "stdout",
          "text": [
            "Hello Car world\n",
            "red abc 2\n",
            "Hello Car world\n",
            "yellow xyz 4\n",
            "red\n",
            "xyz\n"
          ]
        }
      ],
      "source": [
        "class Car3():\n",
        "\n",
        "  def __init__(self,colour,brand,door):\n",
        "    print(\"Hello Car world\")\n",
        "    self.colour = colour\n",
        "    self.brand = brand\n",
        "    self.door = door\n",
        "    print(self.colour,self.brand,self.door)\n",
        "\n",
        "\n",
        "red_car = Car3(\"red\", \"abc\",2)\n",
        "\n",
        "yellow_car = Car3(\"yellow\", \"xyz\", 4)\n",
        "\n",
        "print(red_car.colour)\n",
        "print(yellow_car.brand)"
      ]
    },
    {
      "cell_type": "code",
      "execution_count": 85,
      "metadata": {
        "colab": {
          "base_uri": "https://localhost:8080/"
        },
        "id": "Awm6VrLEObqE",
        "outputId": "32c17d50-cd5b-4114-d122-dbd43525cfca"
      },
      "outputs": [
        {
          "output_type": "stream",
          "name": "stdout",
          "text": [
            "Hello Car world\n",
            "black 34abc23 5\n",
            "<__main__.Car3 object at 0x78275c036590>\n"
          ]
        }
      ],
      "source": [
        "blue_car = Car3(\"black\",\"34abc23\",5)\n",
        "print(blue_car)"
      ]
    },
    {
      "cell_type": "code",
      "execution_count": 86,
      "metadata": {
        "id": "YjSEGRYrfQ69"
      },
      "outputs": [],
      "source": [
        "class Person():\n",
        "  name = \"\"\n",
        "  age = 0\n",
        "\n",
        "  def __init__(self, personName, personAge):\n",
        "    self.name = personName\n",
        "    self.age = personAge\n",
        "\n",
        "\n",
        "  def welcomePerson(self):\n",
        "    print(\"Hello \" + self.name)\n",
        "\n",
        "\n",
        "  def showAge(self):\n",
        "    print(self.age)\n"
      ]
    },
    {
      "cell_type": "code",
      "execution_count": 88,
      "metadata": {
        "colab": {
          "base_uri": "https://localhost:8080/"
        },
        "id": "GeZqS15XhmM7",
        "outputId": "a5f66df0-030b-4ba9-d445-309750525c3c"
      },
      "outputs": [
        {
          "output_type": "stream",
          "name": "stdout",
          "text": [
            "Hello Sevda\n"
          ]
        }
      ],
      "source": [
        "person1 = Person (\"Sevda\", 28)\n",
        "\n",
        "person1.welcomePerson()"
      ]
    },
    {
      "cell_type": "code",
      "execution_count": 89,
      "metadata": {
        "colab": {
          "base_uri": "https://localhost:8080/"
        },
        "id": "imIm2qrdjESE",
        "outputId": "fb89da1d-0ade-4c17-dea6-0f13fd74264e"
      },
      "outputs": [
        {
          "output_type": "stream",
          "name": "stdout",
          "text": [
            "28\n"
          ]
        }
      ],
      "source": [
        "person1.showAge()"
      ]
    },
    {
      "cell_type": "code",
      "execution_count": 90,
      "metadata": {
        "id": "bGR0XBxLjcGo"
      },
      "outputs": [],
      "source": [
        "class Person3():\n",
        "\n",
        "  def __init__(self, name, age):\n",
        "    self.name = name\n",
        "    self.age = age\n",
        "    self.language = []\n",
        "\n",
        "  def welcomePerson(self):\n",
        "    print(\"Hello \" + self.name)\n",
        "\n",
        "  def showAge(self):\n",
        "    print(self.age)\n",
        "\n",
        "  def addLang (self, new_lang):\n",
        "    print(\"Adding new language..\")\n",
        "    self.language.append(new_lang)\n",
        "\n",
        "  def showInfo(self):\n",
        "    print(\"{} is {} years old and can speak these languages: \".format(self.name,self.age))\n",
        "    for i in self.language:\n",
        "      print(i)\n",
        ""
      ]
    },
    {
      "cell_type": "code",
      "execution_count": 91,
      "metadata": {
        "id": "zkmDy4tSpeSO"
      },
      "outputs": [],
      "source": [
        "person3 = Person3(\"Sevda\",28)"
      ]
    },
    {
      "cell_type": "code",
      "execution_count": 92,
      "metadata": {
        "colab": {
          "base_uri": "https://localhost:8080/"
        },
        "id": "iGvesZvPpqBw",
        "outputId": "b7a12d44-ea0f-447d-ae9e-e0012dfe7911"
      },
      "outputs": [
        {
          "output_type": "stream",
          "name": "stdout",
          "text": [
            "Hello Sevda\n"
          ]
        }
      ],
      "source": [
        "person3.welcomePerson()"
      ]
    },
    {
      "cell_type": "code",
      "execution_count": 93,
      "metadata": {
        "colab": {
          "base_uri": "https://localhost:8080/"
        },
        "id": "ZwaRNvXVptKE",
        "outputId": "f393cdf0-329c-400e-baeb-7f81cbd2757b"
      },
      "outputs": [
        {
          "output_type": "stream",
          "name": "stdout",
          "text": [
            "28\n"
          ]
        }
      ],
      "source": [
        "person3.showAge()"
      ]
    },
    {
      "cell_type": "code",
      "execution_count": 94,
      "metadata": {
        "colab": {
          "base_uri": "https://localhost:8080/"
        },
        "id": "RssjOznYpvfv",
        "outputId": "a3084afe-c85b-46e0-e093-5ecb8d951306"
      },
      "outputs": [
        {
          "output_type": "stream",
          "name": "stdout",
          "text": [
            "Adding new language..\n"
          ]
        }
      ],
      "source": [
        "person3.addLang(\"german\")"
      ]
    },
    {
      "cell_type": "code",
      "execution_count": 95,
      "metadata": {
        "colab": {
          "base_uri": "https://localhost:8080/"
        },
        "id": "axnwe5fbqOWx",
        "outputId": "269e4228-41a1-40d1-fc33-b0128abe1c2e"
      },
      "outputs": [
        {
          "output_type": "stream",
          "name": "stdout",
          "text": [
            "Sevda is 28 years old and can speak these languages: \n",
            "german\n"
          ]
        }
      ],
      "source": [
        "person3.showInfo()"
      ]
    },
    {
      "cell_type": "code",
      "execution_count": 96,
      "metadata": {
        "colab": {
          "base_uri": "https://localhost:8080/"
        },
        "id": "j4LQVwVDtbqL",
        "outputId": "fe3f193b-2f94-4638-c197-c9dc9e4a0a76"
      },
      "outputs": [
        {
          "output_type": "stream",
          "name": "stdout",
          "text": [
            "Adding new language..\n"
          ]
        }
      ],
      "source": [
        "person3.addLang(\"english\")"
      ]
    },
    {
      "cell_type": "code",
      "execution_count": 97,
      "metadata": {
        "colab": {
          "base_uri": "https://localhost:8080/"
        },
        "id": "rjhVBnGotg5T",
        "outputId": "d2eb5ef4-7889-4024-883d-8424ac50567a"
      },
      "outputs": [
        {
          "output_type": "stream",
          "name": "stdout",
          "text": [
            "Sevda is 28 years old and can speak these languages: \n",
            "german\n",
            "english\n"
          ]
        }
      ],
      "source": [
        "person3.showInfo()"
      ]
    },
    {
      "cell_type": "code",
      "execution_count": 98,
      "metadata": {
        "colab": {
          "base_uri": "https://localhost:8080/"
        },
        "id": "dx6d34ekJkuS",
        "outputId": "cb04e927-3a73-4206-8730-421f3c7c1b2a"
      },
      "outputs": [
        {
          "output_type": "stream",
          "name": "stdout",
          "text": [
            "Araba gidiyor..\n",
            "Araba duruyor..\n",
            "Araba gidiyor..\n"
          ]
        }
      ],
      "source": [
        "class Araba:\n",
        "    def sür(self):\n",
        "        print('Araba gidiyor..')\n",
        "\n",
        "    def dur(self):\n",
        "        print('Araba duruyor..')\n",
        "\n",
        "\n",
        "araba = Araba()\n",
        "araba.sür()\n",
        "araba.dur()\n",
        "araba.sür()"
      ]
    },
    {
      "cell_type": "code",
      "execution_count": 99,
      "metadata": {
        "id": "oo_b3X7UJkuT"
      },
      "outputs": [],
      "source": [
        "class Araba:\n",
        "\n",
        "    def __init__(self, marka, model, yıl, renk):\n",
        "        self.marka = marka\n",
        "        self.model = model\n",
        "        self.yıl = yıl\n",
        "        self.renk = renk\n",
        "        self.durum = 0\n",
        "        \"\"\"\n",
        "        0: Kapalı\n",
        "        1: Çalışır halde duruyor\n",
        "        2: Gidiyor\n",
        "        \"\"\"\n",
        "\n",
        "    def çalıştır(self):\n",
        "        self.durum = 1\n",
        "\n",
        "    def durdur(self):\n",
        "        self.durum = 0\n",
        "\n",
        "    def sür(self):\n",
        "        if self.durum:\n",
        "            print('{} gidiyor'.format(self.model))\n",
        "            self.durum = 2\n",
        "        else:\n",
        "            print('Önce arabayı çalıştır')\n",
        "\n",
        "    def dur(self):\n",
        "        if self.durum:\n",
        "            print('{} duruyor'.format(self.model))\n",
        "            self.durum = 1\n",
        "        else:\n",
        "            print('Önce arabayı çalıştır')\n",
        "\n",
        "    def özellikleri_yazdır(self):\n",
        "        print(f\"Marka: {self.marka:<10}\\\n",
        "        Model: {self.model:<10}\\\n",
        "        Yıl: {self.yıl:<10}\\\n",
        "        Renk: {self.renk:<10}\")"
      ]
    },
    {
      "cell_type": "code",
      "execution_count": 100,
      "metadata": {
        "colab": {
          "base_uri": "https://localhost:8080/"
        },
        "id": "fNQfyFq2JkuU",
        "outputId": "0f74600f-3d9a-4de6-aaa0-2ad19ca3f323"
      },
      "outputs": [
        {
          "output_type": "stream",
          "name": "stdout",
          "text": [
            "Önce arabayı çalıştır\n",
            "Challenger gidiyor\n",
            "Marka: Dodge             Model: Challenger        Yıl: 2016              Renk: Siyah     \n",
            "Challenger duruyor\n"
          ]
        }
      ],
      "source": [
        "araba1 = Araba('Dodge', 'Challenger', '2016', 'Siyah')\n",
        "araba1.sür()\n",
        "araba1.çalıştır()\n",
        "araba1.sür()\n",
        "araba1.özellikleri_yazdır()\n",
        "araba1.dur()"
      ]
    },
    {
      "cell_type": "code",
      "execution_count": 101,
      "metadata": {
        "colab": {
          "base_uri": "https://localhost:8080/"
        },
        "id": "iXoLgEdTJkuV",
        "outputId": "0b5324f3-da80-44b2-bbff-1435f13c58ae"
      },
      "outputs": [
        {
          "output_type": "stream",
          "name": "stdout",
          "text": [
            "Önce arabayı çalıştır\n",
            "Mustang gidiyor\n",
            "Marka: Ford              Model: Mustang           Yıl: 1971              Renk: Sarı-Siyah\n",
            "Mustang duruyor\n"
          ]
        }
      ],
      "source": [
        "araba2 = Araba('Ford', 'Mustang', '1971', 'Sarı-Siyah')\n",
        "araba2.sür()\n",
        "araba2.çalıştır()\n",
        "araba2.sür()\n",
        "araba2.özellikleri_yazdır()\n",
        "araba2.dur()"
      ]
    },
    {
      "cell_type": "code",
      "execution_count": 102,
      "metadata": {
        "id": "_jCSlJXSm5M8",
        "outputId": "4677a119-0459-485e-967c-40423983ce7d",
        "colab": {
          "base_uri": "https://localhost:8080/"
        }
      },
      "outputs": [
        {
          "output_type": "stream",
          "name": "stdout",
          "text": [
            "30\n",
            "Barcelona\n",
            "Portugal\n"
          ]
        }
      ],
      "source": [
        "# Nesne Tabanlı Programlama\n",
        "#CLASSES\n",
        "\n",
        "soccer_1_name = \"Messi\"\n",
        "soccer_1_age = \"35\"\n",
        "soccer_1_team = \"Paris\"\n",
        "\n",
        "# if you save soccer player's informations like messi you don't have to write like this.\n",
        "# We use class\n",
        "\n",
        "class Soccer(object): #or we can write class Soccer()\n",
        "    #attribute = age,play team etc.\n",
        "    #behevior  = forvet,goal etc.\n",
        "    pass\n",
        "# Attribute\n",
        "# Now try to add some attributes in our class\n",
        "\n",
        "class Footboller():\n",
        "    age=30\n",
        "    team = \"Barcelona\"\n",
        "    pass\n",
        "# add one veriable for footballer class\n",
        "\n",
        "Ronaldo = Footboller()\n",
        "print(Ronaldo.age)\n",
        "print(Ronaldo.team),\n",
        "# Try to change atrribute value\n",
        "\n",
        "Ronaldo.team = \"Portugal\"\n",
        "print(Ronaldo.team)\n",
        "# We change a veriable but this is not propose."
      ]
    },
    {
      "cell_type": "code",
      "execution_count": 103,
      "metadata": {
        "colab": {
          "base_uri": "https://localhost:8080/"
        },
        "id": "ixgOQX4cla4i",
        "outputId": "399e6f5a-947d-4479-c8cf-f0ecb7b6dc6a"
      },
      "outputs": [
        {
          "output_type": "stream",
          "name": "stdout",
          "text": [
            "Area 16\n",
            "None\n",
            "Area 49\n",
            "None\n",
            "Salary Age Ratio Calculated Value:  0.003\n",
            "0.01\n"
          ]
        }
      ],
      "source": [
        "# Methods\n",
        "# Example\n",
        "class Square():\n",
        "    edge = 4\n",
        "    pass\n",
        "    def area_calculated(self):\n",
        "        self.area = self.edge * self.edge\n",
        "        print(\"Area\",self.area)\n",
        "s1 = Square()\n",
        "print(s1.area_calculated())\n",
        "s1.edge = 7\n",
        "print(s1.area_calculated())\n",
        "\n",
        "\"\"\" Methods vs Funtion\"\"\"\n",
        "#Example\n",
        "class employee(object):\n",
        "    age = 30\n",
        "    salary = 10000\n",
        "    def salary_age_ratio_calculater(self):\n",
        "        self.sarc = float(self.age/self.salary)\n",
        "        print(\"Salary Age Ratio Calculated Value: \",self.sarc)\n",
        "A = employee()\n",
        "A.salary_age_ratio_calculater()\n",
        "#Function\n",
        "def salar_age_calculater(salary,age):\n",
        "    result = float(age / salary)\n",
        "    print(result)\n",
        "salar_age_calculater(3000,30)\n",
        "# Functions look like more effective but not like that. u will see after topics."
      ]
    },
    {
      "cell_type": "code",
      "execution_count": 104,
      "metadata": {
        "id": "wG4fAtqrm5M8",
        "outputId": "848d656f-95de-478e-c6fa-84de68a9fd11",
        "colab": {
          "base_uri": "https://localhost:8080/"
        }
      },
      "outputs": [
        {
          "output_type": "stream",
          "name": "stdout",
          "text": [
            "Information :Cat , 7 , Homodens\n",
            "Information :Bird , 10000 , Old\n"
          ]
        }
      ],
      "source": [
        "# İnitliazer and Constracter.\n",
        "class Animal(object):\n",
        "    def __init__(self,a,b,c):\n",
        "        self.name = a\n",
        "        self.age = b\n",
        "        self.species = c\n",
        "    def get_information(self):\n",
        "        print(f\"Information :{self.name} , {self.age} , {self.species}\")\n",
        "\n",
        "a1 = Animal(\"Cat\",\"7\",\"Homodens\")\n",
        "a1.get_information()\n",
        "\n",
        "#Now we can add new objects and we can create new function with new veriables\n",
        "Trex = Animal(\"Bird\" , \"10000\" , \"Old\")\n",
        "Trex.get_information()"
      ]
    },
    {
      "cell_type": "code",
      "execution_count": 105,
      "metadata": {
        "id": "KNvUCCyYm5M9",
        "outputId": "b18231b3-4e10-4d8d-a203-11cf6ff5a3ca",
        "colab": {
          "base_uri": "https://localhost:8080/"
        }
      },
      "outputs": [
        {
          "output_type": "stream",
          "name": "stdout",
          "text": [
            "Lütfen işlem yapamk istediğiniz değerleri giriniz:\n",
            "Input first number:1\n",
            "Input second number:10\n",
            "----------Hesaplanıyor-----------\n",
            "Hangi işlemi yapmak isterseniz karşılığında bulunan sayıyı girininiz\n",
            ": Toplama-1 \n",
            " Cıkartma-2 \n",
            " Carpma-3\n",
            " Bölme-4 \n",
            " Üs işlemi- 53\n",
            "10.0\n"
          ]
        }
      ],
      "source": [
        "# Example for described so far\n",
        "# Calculator\n",
        "class Calculator():\n",
        "    def __init__(self,value_1,value_2):\n",
        "        self.value1 = value_1\n",
        "        self.value2 = value_2\n",
        "    def additional(self):\n",
        "        return float(self.value1 + self.value2)\n",
        "    def subtraction(self):\n",
        "        return float(self.value1 - self.value2)\n",
        "    def multiplaction(self):\n",
        "        return float(self.value1*self.value2)\n",
        "    def divide(self):\n",
        "        return float(self.value1 / self.value2)\n",
        "    def force(self):\n",
        "        return float(self.value1**self.value2)\n",
        "number_1 = 0\n",
        "number_2 = 0\n",
        "print(\"Lütfen işlem yapamk istediğiniz değerleri giriniz:\")\n",
        "number_1=int(input(f\"Input first number:\".format(number_1)))\n",
        "number_2=int(input(f\"Input second number:\".format(number_2)))\n",
        "result = Calculator(number_1,number_2)\n",
        "\n",
        "print(\"----------Hesaplanıyor-----------\")\n",
        "workspace = input(\"Hangi işlemi yapmak isterseniz karşılığında bulunan sayıyı girininiz\\n: Toplama-1 \\n Cıkartma-2 \\n Carpma-3\\n Bölme-4 \\n Üs işlemi- 5\")\n",
        "if workspace == \"1\":\n",
        "    print(result.additional())\n",
        "elif workspace==\"2\":\n",
        "    print(result.subtraction())\n",
        "elif workspace==\"3\":\n",
        "    print(result.multiplaction())\n",
        "elif workspace==\"4\":\n",
        "    print(result.divide())\n",
        "elif workspace==\"5\":\n",
        "    print(result.force())\n",
        "else:\n",
        "    print(\"Lütfen geçerlli bir eğer giriniz!\")\n",
        ""
      ]
    },
    {
      "cell_type": "code",
      "execution_count": 106,
      "metadata": {
        "id": "NKC8ixxsm5M9",
        "outputId": "d74605d8-f9e3-41e6-f581-5e8c3a12bf65",
        "colab": {
          "base_uri": "https://localhost:8080/"
        }
      },
      "outputs": [
        {
          "output_type": "execute_result",
          "data": {
            "text/plain": [
              "(4500, 0)"
            ]
          },
          "metadata": {},
          "execution_count": 106
        }
      ],
      "source": [
        "# Encapsulation - Encapsulation Direct External Access Restriction\n",
        "class Bank_Accound():\n",
        "    def __init__(self,name,money,adress):\n",
        "        self.name = name\n",
        "        self.money = money\n",
        "        self.adress = adress\n",
        "\n",
        "m1 = Bank_Accound(\"Messi\",1500,\"Barcelona\")\n",
        "m2 = Bank_Accound(\"Neymar\",3000,\"Paris\")\n",
        "\n",
        "m2.money = m1.money + m2.money\n",
        "m1.money = 0\n",
        "m2.money , m1.money\n",
        "# Example explain the result. We can not change some veriables. At least us. Coder must change this veriables. Or Banker :)\n",
        "# We can add \" __ \" this trick what we External Access Restriction veriable."
      ]
    },
    {
      "cell_type": "code",
      "execution_count": 112,
      "metadata": {
        "id": "XTX9VMa6m5M9",
        "outputId": "6f0a93ce-7d9c-4c9e-e60c-407f279cfc6d",
        "colab": {
          "base_uri": "https://localhost:8080/",
          "height": 211
        }
      },
      "outputs": [
        {
          "output_type": "error",
          "ename": "AttributeError",
          "evalue": "'Bank_Accound' object has no attribute '__money'",
          "traceback": [
            "\u001b[0;31m---------------------------------------------------------------------------\u001b[0m",
            "\u001b[0;31mAttributeError\u001b[0m                            Traceback (most recent call last)",
            "\u001b[0;32m<ipython-input-112-b46ea5da4e7a>\u001b[0m in \u001b[0;36m<cell line: 9>\u001b[0;34m()\u001b[0m\n\u001b[1;32m      7\u001b[0m \u001b[0mm2\u001b[0m \u001b[0;34m=\u001b[0m \u001b[0mBank_Accound\u001b[0m\u001b[0;34m(\u001b[0m\u001b[0;34m\"Neymar\"\u001b[0m\u001b[0;34m,\u001b[0m\u001b[0;36m3000\u001b[0m\u001b[0;34m,\u001b[0m\u001b[0;34m\"Paris\"\u001b[0m\u001b[0;34m)\u001b[0m\u001b[0;34m\u001b[0m\u001b[0;34m\u001b[0m\u001b[0m\n\u001b[1;32m      8\u001b[0m \u001b[0;34m\u001b[0m\u001b[0m\n\u001b[0;32m----> 9\u001b[0;31m \u001b[0mm1\u001b[0m\u001b[0;34m.\u001b[0m\u001b[0m__money\u001b[0m\u001b[0;34m\u001b[0m\u001b[0;34m\u001b[0m\u001b[0m\n\u001b[0m\u001b[1;32m     10\u001b[0m \u001b[0;31m# Bu kod size Öznitelik Hatası verir!\u001b[0m\u001b[0;34m\u001b[0m\u001b[0;34m\u001b[0m\u001b[0m\n\u001b[1;32m     11\u001b[0m \u001b[0;31m# AttributeError: 'Bank_Accound' nesnesinin '__money' özniteliği yok\u001b[0m\u001b[0;34m\u001b[0m\u001b[0;34m\u001b[0m\u001b[0m\n",
            "\u001b[0;31mAttributeError\u001b[0m: 'Bank_Accound' object has no attribute '__money'"
          ]
        }
      ],
      "source": [
        "class Bank_Accound():\n",
        "  def __init__(self,name,money,adress):\n",
        "    self.name = name\n",
        "    self.__money = money\n",
        "    self.adress = adress\n",
        "m1 = Bank_Accound(\"Messi\",1500,\"Barcelona\")\n",
        "m2 = Bank_Accound(\"Neymar\",3000,\"Paris\")\n",
        "\n",
        "m1.__money\n",
        "# Bu kod size Öznitelik Hatası verir!\n",
        "# AttributeError: 'Bank_Accound' nesnesinin '__money' özniteliği yok\n",
        "# money özeldi. money'e hiçbir yöntemle ulaşamıyoruz.\n",
        "# Her şey yolunda. Ama bu özel veriyi nasıl değiştirebilirim?\n",
        "# Şöyle düşünürsünüz: \"Parayı bozdurmam gerekiyor. Ne yapabilirim ki?\""
      ]
    },
    {
      "cell_type": "code",
      "execution_count": 113,
      "metadata": {
        "id": "XgqvYiqSm5M-",
        "outputId": "67b69a02-9871-4443-b3e7-e6be947fbcfd",
        "colab": {
          "base_uri": "https://localhost:8080/"
        }
      },
      "outputs": [
        {
          "output_type": "execute_result",
          "data": {
            "text/plain": [
              "(1500, None, 5000)"
            ]
          },
          "metadata": {},
          "execution_count": 113
        }
      ],
      "source": [
        "#get and set mothods\n",
        "class Bank_Accound():\n",
        "    def __init__(self,name,money,adress):\n",
        "        self.name = name\n",
        "        self.__money = money\n",
        "        self.adress = adress\n",
        "    def getMoney(self):\n",
        "        return self.__money\n",
        "        pass\n",
        "    def setMoney(self,amount):\n",
        "        self.__money = amount\n",
        "    def __increase(self): # Methots can be private veriable like this. We just can use this funciton in its class.\n",
        "        self.__money = self.__money + 500\n",
        "m1 = Bank_Accound(\"Messi\",1500,\"Barcelona\")\n",
        "m2 = Bank_Accound(\"Neymar\",3000,\"Paris\")\n",
        "\n",
        "m1.getMoney() , m1.setMoney(5000) , m1.getMoney()"
      ]
    },
    {
      "cell_type": "code",
      "execution_count": 114,
      "metadata": {
        "id": "qHJLkOSTm5M-",
        "outputId": "d11f0467-7c07-4226-822c-ac046a6e97d6",
        "colab": {
          "base_uri": "https://localhost:8080/"
        }
      },
      "outputs": [
        {
          "output_type": "stream",
          "name": "stdout",
          "text": [
            "Animal is created\n",
            "Monket is created!\n",
            "Animal\n",
            "Animal walk!\n",
            "Monkey Climb\n",
            "Animal is created\n",
            "Animal\n",
            "Animal walk!\n",
            "Bird fly\n"
          ]
        }
      ],
      "source": [
        "# Miras/Inheritance\n",
        "# Code above subect of Inheritance\n",
        "# We use super().__init__()\n",
        "# Making associations between classes\n",
        "class Animal(object):\n",
        "    def __init__(self):\n",
        "        print(\"Animal is created\")\n",
        "    def toString(self):\n",
        "        print(\"Animal\")\n",
        "    def walk(self):\n",
        "        print(\"Animal walk!\")\n",
        "class Monkey(Animal):\n",
        "    def __init__(self):\n",
        "        super().__init__()\n",
        "        print(\"Monket is created!\")\n",
        "    def climb(self):\n",
        "        print(\"Monkey Climb\")\n",
        "class Bird(Animal):\n",
        "    def __init__(self):\n",
        "        super().__init__()\n",
        "    def fly(self):\n",
        "        print(\"Bird fly\")\n",
        "\n",
        "mon = Monkey()\n",
        "mon.toString()\n",
        "mon.walk()\n",
        "mon.climb()\n",
        "\n",
        "bird = Bird()\n",
        "bird.toString()\n",
        "bird.walk()\n",
        "bird.fly()"
      ]
    },
    {
      "cell_type": "code",
      "execution_count": 115,
      "metadata": {
        "id": "JmooCggkm5M_"
      },
      "outputs": [],
      "source": [
        "# Webside Example\n",
        "class Darkweb:\n",
        "    def __init__(self,name,surname):\n",
        "        self.name = name\n",
        "        self.surname = surname\n",
        "    def loginfo(self):\n",
        "        print(self.name + \" \" +self.surname)\n",
        "\n",
        "class Web1(Darkweb):\n",
        "    def __init__(self,name,surname,ids):\n",
        "        Darkweb.__init__(self,name,surname)\n",
        "        self.ids = ids\n",
        "    def login(self):\n",
        "        print(self.name ,\" \", self.surname ,\" \",self.ids)\n",
        "\n",
        "class Web2(Darkweb):\n",
        "    def __init__(self,name,surname,e_mail):\n",
        "        Darkweb.__init__(self,name,surname)\n",
        "        self.e_mail = e_mail\n",
        "    def login_2(self):\n",
        "        print(self.name ,\" \", self.surname ,\" \",self.e_mail)\n",
        "\n",
        "class web3(Darkweb):\n",
        "    def __init__(self,name,surname,secure):\n",
        "        Darkweb.__init__(self,name,surname)\n",
        "        self.secure = secure\n",
        "    def login_3(self):\n",
        "        print(self.name +\" \"+ self.surname + \" \" + self.secure)\n",
        "\n",
        "# it's like so simple and not neccesary but You can think general class will contain lots of veriable.\n",
        "# So, it will be sensible."
      ]
    },
    {
      "cell_type": "code",
      "execution_count": 117,
      "metadata": {
        "id": "TRViBfxJm5M_",
        "outputId": "3f748355-6008-496b-bb74-2398156f662a",
        "colab": {
          "base_uri": "https://localhost:8080/"
        }
      },
      "outputs": [
        {
          "output_type": "stream",
          "name": "stdout",
          "text": [
            "Bird\n",
            "Walk\n",
            "Run\n"
          ]
        }
      ],
      "source": [
        "# Soyut Classes / Abstract Classes\n",
        "\"\"\"\n",
        "1- We can't use Animal class and create a veraible.\n",
        "2- We can't call main clas(old) definition to our child class(new).\n",
        "\"\"\"\n",
        "from abc import ABC, abstractmethod\n",
        "class Animal(ABC):\n",
        "    @abstractmethod   # Abstractmethod means a template. We have a pattern for other class will create.\n",
        "    def walk(self):\n",
        "        print(\"Walking\")\n",
        "    @abstractmethod\n",
        "    def run(self):\n",
        "        print(\"Running\")\n",
        "class Bird(Animal):\n",
        "    def __init__(self):\n",
        "        print(\"Bird\")   #We can't call Animal functions. We have to write abstractmethods functions again.\n",
        "    def walk(self):\n",
        "        print(\"Walk\")\n",
        "    def run(self):\n",
        "        print(\"Run\")\n",
        "\n",
        "a=Bird()\n",
        "a.walk()\n",
        "a.run()"
      ]
    },
    {
      "cell_type": "code",
      "execution_count": 118,
      "metadata": {
        "id": "is_E87EPm5M_",
        "outputId": "d229bf27-d02e-421b-b783-28bffe3df321",
        "colab": {
          "base_uri": "https://localhost:8080/"
        }
      },
      "outputs": [
        {
          "output_type": "stream",
          "name": "stdout",
          "text": [
            "Donkey\n"
          ]
        }
      ],
      "source": [
        "# Overriding\n",
        "class Animal():\n",
        "    def toString(self):\n",
        "        print(\"Animal\")\n",
        "\n",
        "class Donkey(Animal):\n",
        "    def toString(self):\n",
        "        print(\"Donkey\")\n",
        "\n",
        "# 2 Class have same deffination(function). Which function  will be prefer ?\n",
        "\n",
        "a = Donkey()\n",
        "a.toString() # Overriding function calls and Donkey use its funciton not Animal funciton.\n",
        "\n",
        "ans_will_be  = \"Donkey\""
      ]
    },
    {
      "cell_type": "code",
      "execution_count": 119,
      "metadata": {
        "id": "KFE2cii9m5NA",
        "outputId": "18c53030-7413-4eec-a3ea-bc31e8b7839f",
        "colab": {
          "base_uri": "https://localhost:8080/"
        }
      },
      "outputs": [
        {
          "output_type": "stream",
          "name": "stdout",
          "text": [
            "Salary 110.0\n",
            "CompEng:  120.0\n",
            "MechatronicE:  150.0\n"
          ]
        }
      ],
      "source": [
        "# Polymorfhism\n",
        "# Same deffinition - but different usage\n",
        "# Exapmle\n",
        "\n",
        "class Employee:\n",
        "    def raise_function(self):\n",
        "        raise_rate = 0.1\n",
        "        result = 100+100*raise_rate\n",
        "        print(\"Salary\" ,result)\n",
        "\n",
        "class CompEng:\n",
        "    def raise_funtion(self):\n",
        "        raise_rate = 0.2\n",
        "        result = 100+100*raise_rate\n",
        "        print(\"CompEng: \" , result)\n",
        "\n",
        "class MechatronicsE:\n",
        "    def raise_funtion(self):\n",
        "        raise_rate = 0.5\n",
        "        result = 100 + 100*raise_rate\n",
        "        print(\"MechatronicE: \",result)\n",
        "\n",
        "a = Employee()\n",
        "a.raise_function()\n",
        "b = CompEng()\n",
        "b.raise_funtion()\n",
        "c = MechatronicsE()\n",
        "c.raise_funtion()"
      ]
    },
    {
      "cell_type": "code",
      "execution_count": 116,
      "metadata": {
        "id": "gtgU6klPm5NA",
        "outputId": "28daa88d-76ca-4793-8d50-41821f413db2",
        "colab": {
          "base_uri": "https://localhost:8080/"
        }
      },
      "outputs": [
        {
          "output_type": "stream",
          "name": "stdout",
          "text": [
            "Circle area:  78.5\n",
            "Circle perimeter:  31.400000000000002\n",
            "Circle radius:  5\n"
          ]
        }
      ],
      "source": [
        "#Final Project\n",
        "\"\"\"\n",
        "OOP: Object Oriented Programing\n",
        "    -class/object\n",
        "    -attributes/methods\n",
        "    -encapsulation/ abstraciton\n",
        "    -inheritance\n",
        "    -overriding/polymorphism\n",
        "\"\"\"\n",
        "from abc import ABC , abstractmethod\n",
        "\n",
        "class Shape(ABC):\n",
        "\n",
        "    def area(self): pass\n",
        "    @abstractmethod\n",
        "    def perimeter(self): pass\n",
        "    @abstractmethod\n",
        "    def toString(self): pass\n",
        "\n",
        "class Square(Shape):\n",
        "    def __init__(self, edge):\n",
        "        self.__edge = edge # encapsulation private attribute\n",
        "    def area(self):\n",
        "        result = self.__edge**2\n",
        "        print(\"Square area: \",result)\n",
        "    def perimeter(self):\n",
        "        result = self.__edge*4\n",
        "        print(\"Square perimeter: \",result)\n",
        "    # override and polymorphism\n",
        "    def toString(self):\n",
        "        print(\"Square edge: \",self.__edge)\n",
        "# child\n",
        "class Circle(Shape):\n",
        "    PI = 3.14\n",
        "    def __init__(self, radius):\n",
        "        self.__radius = radius\n",
        "    def area(self):\n",
        "        result = self.PI*self.__radius**2 # pi*r^2\n",
        "        print(\"Circle area: \",result)\n",
        "    def perimeter(self):\n",
        "        result = 2*self.PI*self.__radius  # 2*pi*r\n",
        "        print(\"Circle perimeter: \",result)\n",
        "    def toString(self):\n",
        "        print(\"Circle radius: \",self.__radius)\n",
        "\n",
        "\n",
        "a = Circle(5)\n",
        "a.area()\n",
        "a.perimeter()\n",
        "a.toString()"
      ]
    },
    {
      "cell_type": "code",
      "execution_count": null,
      "metadata": {
        "id": "HZHkcvlkm5NA"
      },
      "outputs": [],
      "source": []
    }
  ],
  "metadata": {
    "kernelspec": {
      "display_name": "Python 3",
      "language": "python",
      "name": "python3"
    },
    "language_info": {
      "codemirror_mode": {
        "name": "ipython",
        "version": 3
      },
      "file_extension": ".py",
      "mimetype": "text/x-python",
      "name": "python",
      "nbconvert_exporter": "python",
      "pygments_lexer": "ipython3",
      "version": "3.7.3"
    },
    "colab": {
      "provenance": []
    }
  },
  "nbformat": 4,
  "nbformat_minor": 0
}