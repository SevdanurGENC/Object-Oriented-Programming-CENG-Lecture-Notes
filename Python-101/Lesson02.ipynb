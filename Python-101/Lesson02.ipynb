{
 "cells": [
  {
   "cell_type": "markdown",
   "metadata": {
    "colab_type": "text",
    "id": "Uqstf6kg1CCT"
   },
   "source": [
    "# If/Else Conditions\n",
    "\n",
    "if \"condition\":\n",
    "\n",
    "\n",
    "> \"do something\"\n",
    "\n",
    "print()\n"
   ]
  },
  {
   "cell_type": "code",
   "execution_count": 100,
   "metadata": {
    "colab": {
     "base_uri": "https://localhost:8080/",
     "height": 52
    },
    "colab_type": "code",
    "id": "1gdtAyGZ1MTD",
    "outputId": "3a82ecd7-719b-4135-a31a-bd547a3fd188"
   },
   "outputs": [
    {
     "name": "stdout",
     "output_type": "stream",
     "text": [
      "Please enter a letter: g\n",
      "Not exist\n"
     ]
    }
   ],
   "source": [
    "course = \"python\"\n",
    "\n",
    "s = input(\"Please enter a letter: \")\n",
    "\n",
    "if s in course:\n",
    "  print(\"Exists!\")\n",
    "else:\n",
    "  print(\"Not exist\")\n",
    "\n"
   ]
  },
  {
   "cell_type": "code",
   "execution_count": 102,
   "metadata": {
    "colab": {},
    "colab_type": "code",
    "id": "3hmeanZ757dR"
   },
   "outputs": [
    {
     "name": "stdout",
     "output_type": "stream",
     "text": [
      "Please enter a letter: p\n",
      "Exists\n"
     ]
    }
   ],
   "source": [
    "course = \"python\"\n",
    "\n",
    "s = input(\"Please enter a letter: \")\n",
    "\n",
    "if s not in course:\n",
    "  print(\"Not exist!\")\n",
    "else:\n",
    "  print(\"Exists\")"
   ]
  },
  {
   "cell_type": "code",
   "execution_count": null,
   "metadata": {
    "colab": {
     "base_uri": "https://localhost:8080/",
     "height": 52
    },
    "colab_type": "code",
    "id": "LXqRwY8TkEt4",
    "outputId": "82c99f74-5bf5-45a6-c9fd-a90c8c213ad7"
   },
   "outputs": [],
   "source": [
    "num = int(input(\"Enter a number: \"))\n",
    "\n",
    "if num < 0:  \n",
    "  num *= -1  #num= num*-1\n",
    "\n",
    "print(\"Result is: \", num)"
   ]
  },
  {
   "cell_type": "markdown",
   "metadata": {
    "colab_type": "text",
    "id": "kBKf25lKyDbS"
   },
   "source": [
    "#If-Else\n",
    "\n",
    "if \"condition\":\n",
    "\n",
    "\n",
    "> \"birşey yap\" <koşul doğru ise çalışacak durumlar>\n",
    "\n",
    "else:\n",
    "\n",
    "\n",
    "\n",
    "> \"başka birşey yap\" <koşul doğru değilse çalışacak durumlar>\n",
    "\n",
    "\n",
    "\n",
    "print()"
   ]
  },
  {
   "cell_type": "code",
   "execution_count": null,
   "metadata": {
    "colab": {
     "base_uri": "https://localhost:8080/",
     "height": 132
    },
    "colab_type": "code",
    "id": "uero0zQKmGKt",
    "outputId": "0f94368e-43bb-4e64-e237-a77c2781ab3f"
   },
   "outputs": [],
   "source": [
    "course = \"python\"\n",
    "\n",
    "s = input(\"Lütfen bir harf giriniz: \")\n",
    "\n",
    "if s in course:\n",
    "  print(\"Mevcut!\")\n",
    "else:\n",
    "  print(\"Yok...\")"
   ]
  },
  {
   "cell_type": "markdown",
   "metadata": {
    "colab_type": "text",
    "id": "2sRlaG6I4h-Y"
   },
   "source": [
    "# If-Elif-Else\n",
    "\n",
    "if \"koşul\":\n",
    "\n",
    "\n",
    "> \"birşey yap\"  <koşul doğru ise çalışacak durumlar>\n",
    "\n",
    "elif \"koşul2\":\n",
    "\n",
    "\n",
    "\n",
    "> \"başka birşey yap\"  <koşul doğru ise çalışacak durumlar>\n",
    "\n",
    "elif \"koşul3\":\n",
    "\n",
    "\n",
    "\n",
    "> \"başka birşey yap\" <koşul doğru ise çalışacak durumlar>\n",
    "\n",
    "\n",
    "\n",
    "\n",
    "\n",
    "else:\n",
    "\n",
    "\n",
    "\n",
    "> \"farklı birşey yap\" <yukarıdaki koşullar doğru değilse çalışacak durumlar>\n",
    "\n",
    "\n",
    "\n",
    "print()"
   ]
  },
  {
   "cell_type": "code",
   "execution_count": null,
   "metadata": {
    "colab": {
     "base_uri": "https://localhost:8080/",
     "height": 52
    },
    "colab_type": "code",
    "id": "rLCMo9Kuxe4Y",
    "outputId": "1a47bb85-7acf-4d8d-9e2a-836d08ed9a44"
   },
   "outputs": [],
   "source": [
    "score = int(input(\"Lütfen sınav puanınızı giriniz: \"))\n",
    "\n",
    "if score <= 40:\n",
    "  print(\"Kötü, çok çalışmalısın..\")\n",
    "elif score <= 60:\n",
    "  print(\"Orta, biraz daha çalışmalısın.\")\n",
    "elif score <= 100:\n",
    "  print(\"Tebrikler, iyi bir not aldın!\")\n",
    "else:\n",
    "  print(\"Geçersiz ifade girdiniz!!!\")\n",
    "\n"
   ]
  },
  {
   "cell_type": "code",
   "execution_count": null,
   "metadata": {
    "colab": {
     "base_uri": "https://localhost:8080/",
     "height": 35
    },
    "colab_type": "code",
    "id": "O0r1rOWX8-F6",
    "outputId": "9c4acd92-6ad4-4340-cbc3-60e0bfcce3f8"
   },
   "outputs": [],
   "source": [
    "x = 5\n",
    "\n",
    "if x > 4:\n",
    "  x = x+1\n",
    "elif x > 5:\n",
    "  x = x+2\n",
    "elif x > 7:\n",
    "  x = x+3\n",
    "\n",
    "print (\"x in değeri, \", x)"
   ]
  },
  {
   "cell_type": "code",
   "execution_count": null,
   "metadata": {
    "colab": {
     "base_uri": "https://localhost:8080/",
     "height": 35
    },
    "colab_type": "code",
    "id": "d_JbM3Yz-Mxq",
    "outputId": "5f7f2017-37b4-40ce-8652-5b9fa81e633b"
   },
   "outputs": [],
   "source": [
    "x = 5\n",
    "\n",
    "if x > 4:\n",
    "  x = x+1 \n",
    "\n",
    "  if x > 5:\n",
    "    x = x+2\n",
    "\n",
    "    if x > 7:\n",
    "        x = x+3\n",
    "\n",
    "print (\"x in değeri, \", x)"
   ]
  },
  {
   "cell_type": "markdown",
   "metadata": {
    "colab_type": "text",
    "id": "rInHfh0wJksj"
   },
   "source": [
    "___\n",
    "## Koşullu Durumlar ( Condition Statements )"
   ]
  },
  {
   "cell_type": "code",
   "execution_count": 59,
   "metadata": {
    "colab": {},
    "colab_type": "code",
    "id": "AKf1VB6EJksk",
    "scrolled": true
   },
   "outputs": [
    {
     "data": {
      "text/plain": [
       "True"
      ]
     },
     "execution_count": 59,
     "metadata": {},
     "output_type": "execute_result"
    }
   ],
   "source": [
    "bool(1)"
   ]
  },
  {
   "cell_type": "code",
   "execution_count": 60,
   "metadata": {},
   "outputs": [
    {
     "data": {
      "text/plain": [
       "False"
      ]
     },
     "execution_count": 60,
     "metadata": {},
     "output_type": "execute_result"
    }
   ],
   "source": [
    "bool(0)"
   ]
  },
  {
   "cell_type": "code",
   "execution_count": 61,
   "metadata": {
    "colab": {},
    "colab_type": "code",
    "id": "jFCUE4R0Jksm"
   },
   "outputs": [
    {
     "data": {
      "text/plain": [
       "False"
      ]
     },
     "execution_count": 61,
     "metadata": {},
     "output_type": "execute_result"
    }
   ],
   "source": [
    "bool(\"\")"
   ]
  },
  {
   "cell_type": "code",
   "execution_count": 62,
   "metadata": {
    "colab": {},
    "colab_type": "code",
    "id": "8LiNhp5DJksn"
   },
   "outputs": [
    {
     "data": {
      "text/plain": [
       "True"
      ]
     },
     "execution_count": 62,
     "metadata": {},
     "output_type": "execute_result"
    }
   ],
   "source": [
    "bool(\"Lorem ipsum\")"
   ]
  },
  {
   "cell_type": "code",
   "execution_count": 63,
   "metadata": {
    "colab": {},
    "colab_type": "code",
    "id": "-LXjzNywJksp"
   },
   "outputs": [
    {
     "data": {
      "text/plain": [
       "True"
      ]
     },
     "execution_count": 63,
     "metadata": {},
     "output_type": "execute_result"
    }
   ],
   "source": [
    "bool(1234)"
   ]
  },
  {
   "cell_type": "markdown",
   "metadata": {
    "colab_type": "text",
    "id": "mxpEep9qJksq"
   },
   "source": [
    "```\n",
    "==   Eşittir\n",
    "!=   Eşit Değildir\n",
    ">    Büyüktür\n",
    "<    Küçüktür\n",
    ">=   Büyük Eşittir\n",
    "<=   Küçük Eşittir\n",
    "```"
   ]
  },
  {
   "cell_type": "code",
   "execution_count": 64,
   "metadata": {
    "colab": {},
    "colab_type": "code",
    "id": "sYyNRA_kJksr"
   },
   "outputs": [
    {
     "name": "stdout",
     "output_type": "stream",
     "text": [
      "(50 > 30) : True\n",
      "(20 > 30) : False\n",
      "(50 > 30) and (20 > 30) : False\n",
      "(50 > 30) or (20 > 30) : True\n"
     ]
    }
   ],
   "source": [
    "print(\"(50 > 30) :\", (50 > 30))\n",
    "print(\"(20 > 30) :\", (20 > 30))\n",
    "print(\"(50 > 30) and (20 > 30) :\", (50 > 30) and (20 > 30))\n",
    "print(\"(50 > 30) or (20 > 30) :\", (50 > 30) or (20 > 30))"
   ]
  },
  {
   "cell_type": "code",
   "execution_count": 65,
   "metadata": {
    "colab": {},
    "colab_type": "code",
    "id": "zsJgyfC0Jkss"
   },
   "outputs": [
    {
     "name": "stdout",
     "output_type": "stream",
     "text": [
      "False\n"
     ]
    }
   ],
   "source": [
    "print(True and False)"
   ]
  },
  {
   "cell_type": "code",
   "execution_count": 66,
   "metadata": {
    "colab": {},
    "colab_type": "code",
    "id": "FMVLr_PWJkst"
   },
   "outputs": [
    {
     "name": "stdout",
     "output_type": "stream",
     "text": [
      "True\n"
     ]
    }
   ],
   "source": [
    "print(True and True)"
   ]
  },
  {
   "cell_type": "code",
   "execution_count": 67,
   "metadata": {
    "colab": {},
    "colab_type": "code",
    "id": "AOgWL1PUJksu"
   },
   "outputs": [
    {
     "name": "stdout",
     "output_type": "stream",
     "text": [
      "True\n"
     ]
    }
   ],
   "source": [
    "print(not False)"
   ]
  },
  {
   "cell_type": "code",
   "execution_count": 68,
   "metadata": {
    "colab": {},
    "colab_type": "code",
    "id": "MFQ3lI0ZJksv"
   },
   "outputs": [
    {
     "name": "stdout",
     "output_type": "stream",
     "text": [
      "Sayı giriniz:20\n",
      "25'ten küçük veya 25'e eşit!\n"
     ]
    }
   ],
   "source": [
    "a = int(input(\"Sayı giriniz:\"))\n",
    "\n",
    "if a < 10:\n",
    "    print(\"10'dan küçük!\")\n",
    "elif a < 15:\n",
    "    print(\"15'ten küçük!\")\n",
    "elif a <= 25:\n",
    "    print(\"25'ten küçük veya 25'e eşit!\")\n",
    "else:\n",
    "    print(\"25'ten büyük!\")"
   ]
  },
  {
   "cell_type": "code",
   "execution_count": 69,
   "metadata": {
    "colab": {},
    "colab_type": "code",
    "id": "cqrX-afxJksx"
   },
   "outputs": [
    {
     "name": "stdout",
     "output_type": "stream",
     "text": [
      "Kullanıcı adınız:test\n",
      "Şifreniz:test\n",
      "Giriş başarılı!\n"
     ]
    }
   ],
   "source": [
    "gerçek_kullanıcı = \"test\"\n",
    "gerçek_şifre = \"test\"\n",
    "\n",
    "sorulan_kullanıcı = input(\"Kullanıcı adınız:\")\n",
    "sorulan_şifre = input(\"Şifreniz:\")\n",
    "\n",
    "if gerçek_şifre == sorulan_şifre and gerçek_kullanıcı == sorulan_kullanıcı:\n",
    "    print(\"Giriş başarılı!\")\n",
    "elif not sorulan_kullanıcı:\n",
    "    print(\"Kullanıcı adı alanı boş olamaz!\")\n",
    "elif not sorulan_şifre:\n",
    "    print(\"Şifre alanı boş olamaz!\")\n",
    "else:\n",
    "    print(\"Kullanıcı adı veya şifre yanlış!\")"
   ]
  },
  {
   "cell_type": "code",
   "execution_count": 72,
   "metadata": {
    "colab": {},
    "colab_type": "code",
    "id": "dSJOWv7cJksy"
   },
   "outputs": [
    {
     "name": "stdout",
     "output_type": "stream",
     "text": [
      "Sözcüğü giriniz:Python\n",
      "Aranan sözcük cümlede mevcut!\n"
     ]
    }
   ],
   "source": [
    "cümle = \"\"\"Python, nesne yönelimli, yorumlamalı, \n",
    "birimsel ve etkileşimli yüksek seviyeli bir programlama dilidir.\"\"\"\n",
    "\n",
    "aranacak_sözcük = input(\"Sözcüğü giriniz:\")\n",
    "\n",
    "if aranacak_sözcük in cümle:\n",
    "    print(\"Aranan sözcük cümlede mevcut!\")\n",
    "else:\n",
    "    print(\"Cümlede öyle bir sözcük yok!\")"
   ]
  },
  {
   "cell_type": "markdown",
   "metadata": {
    "colab_type": "text",
    "id": "gDwccPO2_c0R"
   },
   "source": [
    "# Soru\n",
    "\n",
    "Bir şirkette, çalışanların maaşları aşağıdaki formül kullanılarak hesaplanarak aşamalı olarak artırılır:\n",
    "\n",
    "maaş = maaş + maaş x (artış yüzdesi)\n",
    "\n",
    "Artışlar, işçinin mevcut maaşına göre aşağıda belirtildiği gibi önceden tanımlanmıştır. Örneğin işçinin cari maaşı 1000 TL veya daha az ise maaşı% 15 artırılır.\n",
    "\n",
    "\n",
    "Aralık | Yüzdesi\n",
    "--- | ---\n",
    "0 < maaş ≤ 1000 | 15%\n",
    "1000 < maaş ≤ 2000 |10%\n",
    "2000 < maaş ≤ 3000| 5%\n",
    "3000 < maaş | 2.5%\n",
    "\n",
    "\n",
    "Kullanıcıdan maaşını girmesini isteyen bir program yazın. Ardından programınız, kullanıcının artan maaşını hesaplamalı ve yazdırmalıdır.\n",
    "\n",
    "Örnek Çıktılar:\n",
    "\n",
    "Lütfen mevcut maaşınızı girin: 1000\n",
    "\n",
    "Yeni maaşınız 1150.0.\n",
    "\n",
    "Lütfen mevcut maaşınızı girin: 2500\n",
    "\n",
    "Yeni maaşınız 2625.0."
   ]
  },
  {
   "cell_type": "markdown",
   "metadata": {
    "colab_type": "text",
    "id": "Po9n8VAwAimY"
   },
   "source": [
    "# Cevap"
   ]
  },
  {
   "cell_type": "markdown",
   "metadata": {
    "colab_type": "text",
    "id": "ECbPU-yVAgwR"
   },
   "source": []
  },
  {
   "cell_type": "code",
   "execution_count": null,
   "metadata": {
    "colab": {
     "base_uri": "https://localhost:8080/",
     "height": 52
    },
    "colab_type": "code",
    "id": "uLq_XcOJDv4_",
    "outputId": "5ca0a2d8-0259-476d-be9a-d60408e7d16d"
   },
   "outputs": [],
   "source": [
    "maas = float(input(\"Lütfen mevcut maaşınızı giriniz: \"))\n",
    "\n",
    "if maas < 0:\n",
    "  print(\"Geçersiz değer\")\n",
    "else:\n",
    "\n",
    "  if 0 < maas <= 1000:\n",
    "    maas = maas + maas * 0.15\n",
    "  elif maas <= 2000:\n",
    "    maas = maas + maas * 0.1\n",
    "  elif maas <= 3000:\n",
    "    maas = maas + maas * 0.05\n",
    "  else:\n",
    "    maas = maas + maas * 0.025\n",
    "\n",
    "  print(\"Yeni maaşınız\", maas)"
   ]
  },
  {
   "cell_type": "markdown",
   "metadata": {
    "colab_type": "text",
    "id": "alFtTZs0FyXs"
   },
   "source": [
    "# While Döngü Yapısı\n",
    "\n",
    "Koşul başlangıcı\n",
    "\n",
    "while <koşul>:\n",
    "\n",
    "\n",
    "\n",
    "> <doğru ifade>\n",
    "\n",
    "> <doğru ifade>\n",
    "\n",
    "> koşul güncelleme\n",
    "\n",
    "\n",
    "Bir mantıksal şart mantıksal doğru değerine sahip olduğu sürece tekrarlanır. Döngünün sona ermesi için o şartın yanlış duruma gelmesi gerekir.Bunun için döngünün içinde değişkenler uygun şekilde güncellenir. \n",
    "\n",
    "\n",
    "\n",
    "  "
   ]
  },
  {
   "cell_type": "code",
   "execution_count": null,
   "metadata": {
    "colab": {
     "base_uri": "https://localhost:8080/",
     "height": 177
    },
    "colab_type": "code",
    "id": "t2hN1ADgUKdI",
    "outputId": "b3f24ea4-0247-41f9-c16f-cc86fdf380c6"
   },
   "outputs": [],
   "source": [
    "sayi = 0\n",
    "\n",
    "while sayi < 9:\n",
    "  print(\"Sayının değeri:\", sayi)\n",
    "  sayi = sayi +1\n"
   ]
  },
  {
   "cell_type": "code",
   "execution_count": null,
   "metadata": {},
   "outputs": [],
   "source": [
    "print(sayi)"
   ]
  },
  {
   "cell_type": "code",
   "execution_count": null,
   "metadata": {
    "colab": {},
    "colab_type": "code",
    "id": "YAM4s0m7ViEA"
   },
   "outputs": [],
   "source": [
    "sayi2 = 0\n",
    "\n",
    "while sayi2 != 9:\n",
    "  print(\"Sayının değeri:\", sayi2)\n",
    "  sayi2 +=2\n",
    "\n",
    "#sonsuz döngü, infinite loop"
   ]
  },
  {
   "cell_type": "code",
   "execution_count": null,
   "metadata": {
    "colab": {
     "base_uri": "https://localhost:8080/",
     "height": 141
    },
    "colab_type": "code",
    "id": "2UmFwW5FWEkd",
    "outputId": "f95075a7-4047-4e12-e654-b3367df55c0a"
   },
   "outputs": [],
   "source": [
    "sayi3 = int(input(\"Lütfen 1 ve 10 arasında bir sayı giriniz:\"))\n",
    "\n",
    "while sayi3 < 1 or sayi3 > 10:  \n",
    "  print(\"Doğru olmayan bir değer girdiniz!!!!\")\n",
    "  sayi3 = int(input(\"Lütfen 1 ve 10 arasında bir sayı giriniz:\"))\n",
    "print(\"Tebrikler...\") \n"
   ]
  },
  {
   "cell_type": "markdown",
   "metadata": {
    "colab_type": "text",
    "id": "Wxh9hTfQaTXB"
   },
   "source": [
    "## Bir listenin elemanlarını yazdıralım. "
   ]
  },
  {
   "cell_type": "code",
   "execution_count": null,
   "metadata": {
    "colab": {
     "base_uri": "https://localhost:8080/",
     "height": 124
    },
    "colab_type": "code",
    "id": "tOoDBo33Y9O0",
    "outputId": "1a3e0fc8-6f21-49ae-a3c6-69d23f69c019"
   },
   "outputs": [],
   "source": [
    "t = [1,2,3,4,5,6]\n",
    "\n",
    "\n",
    "i = 0\n",
    "while (i < len(t)):\n",
    "  #i+=1\n",
    "  print(i, \". indexteki elemanı: \", t[i])\n",
    "  i+=1"
   ]
  },
  {
   "cell_type": "code",
   "execution_count": null,
   "metadata": {
    "colab": {
     "base_uri": "https://localhost:8080/",
     "height": 88
    },
    "colab_type": "code",
    "id": "pSN-AL8A62bc",
    "outputId": "4b41f3b2-adff-419b-f888-b8790e3549fa"
   },
   "outputs": [],
   "source": [
    "while True:\n",
    "  a = input(\"Bir değer giriniz: \")\n",
    "  if a == \"Exit\":\n",
    "    break"
   ]
  },
  {
   "cell_type": "markdown",
   "metadata": {
    "colab_type": "text",
    "id": "HytO2C2ib-vf"
   },
   "source": [
    "# For Döngü Yapısı\n",
    "\n",
    "\n",
    "for <tekrarlayan değer> in <sıralı dizi>:\n",
    "\n",
    "\n",
    "\n",
    "> <doğru ifade>\n",
    "\n",
    "\n",
    "Liste gibi sıralı bir nesnedeki elemanları sırayla tek tek alır ve döngü içerisinde işler.\n",
    "\n",
    "\n"
   ]
  },
  {
   "cell_type": "code",
   "execution_count": null,
   "metadata": {
    "colab": {
     "base_uri": "https://localhost:8080/",
     "height": 70
    },
    "colab_type": "code",
    "id": "BgahixcjcC_a",
    "outputId": "eb57d5dd-ea82-4e64-dbfd-78f1975c3e6b"
   },
   "outputs": [],
   "source": [
    "for i in [2,45,57]:\n",
    "  print(i)\n",
    "\n"
   ]
  },
  {
   "cell_type": "code",
   "execution_count": null,
   "metadata": {
    "colab": {},
    "colab_type": "code",
    "id": "ZD6pp2A9cglb"
   },
   "outputs": [],
   "source": [
    "for i in range(5):\n",
    "  print(i)"
   ]
  },
  {
   "cell_type": "code",
   "execution_count": null,
   "metadata": {
    "colab": {
     "base_uri": "https://localhost:8080/",
     "height": 230
    },
    "colab_type": "code",
    "id": "sSRS5oGOdr0t",
    "outputId": "b34a4d04-8cc5-4318-a9f3-52dd218cfbac"
   },
   "outputs": [],
   "source": [
    "for i in \"Python Kursu\":\n",
    "  print(i)"
   ]
  },
  {
   "cell_type": "code",
   "execution_count": null,
   "metadata": {
    "colab": {
     "base_uri": "https://localhost:8080/",
     "height": 52
    },
    "colab_type": "code",
    "id": "c8G-3iFNkrH4",
    "outputId": "d855e734-bbf0-46f7-c155-d0b54bd70ef4"
   },
   "outputs": [],
   "source": [
    "for i in \"Python Kursu\".split():\n",
    "  print(i)"
   ]
  },
  {
   "cell_type": "code",
   "execution_count": null,
   "metadata": {
    "colab": {
     "base_uri": "https://localhost:8080/",
     "height": 106
    },
    "colab_type": "code",
    "id": "6Pvl_Pps6fbR",
    "outputId": "3e4efa0a-e2db-45bc-8678-0f023d135a8a"
   },
   "outputs": [],
   "source": [
    "for i in range(10):\n",
    "  if i == 5:    \n",
    "    break\n",
    "  print(i)"
   ]
  },
  {
   "cell_type": "code",
   "execution_count": null,
   "metadata": {
    "colab": {
     "base_uri": "https://localhost:8080/",
     "height": 177
    },
    "colab_type": "code",
    "id": "vTRaCu7N6ife",
    "outputId": "fed997ca-c6fc-4e8c-ba4d-9054a3bb9178"
   },
   "outputs": [],
   "source": [
    "for i in range(10):\n",
    "  if i == 5:\n",
    "    continue\n",
    "  print(i)"
   ]
  },
  {
   "cell_type": "code",
   "execution_count": null,
   "metadata": {
    "colab": {
     "base_uri": "https://localhost:8080/",
     "height": 35
    },
    "colab_type": "code",
    "id": "fZKEer8umXFk",
    "outputId": "386a0f8c-b501-42f5-ed1a-e9eb8151d947"
   },
   "outputs": [],
   "source": [
    "sayilar = list(range(8))\n",
    "\n",
    "kareler = []\n",
    "\n",
    "for i in sayilar:\n",
    "  kareler.append(i**2)\n",
    "print(kareler)"
   ]
  },
  {
   "cell_type": "code",
   "execution_count": null,
   "metadata": {
    "colab": {
     "base_uri": "https://localhost:8080/",
     "height": 35
    },
    "colab_type": "code",
    "id": "fnfkGpJanbCF",
    "outputId": "599faa82-fd86-4f1c-f20e-0a7f509b9f32"
   },
   "outputs": [],
   "source": [
    "sayilar = list(range(8))\n",
    "\n",
    "kareler = [i**2 for i in sayilar]\n",
    "print(kareler)"
   ]
  },
  {
   "cell_type": "code",
   "execution_count": null,
   "metadata": {
    "colab": {
     "base_uri": "https://localhost:8080/",
     "height": 52
    },
    "colab_type": "code",
    "id": "msKp56Y1ozOk",
    "outputId": "b6e0e99f-1151-4d2e-f75e-1cd6b4313083"
   },
   "outputs": [],
   "source": [
    "sayilar = list(range(8))\n",
    "\n",
    "cift_kareler = [i**2\n",
    "                for i in sayilar\n",
    "                if i % 2 == 0]\n",
    "\n",
    "tek_küpler = [i**3\n",
    "               for i in sayilar\n",
    "               if i% 2 == 1]\n",
    "\n",
    "print(cift_kareler)\n",
    "print(tek_küpler)"
   ]
  },
  {
   "cell_type": "code",
   "execution_count": null,
   "metadata": {
    "colab": {
     "base_uri": "https://localhost:8080/",
     "height": 35
    },
    "colab_type": "code",
    "id": "BAIT9kSGrHTn",
    "outputId": "e6b50121-df29-4196-d07d-b3c5de4df535"
   },
   "outputs": [],
   "source": [
    "mylist = [3,5,12,7,65,35]\n",
    "\n",
    "sum = 0\n",
    "\n",
    "for i in mylist:\n",
    "  sum = sum + i    #sum += i\n",
    "print(sum)\n",
    "  #print(sum)\n"
   ]
  },
  {
   "cell_type": "markdown",
   "metadata": {
    "colab_type": "text",
    "id": "sNWHEuYTuGUk"
   },
   "source": [
    "### Listenin en büyük elemanını bulma"
   ]
  },
  {
   "cell_type": "code",
   "execution_count": null,
   "metadata": {
    "colab": {
     "base_uri": "https://localhost:8080/",
     "height": 35
    },
    "colab_type": "code",
    "id": "6MnAca4Ht13-",
    "outputId": "5676296a-aa01-468a-9236-5cb866f0eb28"
   },
   "outputs": [],
   "source": [
    "mylist = [3,5,12,7,65,35]\n",
    "\n",
    "\n",
    "max = mylist[0]\n",
    "\n",
    "for i in mylist:\n",
    "  if i > max:\n",
    "    max = i\n",
    "print(max)"
   ]
  },
  {
   "cell_type": "markdown",
   "metadata": {
    "colab_type": "text",
    "id": "RzvtIqRPwMjJ"
   },
   "source": [
    "### Liste elemanlarını toplama"
   ]
  },
  {
   "cell_type": "code",
   "execution_count": null,
   "metadata": {},
   "outputs": [],
   "source": [
    "list1 = [1,2,3]\n",
    "list2 = [4,5,6]"
   ]
  },
  {
   "cell_type": "code",
   "execution_count": null,
   "metadata": {},
   "outputs": [],
   "source": [
    "list1+list2"
   ]
  },
  {
   "cell_type": "code",
   "execution_count": null,
   "metadata": {
    "colab": {
     "base_uri": "https://localhost:8080/",
     "height": 35
    },
    "colab_type": "code",
    "id": "SkyZxq07vZcv",
    "outputId": "c20dc7f4-59e0-4e4a-9359-152d241ac4aa"
   },
   "outputs": [],
   "source": [
    "list1 = [1,2,3]\n",
    "list2 = [4,5,6]\n",
    "\n",
    "list3 = [a + b \n",
    "         for a,b in zip(list1,list2)]\n",
    "\n",
    "print(list3)"
   ]
  },
  {
   "cell_type": "markdown",
   "metadata": {
    "colab_type": "text",
    "id": "KDoimRfIHeKc"
   },
   "source": [
    "##Soru\n",
    "\n",
    "Kullanıcıdan bir tamsayı değeri (stop_number) giren ve 0'dan stop_number'a kadar tüm sayıların toplamını yazdıran bir program yazın. Kullanıcının geçerli bir değer gireceğini varsayabilirsiniz."
   ]
  },
  {
   "cell_type": "markdown",
   "metadata": {
    "colab_type": "text",
    "id": "iF9iRGVRHzZ3"
   },
   "source": [
    "##Cevap"
   ]
  },
  {
   "cell_type": "code",
   "execution_count": null,
   "metadata": {
    "colab": {},
    "colab_type": "code",
    "id": "oz0YvBT4wQQv"
   },
   "outputs": [],
   "source": []
  },
  {
   "cell_type": "markdown",
   "metadata": {
    "colab_type": "text",
    "id": "n3r7-MzJIQaF"
   },
   "source": [
    "##Soru\n",
    "\n",
    "Programınızı, toplanacak sayıların başlangıç değerini de (start_number) girecek şekilde genişletin. Bu durumda, programınız start_number dan stop_number a kadar tüm sayıları toplayacaktır. Kullanıcının iki geçerli değer gireceğini varsayabilirsiniz."
   ]
  },
  {
   "cell_type": "markdown",
   "metadata": {
    "colab_type": "text",
    "id": "Aum8NWmkJeF8"
   },
   "source": [
    "##Cevap"
   ]
  },
  {
   "cell_type": "code",
   "execution_count": null,
   "metadata": {
    "colab": {},
    "colab_type": "code",
    "id": "wyf3bHGlIl5q"
   },
   "outputs": [],
   "source": []
  },
  {
   "cell_type": "markdown",
   "metadata": {
    "colab_type": "text",
    "id": "5iu8rZn5JLEh"
   },
   "source": [
    "##Soru\n",
    "\n",
    "Programınızı, start_number ı 0 ile 100 arasında bir tamsayı olup olmadığını kontrol edecek şekilde genişletin. Eğer öyleyse, programınız ikinci girdiyi sormaya ve hesaplamaları yapmaya devam edecektir; aksi takdirde, bir hata yazdırır ve yürütmeyi durdurur."
   ]
  },
  {
   "cell_type": "markdown",
   "metadata": {
    "colab_type": "text",
    "id": "L5XVRV4DJhQA"
   },
   "source": [
    "##Cevap"
   ]
  },
  {
   "cell_type": "code",
   "execution_count": null,
   "metadata": {
    "colab": {},
    "colab_type": "code",
    "id": "pbsMWzp_Jb56"
   },
   "outputs": [],
   "source": []
  },
  {
   "cell_type": "markdown",
   "metadata": {
    "colab_type": "text",
    "id": "XTtGXdC8Jks9"
   },
   "source": [
    "___\n",
    "## Döngüler ( Loops )"
   ]
  },
  {
   "cell_type": "code",
   "execution_count": 81,
   "metadata": {
    "colab": {},
    "colab_type": "code",
    "id": "zSxVMO7dJks9"
   },
   "outputs": [
    {
     "name": "stdout",
     "output_type": "stream",
     "text": [
      "5\n",
      "6\n",
      "7\n",
      "8\n",
      "9\n"
     ]
    }
   ],
   "source": [
    "a = 5\n",
    "\n",
    "while a < 10:\n",
    "    print(a)\n",
    "    a += 1"
   ]
  },
  {
   "cell_type": "code",
   "execution_count": 82,
   "metadata": {
    "colab": {},
    "colab_type": "code",
    "id": "GETqbjwpJks-"
   },
   "outputs": [
    {
     "name": "stdout",
     "output_type": "stream",
     "text": [
      "O\n",
      "ğ\n",
      "u\n",
      "z\n",
      " \n",
      "A\n",
      "T\n",
      "A\n",
      "Y\n"
     ]
    }
   ],
   "source": [
    "isim = \"Oğuz ATAY\"\n",
    "for harf in isim:\n",
    "    print(harf)"
   ]
  },
  {
   "cell_type": "markdown",
   "metadata": {
    "colab_type": "text",
    "id": "DSTZe9HZJks_"
   },
   "source": [
    "___\n",
    "#### range, break, continue, pass statements\n",
    "___"
   ]
  },
  {
   "cell_type": "code",
   "execution_count": 83,
   "metadata": {
    "colab": {},
    "colab_type": "code",
    "id": "9VaEuTCTJks_"
   },
   "outputs": [
    {
     "name": "stdout",
     "output_type": "stream",
     "text": [
      "2\n",
      "4\n",
      "6\n",
      "8\n"
     ]
    }
   ],
   "source": [
    "for i in range(2, 10, 2):\n",
    "    print(i, end=\"\\n\")"
   ]
  },
  {
   "cell_type": "code",
   "execution_count": 84,
   "metadata": {
    "colab": {},
    "colab_type": "code",
    "id": "0siOxWwaJktB"
   },
   "outputs": [
    {
     "name": "stdout",
     "output_type": "stream",
     "text": [
      "0 1 2 3 4 5 "
     ]
    }
   ],
   "source": [
    "for i in range(10):\n",
    "    print(i, end=\" \")\n",
    "    if i == 5:\n",
    "        break"
   ]
  },
  {
   "cell_type": "code",
   "execution_count": 85,
   "metadata": {
    "colab": {},
    "colab_type": "code",
    "id": "M0V6IR9pJktE"
   },
   "outputs": [
    {
     "name": "stdout",
     "output_type": "stream",
     "text": [
      "0 1 2 3 4 6 7 8 9 "
     ]
    }
   ],
   "source": [
    "for i in range(10):\n",
    "    if i == 5:\n",
    "        continue\n",
    "    print(i, end=\" \")"
   ]
  },
  {
   "cell_type": "code",
   "execution_count": 86,
   "metadata": {
    "colab": {},
    "colab_type": "code",
    "id": "g0v7IX64JktG"
   },
   "outputs": [
    {
     "name": "stdout",
     "output_type": "stream",
     "text": [
      "0 1 2 3 4 5 6 7 8 9 "
     ]
    }
   ],
   "source": [
    "for i in range(10):\n",
    "    if i == 5:\n",
    "        pass\n",
    "    print(i, end=\" \")"
   ]
  },
  {
   "cell_type": "code",
   "execution_count": 87,
   "metadata": {
    "colab": {},
    "colab_type": "code",
    "id": "ZDm4QzVxJktH"
   },
   "outputs": [
    {
     "name": "stdout",
     "output_type": "stream",
     "text": [
      "Kullanıcı adınız:admin\n",
      "Şifreniz:test\n",
      "Kullanıcı adı veya şifre yanlış!\n",
      "******************************\n",
      "Kullanıcı adınız:test\n",
      "Şifreniz:12345\n",
      "Kullanıcı adı veya şifre yanlış!\n",
      "******************************\n",
      "Kullanıcı adınız:admin\n",
      "Şifreniz:12345\n",
      "Kullanıcı adı veya şifre yanlış!\n",
      "******************************\n",
      "Kullanıcı adınız:test\n",
      "Şifreniz:test\n",
      "Giriş başarılı!\n"
     ]
    }
   ],
   "source": [
    "gerçek_kullanıcı = \"test\"\n",
    "gerçek_şifre = \"test\"\n",
    "\n",
    "while True:\n",
    "    sorulan_kullanıcı = input(\"Kullanıcı adınız:\")\n",
    "    sorulan_şifre = input(\"Şifreniz:\")\n",
    "    \n",
    "    if gerçek_şifre == sorulan_şifre and gerçek_kullanıcı == sorulan_kullanıcı:\n",
    "        print(\"Giriş başarılı!\")\n",
    "        break\n",
    "    elif not sorulan_kullanıcı:\n",
    "        print(\"Kullanıcı adı alanı boş olamaz!\")\n",
    "    elif not sorulan_şifre:\n",
    "        print(\"Şifre alanı boş olamaz!\")\n",
    "    else:\n",
    "        print(\"Kullanıcı adı veya şifre yanlış!\")\n",
    "    \n",
    "    print(\"*\"*30)"
   ]
  },
  {
   "cell_type": "markdown",
   "metadata": {
    "colab_type": "text",
    "id": "ybZhmq0MJktI"
   },
   "source": [
    "___\n",
    "## Hata Yakalama Try/Except/Finally ( Exception Handling )"
   ]
  },
  {
   "cell_type": "markdown",
   "metadata": {
    "colab_type": "text",
    "id": "cma2IKnL9e-M"
   },
   "source": [
    "* Programmer Errors \n",
    "* Program Bugs \n",
    "* Exceptions"
   ]
  },
  {
   "cell_type": "markdown",
   "metadata": {
    "colab_type": "text",
    "id": "bz2U4A64BnWJ"
   },
   "source": [
    "##Exception Handling\n",
    "\n",
    "\n",
    "try:\n",
    "\n",
    "\n",
    "> the situations where we can get exceptions\n",
    "\n",
    "except \"Exception Name\":\n",
    "\n",
    "\n",
    "> the operations in case of exceptions\n",
    "\n",
    "\n",
    "\n"
   ]
  },
  {
   "cell_type": "markdown",
   "metadata": {
    "colab_type": "text",
    "id": "73JXTr5QJktI"
   },
   "source": [
    "|Error Name| Description|\n",
    "| --------------------------------------|:----------------------:|\n",
    "|AssertionError|Raised when the assert statement fails.|\n",
    "|AttributeError|Raised on the attribute assignment or reference fails.|\n",
    "|EOFError|Raised when the input() function hits the end-of-file condition.|\n",
    "|FloatingPointError|Raised when a floating point operation fails.|\n",
    "|GeneratorExit|Raised when a generator's close() method is called.|\n",
    "|ImportError|Raised when the imported module is not found.|\n",
    "|IndexError|Raised when the index of a sequence is out of range.|\n",
    "|KeyError|Raised when a key is not found in a dictionary.|\n",
    "|KeyboardInterrupt|Raised when the user hits the interrupt key (Ctrl+c or delete).|\n",
    "|MemoryError|Raised when an operation runs out of memory.|\n",
    "|NameError|Raised when a variable is not found in the local or global scope.|\n",
    "|NotImplementedError|Raised by abstract methods.|\n",
    "|OSError|Raised when a system operation causes a system-related error.|\n",
    "|OverflowError|Raised when the result of an arithmetic operation is too large to be represented.|\n",
    "|ReferenceError|Raised when a weak reference proxy is used to access a garbage collected referent.|\n",
    "|RuntimeError|Raised when an error does not fall under any other category.|\n",
    "|StopIteration|Raised by the next() function to indicate that there is no further item to be returned by the iterator.|\n",
    "|SyntaxError|Raised by the parser when a syntax error is encountered.|\n",
    "|IndentationError|Raised when there is an incorrect indentation.|\n",
    "|TabError|Raised when the indentation consists of inconsistent tabs and spaces.|\n",
    "|SystemError|Raised when the interpreter detects internal error.|\n",
    "|SystemExit|Raised by the sys.exit() function.|\n",
    "|TypeError|Raised when a function or operation is applied to an object of an incorrect type.|\n",
    "|UnboundLocalError|Raised when a reference is made to a local variable in a function or method, but no value has been bound to that variable.|\n",
    "|UnicodeError|Raised when a Unicode-related encoding or decoding error occurs.|\n",
    "|UnicodeEncodeError|Raised when a Unicode-related error occurs during encoding.|\n",
    "|UnicodeDecodeError|Raised when a Unicode-related error occurs during decoding.|\n",
    "|UnicodeTranslateError|Raised when a Unicode-related error occurs during translation.|\n",
    "|ValueError|Raised when a function gets an argument of correct type but improper value.|\n",
    "|ZeroDivisionError|Raised when the second operand of a division or module operation is zero.|"
   ]
  },
  {
   "cell_type": "code",
   "execution_count": 88,
   "metadata": {
    "colab": {},
    "colab_type": "code",
    "id": "p0ldUImfJktJ"
   },
   "outputs": [
    {
     "name": "stdout",
     "output_type": "stream",
     "text": [
      "Bölünecek sayıyı giriniz:10\n",
      "Bölecek sayıyı giriniz:0\n",
      "Bir hata meydana geldi!\n"
     ]
    }
   ],
   "source": [
    "try:\n",
    "    sayı1 = int(input(\"Bölünecek sayıyı giriniz:\"))\n",
    "    sayı2 = int(input(\"Bölecek sayıyı giriniz:\"))\n",
    "    sonuc = sayı1 / sayı2\n",
    "    print(sonuc)\n",
    "    \n",
    "except:\n",
    "    print(\"Bir hata meydana geldi!\")"
   ]
  },
  {
   "cell_type": "code",
   "execution_count": 90,
   "metadata": {
    "colab": {},
    "colab_type": "code",
    "id": "_29AMcL4JktK"
   },
   "outputs": [
    {
     "name": "stdout",
     "output_type": "stream",
     "text": [
      "Yaşınızı girin:-10\n"
     ]
    },
    {
     "ename": "Exception",
     "evalue": "Yaşınız negatif bir sayı olamaz!",
     "output_type": "error",
     "traceback": [
      "\u001b[1;31m---------------------------------------------------------------------------\u001b[0m",
      "\u001b[1;31mException\u001b[0m                                 Traceback (most recent call last)",
      "\u001b[1;32m<ipython-input-90-514347576ca1>\u001b[0m in \u001b[0;36m<module>\u001b[1;34m\u001b[0m\n\u001b[0;32m      1\u001b[0m \u001b[0myaş\u001b[0m \u001b[1;33m=\u001b[0m \u001b[0mint\u001b[0m\u001b[1;33m(\u001b[0m\u001b[0minput\u001b[0m\u001b[1;33m(\u001b[0m\u001b[1;34m\"Yaşınızı girin:\"\u001b[0m\u001b[1;33m)\u001b[0m\u001b[1;33m)\u001b[0m\u001b[1;33m\u001b[0m\u001b[1;33m\u001b[0m\u001b[0m\n\u001b[0;32m      2\u001b[0m \u001b[1;32mif\u001b[0m \u001b[0myaş\u001b[0m \u001b[1;33m<\u001b[0m \u001b[1;36m0\u001b[0m\u001b[1;33m:\u001b[0m\u001b[1;33m\u001b[0m\u001b[1;33m\u001b[0m\u001b[0m\n\u001b[1;32m----> 3\u001b[1;33m     \u001b[1;32mraise\u001b[0m \u001b[0mException\u001b[0m\u001b[1;33m(\u001b[0m\u001b[1;34m\"Yaşınız negatif bir sayı olamaz!\"\u001b[0m\u001b[1;33m)\u001b[0m\u001b[1;33m\u001b[0m\u001b[1;33m\u001b[0m\u001b[0m\n\u001b[0m\u001b[0;32m      4\u001b[0m \u001b[0mprint\u001b[0m\u001b[1;33m(\u001b[0m\u001b[0myaş\u001b[0m\u001b[1;33m)\u001b[0m\u001b[1;33m\u001b[0m\u001b[1;33m\u001b[0m\u001b[0m\n",
      "\u001b[1;31mException\u001b[0m: Yaşınız negatif bir sayı olamaz!"
     ]
    }
   ],
   "source": [
    "yaş = int(input(\"Yaşınızı girin:\"))\n",
    "if yaş < 0:\n",
    "    raise Exception(\"Yaşınız negatif bir sayı olamaz!\")\n",
    "print(yaş)"
   ]
  },
  {
   "cell_type": "code",
   "execution_count": null,
   "metadata": {
    "colab": {
     "base_uri": "https://localhost:8080/",
     "height": 132
    },
    "colab_type": "code",
    "id": "1YGSrszE9cch",
    "outputId": "30e93b4a-a466-4cd9-a46d-1698dece3e55"
   },
   "outputs": [
    {
     "ename": "SyntaxError",
     "evalue": "Missing parentheses in call to 'print'. Did you mean print(\"Hello World!\")? (<ipython-input-1-c7f6c99ffc2b>, line 3)",
     "output_type": "error",
     "traceback": [
      "\u001b[1;36m  File \u001b[1;32m\"<ipython-input-1-c7f6c99ffc2b>\"\u001b[1;36m, line \u001b[1;32m3\u001b[0m\n\u001b[1;33m    print \"Hello World!\"\u001b[0m\n\u001b[1;37m                       ^\u001b[0m\n\u001b[1;31mSyntaxError\u001b[0m\u001b[1;31m:\u001b[0m Missing parentheses in call to 'print'. Did you mean print(\"Hello World!\")?\n"
     ]
    }
   ],
   "source": [
    "# error example,SyntaxError.\n",
    "\n",
    "print \"Hello World!\"   "
   ]
  },
  {
   "cell_type": "code",
   "execution_count": null,
   "metadata": {
    "colab": {},
    "colab_type": "code",
    "id": "OMnUYXwD_msy",
    "outputId": "800a3ad2-2748-40a4-894a-5d43d780aabd"
   },
   "outputs": [
    {
     "name": "stdout",
     "output_type": "stream",
     "text": [
      "Enter the first integer: 5\n",
      "Enter the second integer: 7\n",
      "5 + 7 = 57\n"
     ]
    }
   ],
   "source": [
    "#bug example.\n",
    "\n",
    "num1 = input(\"Enter the first integer: \")\n",
    "num2 = input(\"Enter the second integer: \")\n",
    "\n",
    "print(num1, \"+\", num2, \"=\", num1 + num2)"
   ]
  },
  {
   "cell_type": "code",
   "execution_count": null,
   "metadata": {
    "colab": {},
    "colab_type": "code",
    "id": "n0Ux_gF9CthH",
    "outputId": "b540dd55-99b8-474e-a726-974148ee29c4"
   },
   "outputs": [
    {
     "name": "stdout",
     "output_type": "stream",
     "text": [
      "First integer: 32\n",
      "Second integer: 65\n",
      "32 / 65 = 0.49230769230769234\n"
     ]
    }
   ],
   "source": [
    "#exception example, TypeError.\n",
    "\n",
    "num3 = int(input(\"First integer: \"))\n",
    "num4 = int(input(\"Second integer: \"))\n",
    "\n",
    "print(num3, \"/\",num4, \"=\", num3 / float(num4))"
   ]
  },
  {
   "cell_type": "code",
   "execution_count": null,
   "metadata": {
    "colab": {},
    "colab_type": "code",
    "id": "e2ORm3w6la1J",
    "outputId": "308bb592-512a-4deb-c781-22cc37f9b5cf"
   },
   "outputs": [
    {
     "data": {
      "text/plain": [
       "3"
      ]
     },
     "execution_count": 8,
     "metadata": {
      "tags": []
     },
     "output_type": "execute_result"
    }
   ],
   "source": [
    "int(3)"
   ]
  },
  {
   "cell_type": "code",
   "execution_count": null,
   "metadata": {
    "colab": {},
    "colab_type": "code",
    "id": "n2XZYrdula1Q",
    "outputId": "704bc958-94ec-4a99-daaf-f648fdc43df5"
   },
   "outputs": [
    {
     "ename": "ValueError",
     "evalue": "invalid literal for int() with base 10: 'Hello World'",
     "output_type": "error",
     "traceback": [
      "\u001b[1;31m---------------------------------------------------------------------------\u001b[0m",
      "\u001b[1;31mValueError\u001b[0m                                Traceback (most recent call last)",
      "\u001b[1;32m<ipython-input-10-4325daae57a4>\u001b[0m in \u001b[0;36m<module>\u001b[1;34m\u001b[0m\n\u001b[0;32m      1\u001b[0m \u001b[1;31m#ValueError\u001b[0m\u001b[1;33m\u001b[0m\u001b[1;33m\u001b[0m\u001b[1;33m\u001b[0m\u001b[0m\n\u001b[1;32m----> 2\u001b[1;33m \u001b[0mint\u001b[0m\u001b[1;33m(\u001b[0m\u001b[1;34m\"Hello World\"\u001b[0m\u001b[1;33m)\u001b[0m\u001b[1;33m\u001b[0m\u001b[1;33m\u001b[0m\u001b[0m\n\u001b[0m",
      "\u001b[1;31mValueError\u001b[0m: invalid literal for int() with base 10: 'Hello World'"
     ]
    }
   ],
   "source": [
    "#ValueError\n",
    "int(\"Hello World\")"
   ]
  },
  {
   "cell_type": "code",
   "execution_count": null,
   "metadata": {
    "colab": {},
    "colab_type": "code",
    "id": "D9_dw3TqA0wc",
    "outputId": "2a1d5777-1fef-4853-c3f0-4e86fe6d7aed"
   },
   "outputs": [
    {
     "name": "stdout",
     "output_type": "stream",
     "text": [
      "First integer: 9\n",
      "Second integer: 0\n"
     ]
    },
    {
     "ename": "ZeroDivisionError",
     "evalue": "division by zero",
     "output_type": "error",
     "traceback": [
      "\u001b[1;31m---------------------------------------------------------------------------\u001b[0m",
      "\u001b[1;31mZeroDivisionError\u001b[0m                         Traceback (most recent call last)",
      "\u001b[1;32m<ipython-input-12-c273cdf866df>\u001b[0m in \u001b[0;36m<module>\u001b[1;34m\u001b[0m\n\u001b[0;32m      5\u001b[0m \u001b[0mnum4\u001b[0m \u001b[1;33m=\u001b[0m \u001b[0mint\u001b[0m\u001b[1;33m(\u001b[0m\u001b[0minput\u001b[0m\u001b[1;33m(\u001b[0m\u001b[1;34m\"Second integer: \"\u001b[0m\u001b[1;33m)\u001b[0m\u001b[1;33m)\u001b[0m\u001b[1;33m\u001b[0m\u001b[1;33m\u001b[0m\u001b[0m\n\u001b[0;32m      6\u001b[0m \u001b[1;33m\u001b[0m\u001b[0m\n\u001b[1;32m----> 7\u001b[1;33m \u001b[0mprint\u001b[0m\u001b[1;33m(\u001b[0m\u001b[0mnum3\u001b[0m\u001b[1;33m,\u001b[0m \u001b[1;34m\"/\"\u001b[0m\u001b[1;33m,\u001b[0m\u001b[0mnum4\u001b[0m\u001b[1;33m,\u001b[0m \u001b[1;34m\"=\"\u001b[0m\u001b[1;33m,\u001b[0m \u001b[0mnum3\u001b[0m\u001b[1;33m/\u001b[0m\u001b[0mnum4\u001b[0m\u001b[1;33m)\u001b[0m\u001b[1;33m\u001b[0m\u001b[1;33m\u001b[0m\u001b[0m\n\u001b[0m",
      "\u001b[1;31mZeroDivisionError\u001b[0m: division by zero"
     ]
    }
   ],
   "source": [
    "# ZeroDivisionError.\n",
    "\n",
    "\n",
    "num3 = int(input(\"First integer: \"))\n",
    "num4 = int(input(\"Second integer: \"))\n",
    "\n",
    "print(num3, \"/\",num4, \"=\", num3/num4)"
   ]
  },
  {
   "cell_type": "code",
   "execution_count": null,
   "metadata": {
    "colab": {},
    "colab_type": "code",
    "id": "MEG6rMLYla1a",
    "outputId": "aebf4d6f-1c06-4e39-ff35-c3fdd90f4c39"
   },
   "outputs": [
    {
     "data": {
      "text/plain": [
       "8"
      ]
     },
     "execution_count": 6,
     "metadata": {
      "tags": []
     },
     "output_type": "execute_result"
    }
   ],
   "source": [
    "3 + 5"
   ]
  },
  {
   "cell_type": "code",
   "execution_count": null,
   "metadata": {
    "colab": {},
    "colab_type": "code",
    "id": "ZAvBllCQla1k",
    "outputId": "d0b3b91b-2c82-4b20-ca8f-49989be6a368"
   },
   "outputs": [
    {
     "name": "stdout",
     "output_type": "stream",
     "text": [
      "Enter the first integer: 3\n",
      "Enter the second integer: 6\n",
      "3 + 6 = 9\n"
     ]
    }
   ],
   "source": [
    "#bug example.\n",
    "\n",
    "num1 = int(input(\"Enter the first integer: \"))\n",
    "num2 = int(input(\"Enter the second integer: \"))\n",
    "\n",
    "print(num1, \"+\", num2, \"=\", num1 + num2)"
   ]
  },
  {
   "cell_type": "code",
   "execution_count": null,
   "metadata": {
    "colab": {
     "base_uri": "https://localhost:8080/",
     "height": 204
    },
    "colab_type": "code",
    "id": "-2Dkw2H4BpCX",
    "outputId": "f81b0a41-db10-4a9d-852e-00eaf498e0d4"
   },
   "outputs": [
    {
     "ename": "ValueError",
     "evalue": "invalid literal for int() with base 10: 'Alan Turing'",
     "output_type": "error",
     "traceback": [
      "\u001b[1;31m---------------------------------------------------------------------------\u001b[0m",
      "\u001b[1;31mValueError\u001b[0m                                Traceback (most recent call last)",
      "\u001b[1;32m<ipython-input-14-417db27f4b47>\u001b[0m in \u001b[0;36m<module>\u001b[1;34m\u001b[0m\n\u001b[0;32m      1\u001b[0m \u001b[0mx\u001b[0m \u001b[1;33m=\u001b[0m \u001b[1;34m\"Alan Turing\"\u001b[0m\u001b[1;33m\u001b[0m\u001b[1;33m\u001b[0m\u001b[0m\n\u001b[0;32m      2\u001b[0m \u001b[1;33m\u001b[0m\u001b[0m\n\u001b[1;32m----> 3\u001b[1;33m \u001b[0mint\u001b[0m\u001b[1;33m(\u001b[0m\u001b[0mx\u001b[0m\u001b[1;33m)\u001b[0m\u001b[1;33m\u001b[0m\u001b[1;33m\u001b[0m\u001b[0m\n\u001b[0m",
      "\u001b[1;31mValueError\u001b[0m: invalid literal for int() with base 10: 'Alan Turing'"
     ]
    }
   ],
   "source": [
    "x = \"Alan Turing\"\n",
    "\n",
    "int(x)"
   ]
  },
  {
   "cell_type": "code",
   "execution_count": null,
   "metadata": {
    "colab": {},
    "colab_type": "code",
    "id": "rAhmuTE9B8cy",
    "outputId": "fd637887-18db-4f5d-f47f-fa8dd8e9bcc7"
   },
   "outputs": [
    {
     "name": "stdout",
     "output_type": "stream",
     "text": [
      "Please enter an integer value!!!\n"
     ]
    }
   ],
   "source": [
    "try:\n",
    "  int(x)\n",
    "\n",
    "except ValueError:\n",
    "  print(\"Please enter an integer value!!!\")"
   ]
  },
  {
   "cell_type": "code",
   "execution_count": null,
   "metadata": {
    "colab": {},
    "colab_type": "code",
    "id": "E4QMEl4YC5cR",
    "outputId": "b77688e2-59dc-4f61-b2a1-5b8beb06dc08"
   },
   "outputs": [
    {
     "name": "stdout",
     "output_type": "stream",
     "text": [
      "First integer: 56\n",
      "Second integer: 79\n",
      "56 / 79 = 0.7088607594936709\n"
     ]
    }
   ],
   "source": [
    "num3 = input(\"First integer: \")\n",
    "num4 = input(\"Second integer: \")\n",
    "\n",
    "try:\n",
    "  num3_int = int(num3)\n",
    "  num4_int = int(num4)\n",
    "\n",
    "  print(num3_int, \"/\",num4_int, \"=\", num3_int/num4_int)\n",
    "\n",
    "except ValueError:\n",
    "  print(\"Please enter an integer value!!!\")"
   ]
  },
  {
   "cell_type": "code",
   "execution_count": null,
   "metadata": {
    "colab": {},
    "colab_type": "code",
    "id": "ttj6eITbCYik",
    "outputId": "6129aa80-b389-4860-94f6-fbf1cfe654dc"
   },
   "outputs": [
    {
     "name": "stdout",
     "output_type": "stream",
     "text": [
      "First integer: 67\n",
      "Second integer: 0\n",
      "Please enter the second input different than 0 value!!!\n"
     ]
    }
   ],
   "source": [
    "num3 = input(\"First integer: \")\n",
    "num4 = input(\"Second integer: \")\n",
    "\n",
    "try:\n",
    "  num3_int = int(num3)\n",
    "  num4_int = int(num4)\n",
    "\n",
    "  print(num3_int, \"/\",num4_int, \"=\", num3_int/num4_int)\n",
    "\n",
    "except ZeroDivisionError:\n",
    "  print(\"Please enter the second input different than 0 value!!!\")"
   ]
  },
  {
   "cell_type": "code",
   "execution_count": null,
   "metadata": {
    "colab": {},
    "colab_type": "code",
    "id": "qgTSl8xJFrnP"
   },
   "outputs": [],
   "source": [
    "num3 = input(\"First integer: \")\n",
    "num4 = input(\"Second integer: \")\n",
    "\n",
    "try:\n",
    "  num3_int = int(num3)\n",
    "  num4_int = int(num4)\n",
    "\n",
    "  print(num3_int, \"/\",num4_int, \"=\", num3_int/num4_int)\n",
    "\n",
    "except ValueError:\n",
    "  print(\"Please enter an integer value!!!\")\n",
    "except ZeroDivisionError:\n",
    "  print(\"Please enter the second input different than 0 value!!!\")\n",
    "except:\n",
    "  print(\"Unknown error...\")"
   ]
  },
  {
   "cell_type": "code",
   "execution_count": null,
   "metadata": {
    "colab": {},
    "colab_type": "code",
    "id": "bGy694JBF4nv"
   },
   "outputs": [],
   "source": [
    "num3 = input(\"First integer: \")\n",
    "num4 = input(\"Second integer: \")\n",
    "\n",
    "try:\n",
    "  num3_int = int(num3)\n",
    "  num4_int = int(num4)\n",
    "\n",
    "  print(num3_int, \"/\",num4_int, \"=\", num3_int/num4_int)\n",
    "\n",
    "except (ValueError, ZeroDivisionError):\n",
    "  print(\"Error!!!\")"
   ]
  },
  {
   "cell_type": "code",
   "execution_count": null,
   "metadata": {
    "colab": {},
    "colab_type": "code",
    "id": "tu1cCIfjJiFM"
   },
   "outputs": [],
   "source": [
    "#try/except/as\n",
    "\n",
    "\n",
    "num3 = input(\"First integer: \")\n",
    "num4 = input(\"Second integer: \")\n",
    "\n",
    "try:\n",
    "  num3_int = int(num3)\n",
    "  num4_int = int(num4)\n",
    "\n",
    "  print(num3_int, \"/\",num4_int, \"=\", num3_int/num4_int)\n",
    "\n",
    "except ValueError as error:\n",
    "  print(\"Error!!!\")\n",
    "  print(\"Error message: \", error)"
   ]
  },
  {
   "cell_type": "code",
   "execution_count": null,
   "metadata": {
    "colab": {},
    "colab_type": "code",
    "id": "g07-ysSCGQvw",
    "outputId": "84c3d2d2-aa7e-4eb5-a4f2-ca457c9a1a6c"
   },
   "outputs": [
    {
     "name": "stdout",
     "output_type": "stream",
     "text": [
      "First number: (Press q for quit the program): 45\n",
      "Second number: 9\n",
      "45 / 9 = 5.0\n",
      "First number: (Press q for quit the program): 100\n",
      "Second number: 10\n",
      "100 / 10 = 10.0\n",
      "First number: (Press q for quit the program): 100\n",
      "Second number: \"HAHA\"\n",
      "Error!\n",
      "Please try again!\n",
      "First number: (Press q for quit the program): 45\n",
      "Second number: 0\n",
      "Error!\n",
      "Please try again!\n"
     ]
    }
   ],
   "source": [
    "#exception handling in loop structure\n",
    "\n",
    "\n",
    "while True:\n",
    "    num1 = input(\"First number: (Press q for quit the program): \")\n",
    "\n",
    "    if num1 == \"q\":\n",
    "        break\n",
    "\n",
    "    num2 = input(\"Second number: \")\n",
    "\n",
    "    try:\n",
    "        num1_int = int(num1)\n",
    "        num2_int = int(num2)\n",
    "        print(num1_int, \"/\", num2_int, \"=\", num1_int / num2_int)\n",
    "    except (ValueError, ZeroDivisionError):\n",
    "        print(\"Error!\")\n",
    "        print(\"Please try again!\")"
   ]
  },
  {
   "cell_type": "code",
   "execution_count": null,
   "metadata": {
    "colab": {},
    "colab_type": "code",
    "id": "S7czCxD3KTKx"
   },
   "outputs": [],
   "source": [
    "\"\"\"\n",
    "exception handling in functions\n",
    "using raise command\n",
    "\"\"\"\n",
    "\n",
    "\n",
    "def reverse(s):\n",
    "\n",
    "    if (type(s) != str):\n",
    "        raise ValueError(\"Please enter a String type.\")\n",
    "    else:\n",
    "        return s[::-1]\n",
    "\n"
   ]
  },
  {
   "cell_type": "code",
   "execution_count": null,
   "metadata": {
    "colab": {
     "base_uri": "https://localhost:8080/",
     "height": 36
    },
    "colab_type": "code",
    "id": "2t0fmpb7MOfp",
    "outputId": "676c7296-d80c-4b98-8fc2-1851888d1699"
   },
   "outputs": [
    {
     "data": {
      "text/plain": [
       "'nohtyp'"
      ]
     },
     "execution_count": 8,
     "metadata": {
      "tags": []
     },
     "output_type": "execute_result"
    }
   ],
   "source": [
    "reverse(\"python\")"
   ]
  },
  {
   "cell_type": "code",
   "execution_count": null,
   "metadata": {
    "colab": {},
    "colab_type": "code",
    "id": "Qp4QI6GhzBgC",
    "outputId": "c5452ca6-17cb-4908-f34d-29b3369cef1a"
   },
   "outputs": [
    {
     "ename": "ValueError",
     "evalue": "Please enter a String type.",
     "output_type": "error",
     "traceback": [
      "\u001b[1;31m---------------------------------------------------------------------------\u001b[0m",
      "\u001b[1;31mValueError\u001b[0m                                Traceback (most recent call last)",
      "\u001b[1;32m<ipython-input-9-9be0aeb641b6>\u001b[0m in \u001b[0;36m<module>\u001b[1;34m\u001b[0m\n\u001b[1;32m----> 1\u001b[1;33m \u001b[0mreverse\u001b[0m\u001b[1;33m(\u001b[0m\u001b[1;36m12\u001b[0m\u001b[1;33m)\u001b[0m\u001b[1;33m\u001b[0m\u001b[1;33m\u001b[0m\u001b[0m\n\u001b[0m",
      "\u001b[1;32m<ipython-input-7-421a260d7203>\u001b[0m in \u001b[0;36mreverse\u001b[1;34m(s)\u001b[0m\n\u001b[0;32m      8\u001b[0m \u001b[1;33m\u001b[0m\u001b[0m\n\u001b[0;32m      9\u001b[0m     \u001b[1;32mif\u001b[0m \u001b[1;33m(\u001b[0m\u001b[0mtype\u001b[0m\u001b[1;33m(\u001b[0m\u001b[0ms\u001b[0m\u001b[1;33m)\u001b[0m \u001b[1;33m!=\u001b[0m \u001b[0mstr\u001b[0m\u001b[1;33m)\u001b[0m\u001b[1;33m:\u001b[0m\u001b[1;33m\u001b[0m\u001b[1;33m\u001b[0m\u001b[0m\n\u001b[1;32m---> 10\u001b[1;33m         \u001b[1;32mraise\u001b[0m \u001b[0mValueError\u001b[0m\u001b[1;33m(\u001b[0m\u001b[1;34m\"Please enter a String type.\"\u001b[0m\u001b[1;33m)\u001b[0m\u001b[1;33m\u001b[0m\u001b[1;33m\u001b[0m\u001b[0m\n\u001b[0m\u001b[0;32m     11\u001b[0m     \u001b[1;32melse\u001b[0m\u001b[1;33m:\u001b[0m\u001b[1;33m\u001b[0m\u001b[1;33m\u001b[0m\u001b[0m\n\u001b[0;32m     12\u001b[0m         \u001b[1;32mreturn\u001b[0m \u001b[0ms\u001b[0m\u001b[1;33m[\u001b[0m\u001b[1;33m:\u001b[0m\u001b[1;33m:\u001b[0m\u001b[1;33m-\u001b[0m\u001b[1;36m1\u001b[0m\u001b[1;33m]\u001b[0m\u001b[1;33m\u001b[0m\u001b[1;33m\u001b[0m\u001b[0m\n",
      "\u001b[1;31mValueError\u001b[0m: Please enter a String type."
     ]
    }
   ],
   "source": [
    "reverse(12)"
   ]
  },
  {
   "cell_type": "code",
   "execution_count": null,
   "metadata": {
    "colab": {},
    "colab_type": "code",
    "id": "goltKT5Ela2g",
    "outputId": "2a90fcea-f789-4cb9-a021-2a97c1b82d7c"
   },
   "outputs": [
    {
     "name": "stdout",
     "output_type": "stream",
     "text": [
      "number1:3\n",
      "number2:0\n",
      "it cannot be divided by zero\n",
      "show must go on\n",
      "Hello world\n"
     ]
    }
   ],
   "source": [
    "#finally\n",
    "try:\n",
    "    a = int(input(\"number1:\"))\n",
    "    b = int(input(\"number2:\"))\n",
    "    print(a/b)\n",
    "except ValueError:\n",
    "    print(\"Please Check value out\")\n",
    "except ZeroDivisionError:\n",
    "    print(\"it cannot be divided by zero\")\n",
    "finally:\n",
    "    print(\"show must go on\")\n",
    "    print(\"Hello world\")"
   ]
  },
  {
   "cell_type": "code",
   "execution_count": null,
   "metadata": {
    "colab": {},
    "colab_type": "code",
    "id": "ixgOQX4cla4i"
   },
   "outputs": [],
   "source": []
  },
  {
   "cell_type": "markdown",
   "metadata": {
    "colab_type": "text",
    "id": "0cD8DCHIgNEp"
   },
   "source": [
    "### Tek satır if (One-liner if)"
   ]
  },
  {
   "cell_type": "code",
   "execution_count": null,
   "metadata": {
    "colab": {},
    "colab_type": "code",
    "id": "f0dpk-0tgNEr",
    "outputId": "61660b14-7696-4d1c-8a00-2bd0f1db12a4"
   },
   "outputs": [
    {
     "name": "stdout",
     "output_type": "stream",
     "text": [
      "Armut\n"
     ]
    }
   ],
   "source": [
    "koşul = 3\n",
    "\n",
    "if koşul > 5:\n",
    "    kelime = \"Elma\"\n",
    "elif koşul > 7:\n",
    "    pass\n",
    "else:\n",
    "    kelime = \"Armut\"\n",
    "    print(kelime)"
   ]
  },
  {
   "cell_type": "code",
   "execution_count": null,
   "metadata": {
    "colab": {},
    "colab_type": "code",
    "id": "WZgUMkkzgNE1"
   },
   "outputs": [],
   "source": [
    "kelime = \"Elma\" if koşul else \"Armut\" if koşul > 5 else \"Çilek\""
   ]
  },
  {
   "cell_type": "markdown",
   "metadata": {
    "colab_type": "text",
    "id": "nKxp8n69gNE7"
   },
   "source": [
    "### Tek satır fonksiyon Lambda (One-liner function Lambda)"
   ]
  },
  {
   "cell_type": "code",
   "execution_count": null,
   "metadata": {
    "colab": {},
    "colab_type": "code",
    "id": "qKy5bb4rgNE8",
    "outputId": "27552ffc-f70f-40b2-dc39-568b87941717"
   },
   "outputs": [
    {
     "data": {
      "text/plain": [
       "'Hello World'"
      ]
     },
     "execution_count": 70,
     "metadata": {
      "tags": []
     },
     "output_type": "execute_result"
    }
   ],
   "source": [
    "def hello_world():\n",
    "    return \"Hello World\"\n",
    "\n",
    "hello_world()"
   ]
  },
  {
   "cell_type": "code",
   "execution_count": null,
   "metadata": {
    "colab": {},
    "colab_type": "code",
    "id": "x82VCbXTgNFB",
    "outputId": "9b7978b2-29a6-48e9-a768-56ba80abf2aa"
   },
   "outputs": [
    {
     "data": {
      "text/plain": [
       "25"
      ]
     },
     "execution_count": 71,
     "metadata": {
      "tags": []
     },
     "output_type": "execute_result"
    }
   ],
   "source": [
    "def kare_alma(x):\n",
    "    x = x ** 2\n",
    "    return x\n",
    "\n",
    "kare_alma(5)"
   ]
  },
  {
   "cell_type": "code",
   "execution_count": null,
   "metadata": {
    "colab": {},
    "colab_type": "code",
    "id": "neIFNZU9gNFF",
    "outputId": "e7e92a15-60f4-4f32-da1d-b24034be7350"
   },
   "outputs": [
    {
     "data": {
      "text/plain": [
       "25"
      ]
     },
     "execution_count": 72,
     "metadata": {
      "tags": []
     },
     "output_type": "execute_result"
    }
   ],
   "source": [
    "kare_al = lambda x: x**2\n",
    "kare_al(5)"
   ]
  },
  {
   "cell_type": "markdown",
   "metadata": {
    "colab_type": "text",
    "id": "d237zEuPgNFI"
   },
   "source": [
    "### map, reduce, filter, zip fonksiyonları"
   ]
  },
  {
   "cell_type": "code",
   "execution_count": null,
   "metadata": {
    "colab": {},
    "colab_type": "code",
    "id": "to3QDu3EgNFI",
    "outputId": "77ecc186-1ec4-4dfb-9e34-4ed646c806f4"
   },
   "outputs": [
    {
     "name": "stdout",
     "output_type": "stream",
     "text": [
      "[1, 4, 9, 16, 25, 36, 49]\n"
     ]
    }
   ],
   "source": [
    "sayılar = [1, 2, 3, 4, 5, 6, 7]\n",
    "sayıların_kareleri = []\n",
    "\n",
    "for sayı in sayılar:\n",
    "    sayıların_kareleri.append(kare_al(sayı))\n",
    "print(sayıların_kareleri)"
   ]
  },
  {
   "cell_type": "code",
   "execution_count": null,
   "metadata": {
    "colab": {},
    "colab_type": "code",
    "id": "W_maTuqigNFL",
    "outputId": "0b76c5b8-f517-4e05-fb90-de10a5bab4b7"
   },
   "outputs": [
    {
     "name": "stdout",
     "output_type": "stream",
     "text": [
      "<map object at 0x000001E644B84108>\n"
     ]
    }
   ],
   "source": [
    "liste = [2,3,4]\n",
    "\n",
    "def kare_al2(sayi23):\n",
    "    return sayi **2\n",
    "\n",
    "result = map(kare_al2,liste)\n",
    "print(result)"
   ]
  },
  {
   "cell_type": "code",
   "execution_count": null,
   "metadata": {
    "colab": {},
    "colab_type": "code",
    "id": "EULD1zEYgNFQ",
    "outputId": "1b637a68-10dd-432a-993e-dbc5c1c0af54"
   },
   "outputs": [
    {
     "name": "stdout",
     "output_type": "stream",
     "text": [
      "<map object at 0x000001E64334D988>\n",
      "1\n",
      "4\n",
      "9\n",
      "16\n",
      "25\n",
      "36\n",
      "49\n"
     ]
    }
   ],
   "source": [
    "#map(function,iteration) \n",
    "sayıların_kareleri =  map(kare_al, sayılar)\n",
    "print(sayıların_kareleri)\n",
    "for sayı in sayıların_kareleri:\n",
    "    print(sayı)\n"
   ]
  },
  {
   "cell_type": "code",
   "execution_count": null,
   "metadata": {
    "colab": {},
    "colab_type": "code",
    "id": "Es9EBYwsgNFX",
    "outputId": "90e6e167-d718-4f98-92e7-554d16a23023"
   },
   "outputs": [
    {
     "name": "stdout",
     "output_type": "stream",
     "text": [
      "10\n"
     ]
    }
   ],
   "source": [
    "from functools import reduce\n",
    "\n",
    "sayılar = [1, 6, 3, 7, 10, 0]\n",
    "print(reduce(lambda x,y: x if x > y else y, sayılar))"
   ]
  },
  {
   "cell_type": "code",
   "execution_count": null,
   "metadata": {
    "colab": {},
    "colab_type": "code",
    "id": "FcnJBTC9gNFa",
    "outputId": "73a402b6-3530-470c-ac08-deb3555a4830"
   },
   "outputs": [
    {
     "name": "stdout",
     "output_type": "stream",
     "text": [
      "<filter object at 0x000001E64565DE48>\n",
      "Necati\n",
      "Mehmet\n"
     ]
    }
   ],
   "source": [
    "def beşten_uzun(kelime):\n",
    "    if len(kelime) > 5:\n",
    "        return True\n",
    "    else:\n",
    "        return False\n",
    "isimler = ['Oğuz', 'Ahmet', 'Necati', 'Ali', 'Mehmet', 'Ziya']\n",
    "uzun_isimler = filter(beşten_uzun, isimler)\n",
    "print(uzun_isimler)\n",
    "for isim in uzun_isimler:\n",
    "    print(isim)"
   ]
  },
  {
   "cell_type": "code",
   "execution_count": null,
   "metadata": {
    "colab": {},
    "colab_type": "code",
    "id": "q0xUTRjRgNFd",
    "outputId": "2be93965-c031-402a-daad-d4c2d874957f"
   },
   "outputs": [
    {
     "name": "stdout",
     "output_type": "stream",
     "text": [
      "0 Oğuz\n",
      "1 Ahmet\n",
      "2 Necati\n",
      "3 Ali\n",
      "4 Mehmet\n",
      "5 Ziya\n"
     ]
    }
   ],
   "source": [
    "sayılar = [0, 1, 2, 3, 4, 5]\n",
    "isimler = ['Oğuz', 'Ahmet', 'Necati', 'Ali', 'Mehmet', 'Ziya']\n",
    "\n",
    "\n",
    "for i, j in zip(sayılar, isimler):\n",
    "    print(i,j)\n"
   ]
  },
  {
   "cell_type": "markdown",
   "metadata": {
    "colab_type": "text",
    "id": "iPX3_EQ4gNFj"
   },
   "source": [
    "### Assert anahtar kelimesi ( Assert keyword )"
   ]
  },
  {
   "cell_type": "code",
   "execution_count": null,
   "metadata": {
    "colab": {},
    "colab_type": "code",
    "id": "DLld8Kx-gNFk",
    "outputId": "8f0f0b8a-74cd-4752-ac91-51c8edaf9f1f"
   },
   "outputs": [
    {
     "name": "stdout",
     "output_type": "stream",
     "text": [
      "Yaşınız:-2\n"
     ]
    },
    {
     "ename": "AssertionError",
     "evalue": "Yaşınız negatif olamaz",
     "output_type": "error",
     "traceback": [
      "\u001b[1;31m---------------------------------------------------------------------------\u001b[0m",
      "\u001b[1;31mAssertionError\u001b[0m                            Traceback (most recent call last)",
      "\u001b[1;32m<ipython-input-86-70f9b1578f3f>\u001b[0m in \u001b[0;36m<module>\u001b[1;34m\u001b[0m\n\u001b[0;32m      1\u001b[0m \u001b[0myaş\u001b[0m \u001b[1;33m=\u001b[0m \u001b[0minput\u001b[0m\u001b[1;33m(\u001b[0m\u001b[1;34m\"Yaşınız:\"\u001b[0m\u001b[1;33m)\u001b[0m\u001b[1;33m\u001b[0m\u001b[1;33m\u001b[0m\u001b[0m\n\u001b[1;32m----> 2\u001b[1;33m \u001b[1;32massert\u001b[0m \u001b[0mint\u001b[0m\u001b[1;33m(\u001b[0m\u001b[0myaş\u001b[0m\u001b[1;33m)\u001b[0m \u001b[1;33m>=\u001b[0m \u001b[1;36m0\u001b[0m\u001b[1;33m,\u001b[0m \u001b[1;34m\"Yaşınız negatif olamaz\"\u001b[0m\u001b[1;33m\u001b[0m\u001b[1;33m\u001b[0m\u001b[0m\n\u001b[0m",
      "\u001b[1;31mAssertionError\u001b[0m: Yaşınız negatif olamaz"
     ]
    }
   ],
   "source": [
    "yaş = input(\"Yaşınız:\")\n",
    "assert int(yaş) >= 0, \"Yaşınız negatif olamaz\""
   ]
  },
  {
   "cell_type": "markdown",
   "metadata": {
    "colab_type": "text",
    "id": "Pt39eypEgNFo"
   },
   "source": [
    "### Üreteçler (Generators)"
   ]
  },
  {
   "cell_type": "code",
   "execution_count": null,
   "metadata": {
    "colab": {},
    "colab_type": "code",
    "id": "opWTJrc3gNFo",
    "outputId": "18e16f43-0c91-4479-8ce3-c81e3c1f1682"
   },
   "outputs": [
    {
     "name": "stdout",
     "output_type": "stream",
     "text": [
      "Öncelikle bu basıldı\n",
      "For döngüsü içinde: 1\n",
      "Sonra bu\n",
      "For döngüsü içinde: 2\n"
     ]
    }
   ],
   "source": [
    "def generator():\n",
    "    i = 1\n",
    "    print('Öncelikle bu basıldı')\n",
    "    yield i\n",
    "\n",
    "    i += 1\n",
    "    print('Sonra bu')\n",
    "    yield i\n",
    "\n",
    "for eleman in generator():\n",
    "    print(\"For döngüsü içinde:\", eleman)\n"
   ]
  },
  {
   "cell_type": "code",
   "execution_count": null,
   "metadata": {
    "colab": {},
    "colab_type": "code",
    "id": "iOyyp19kgNFr",
    "outputId": "203a7d24-514f-4cc6-a5b9-f63420032e90"
   },
   "outputs": [
    {
     "name": "stdout",
     "output_type": "stream",
     "text": [
      "outer fonksiyon: 3\n",
      "inner fonksiyon: 8\n"
     ]
    },
    {
     "ename": "NameError",
     "evalue": "name 'inner' is not defined",
     "output_type": "error",
     "traceback": [
      "\u001b[1;31m---------------------------------------------------------------------------\u001b[0m",
      "\u001b[1;31mNameError\u001b[0m                                 Traceback (most recent call last)",
      "\u001b[1;32m<ipython-input-90-2d7815d68966>\u001b[0m in \u001b[0;36m<module>\u001b[1;34m\u001b[0m\n\u001b[0;32m     11\u001b[0m \u001b[1;33m\u001b[0m\u001b[0m\n\u001b[0;32m     12\u001b[0m \u001b[0mouter\u001b[0m\u001b[1;33m(\u001b[0m\u001b[1;33m)\u001b[0m\u001b[1;33m\u001b[0m\u001b[1;33m\u001b[0m\u001b[0m\n\u001b[1;32m---> 13\u001b[1;33m \u001b[0minner\u001b[0m\u001b[1;33m(\u001b[0m\u001b[1;33m)\u001b[0m\u001b[1;33m\u001b[0m\u001b[1;33m\u001b[0m\u001b[0m\n\u001b[0m\u001b[0;32m     14\u001b[0m \u001b[0mprint\u001b[0m\u001b[1;33m(\u001b[0m\u001b[1;34m\"global:\"\u001b[0m\u001b[1;33m,\u001b[0m \u001b[0ma\u001b[0m\u001b[1;33m)\u001b[0m\u001b[1;33m\u001b[0m\u001b[1;33m\u001b[0m\u001b[0m\n",
      "\u001b[1;31mNameError\u001b[0m: name 'inner' is not defined"
     ]
    }
   ],
   "source": [
    "a = 5\n",
    "\n",
    "def outer():\n",
    "    a = 3\n",
    "    def inner():\n",
    "        nonlocal a\n",
    "        a += 5\n",
    "        print(\"inner fonksiyon:\", a)\n",
    "    print(\"outer fonksiyon:\", a)\n",
    "    return inner()\n",
    "\n",
    "outer()\n",
    "inner()\n",
    "print(\"global:\", a)"
   ]
  },
  {
   "cell_type": "markdown",
   "metadata": {
    "colab_type": "text",
    "id": "K_01K12mgNFt"
   },
   "source": [
    "### Decorators"
   ]
  },
  {
   "cell_type": "code",
   "execution_count": null,
   "metadata": {
    "colab": {},
    "colab_type": "code",
    "id": "flfleGxXgNFu",
    "outputId": "01eb5b34-fa0c-4a7d-d465-e43d92924907"
   },
   "outputs": [
    {
     "name": "stdout",
     "output_type": "stream",
     "text": [
      "Time: 19:59:57.128105\n",
      "Hi Ahmet!\n"
     ]
    }
   ],
   "source": [
    "#especially It is used for Flask and Django Framework\n",
    "from datetime import datetime\n",
    "\n",
    "def show_time(func):\n",
    "    def wrapper(name):\n",
    "        print(\"Time:\", datetime.now().time())\n",
    "        func(name)\n",
    "    return wrapper\n",
    "\n",
    "@show_time\n",
    "def say_hi(name=\"John\"):\n",
    "    print(\"Hi {}!\".format(name))\n",
    "\n",
    "say_hi(\"Ahmet\")"
   ]
  },
  {
   "cell_type": "code",
   "execution_count": null,
   "metadata": {
    "colab": {},
    "colab_type": "code",
    "id": "ySxCZDiIgNFy",
    "outputId": "2ed6cbaa-4384-43cb-8bca-69a0bfedf741"
   },
   "outputs": [
    {
     "name": "stdout",
     "output_type": "stream",
     "text": [
      "kare_al_wrapper 0.0HAHA\n",
      "[0, 1, 4, 9, 16, 25, 36, 49, 64, 81, 100, 121, 144, 169, 196, 225, 256, 289, 324, 361, 400, 441, 484, 529, 576, 625, 676, 729, 784, 841, 900, 961, 1024, 1089, 1156, 1225, 1296, 1369, 1444, 1521, 1600, 1681, 1764, 1849, 1936, 2025, 2116, 2209, 2304, 2401, 2500, 2601, 2704, 2809, 2916, 3025, 3136, 3249, 3364, 3481, 3600, 3721, 3844, 3969, 4096, 4225, 4356, 4489, 4624, 4761, 4900, 5041, 5184, 5329, 5476, 5625, 5776, 5929, 6084, 6241, 6400, 6561, 6724, 6889, 7056, 7225, 7396, 7569, 7744, 7921, 8100, 8281, 8464, 8649, 8836, 9025, 9216, 9409, 9604, 9801]\n",
      "kup_al_wrapper 0.0HAHA\n",
      "[0, 1, 8, 27, 64, 125, 216, 343, 512, 729, 1000, 1331, 1728, 2197, 2744, 3375, 4096, 4913, 5832, 6859, 8000, 9261, 10648, 12167, 13824, 15625, 17576, 19683, 21952, 24389, 27000, 29791, 32768, 35937, 39304, 42875, 46656, 50653, 54872, 59319, 64000, 68921, 74088, 79507, 85184, 91125, 97336, 103823, 110592, 117649, 125000, 132651, 140608, 148877, 157464, 166375, 175616, 185193, 195112, 205379, 216000, 226981, 238328, 250047, 262144, 274625, 287496, 300763, 314432, 328509, 343000, 357911, 373248, 389017, 405224, 421875, 438976, 456533, 474552, 493039, 512000, 531441, 551368, 571787, 592704, 614125, 636056, 658503, 681472, 704969, 729000, 753571, 778688, 804357, 830584, 857375, 884736, 912673, 941192, 970299]\n"
     ]
    }
   ],
   "source": [
    "import time \n",
    "def calculate_time(func):\n",
    "    def wrapper(numbers):\n",
    "        start = time.time()\n",
    "        end = time.time()\n",
    "        result = func(numbers)\n",
    "        print(func.__name__ + \" \" + str(end - start) + \"HAHA\")\n",
    "        return result\n",
    "    return wrapper\n",
    "\n",
    "@calculate_time\n",
    "def kare_al_wrapper(numbers):\n",
    "    result = []\n",
    "    for i in numbers:\n",
    "        result.append(i ** 2)\n",
    "    return result\n",
    "\n",
    "@calculate_time\n",
    "def kup_al_wrapper(numbers):\n",
    "    result = []\n",
    "    for i in numbers:\n",
    "        result.append(i ** 3)\n",
    "    return result\n",
    "\n",
    "print(kare_al_wrapper(range(100)))\n",
    "print(kup_al_wrapper(range(100)))"
   ]
  },
  {
   "cell_type": "code",
   "execution_count": null,
   "metadata": {
    "colab": {},
    "colab_type": "code",
    "id": "1ZrWhZAGgNID"
   },
   "outputs": [],
   "source": []
  }
 ],
 "metadata": {
  "kernelspec": {
   "display_name": "Python 3",
   "language": "python",
   "name": "python3"
  },
  "language_info": {
   "codemirror_mode": {
    "name": "ipython",
    "version": 3
   },
   "file_extension": ".py",
   "mimetype": "text/x-python",
   "name": "python",
   "nbconvert_exporter": "python",
   "pygments_lexer": "ipython3",
   "version": "3.7.3"
  }
 },
 "nbformat": 4,
 "nbformat_minor": 2
}
