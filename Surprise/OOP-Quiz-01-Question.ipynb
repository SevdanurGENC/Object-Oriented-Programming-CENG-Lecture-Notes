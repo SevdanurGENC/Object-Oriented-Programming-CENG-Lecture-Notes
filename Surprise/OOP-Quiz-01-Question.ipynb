{
  "nbformat": 4,
  "nbformat_minor": 0,
  "metadata": {
    "colab": {
      "provenance": []
    },
    "kernelspec": {
      "name": "python3",
      "display_name": "Python 3"
    },
    "language_info": {
      "name": "python"
    }
  },
  "cells": [
    {
      "cell_type": "markdown",
      "source": [
        "**1. Sınıf Tanımlama ve Özellikler:**\n",
        "\n",
        "Soru 1: Aşağıdaki Python kodunda eksik olan kısımları doldurunuz. Bu kod, bir Ogrenci sınıfı oluşturarak her öğrencinin adını ve yaşını saklamalıdır."
      ],
      "metadata": {
        "id": "owCd-npLIjlq"
      }
    },
    {
      "cell_type": "code",
      "source": [
        "class Ogrenci:\n",
        "    def __init__(self, ___, ___):\n",
        "        self.___ = ___\n",
        "        self.___ = ___\n",
        "\n",
        "# Bir Ogrenci nesnesi oluşturun ve adını \"Ali\", yaşını \"20\" yapın.\n",
        "ogrenci1 = Ogrenci(___, ___)"
      ],
      "metadata": {
        "id": "rXjACaa7Leiy"
      },
      "execution_count": null,
      "outputs": []
    },
    {
      "cell_type": "markdown",
      "source": [
        "**2. Metod Tanımlama:**\n",
        "\n",
        "Soru 2: Aşağıdaki sınıfın bilgi_ver adında bir fonksiyonunu yazınız. Bu fonksiyon, öğrencinin adı ve yaşını ekrana bastırmalıdır."
      ],
      "metadata": {
        "id": "mwU0aDCgIlEr"
      }
    },
    {
      "cell_type": "code",
      "source": [
        "class Ogrenci:\n",
        "    def __init__(self, ad, yas):\n",
        "        self.ad = ad\n",
        "        self.yas = yas\n",
        "\n",
        "    # burada bir fonksiyon ekleyin\n",
        ""
      ],
      "metadata": {
        "id": "nfi5Pex5IlWH"
      },
      "execution_count": null,
      "outputs": []
    },
    {
      "cell_type": "markdown",
      "source": [
        "**3. Nesne Oluşturma:**\n",
        "\n",
        "Soru 3: Kitap adında bir sınıf oluşturunuz. Bu sınıfın her bir kitabın adı ve yazarını içermesi gerekmektedir. Ayrıca, kitap bilgilerini ekrana yazdıran bir metod tanımlayın. Ardından, en az iki kitap nesnesi oluşturun."
      ],
      "metadata": {
        "id": "5X8ID0P5IldP"
      }
    },
    {
      "cell_type": "code",
      "source": [],
      "metadata": {
        "colab": {
          "base_uri": "https://localhost:8080/"
        },
        "id": "tu6fen3gIljN",
        "outputId": "79293017-3971-4359-8344-0b4f10718e6f"
      },
      "execution_count": 21,
      "outputs": [
        {
          "output_type": "stream",
          "name": "stdout",
          "text": [
            "Kitap Adı: 1984, Yazar: George Orwell\n",
            "Kitap Adı: Küçük Prens, Yazar: Antoine de Saint-Exupéry\n"
          ]
        }
      ]
    },
    {
      "cell_type": "markdown",
      "source": [
        "**4. Deyim ve Öznitelikler:**\n",
        "\n",
        "Soru 4: Bir sınıfın özniteliklerine erişmek ve değiştirmek için bir metod yazınız. Araba adında bir sınıf tanımlayın, bu sınıf her bir arabanın markasını ve hızını saklasın. Araba hızını artırmak için bir metod oluşturun."
      ],
      "metadata": {
        "id": "7NU0HudxIlo3"
      }
    },
    {
      "cell_type": "code",
      "source": [],
      "metadata": {
        "colab": {
          "base_uri": "https://localhost:8080/"
        },
        "id": "auMNvw-tIluO",
        "outputId": "e262539e-bbf5-433d-8aca-eed6c772b7de"
      },
      "execution_count": 22,
      "outputs": [
        {
          "output_type": "stream",
          "name": "stdout",
          "text": [
            "BMW hızlandı. Yeni hız: 150 km/s\n"
          ]
        }
      ]
    },
    {
      "cell_type": "markdown",
      "source": [
        "**1. Senaryo: Kütüphane Yönetim Sistemi**\n",
        "\n",
        "\n",
        "Bir kütüphane yönetim sistemi geliştirmek istiyorsunuz. Her kitabın adı, yazarı ve mevcut adet sayısı tutulmalı. Kullanıcılar kitap ödünç alabilecek ve kitap iade edebilecekler. Her işlem sonucunda kitap adedi güncellenmeli. Eğer ödünç alınmak istenen kitap yoksa kullanıcıya bunun mümkün olmadığı söylenmeli."
      ],
      "metadata": {
        "id": "jCYpTYLUIlzx"
      }
    },
    {
      "cell_type": "code",
      "source": [],
      "metadata": {
        "id": "lZPvlrYjIl4v"
      },
      "execution_count": 8,
      "outputs": []
    },
    {
      "cell_type": "code",
      "source": [],
      "metadata": {
        "colab": {
          "base_uri": "https://localhost:8080/"
        },
        "id": "jcNjCUMVJ56V",
        "outputId": "10b2e083-17c0-4405-eab4-c90f1c1d2153"
      },
      "execution_count": 9,
      "outputs": [
        {
          "output_type": "stream",
          "name": "stdout",
          "text": [
            "1984 kitabını ödünç aldınız. Kalan adet: 2\n",
            "Üzgünüz, Hayvan Çiftliği kitabı şu anda mevcut değil.\n",
            "1984 kitabını iade ettiniz. Güncel adet: 3\n"
          ]
        }
      ]
    },
    {
      "cell_type": "markdown",
      "source": [
        "**2. Senaryo: Otomobil Servis Sistemi**\n",
        "\n",
        "\n",
        "Bir otomobil servis sistemi tasarlıyorsunuz. Her arabanın markası, modeli ve kilometresi olmalı. Kullanıcı arabasını servise getirdiğinde kilometresi güncellenmeli ve bu bilgiyi takip edebilmelisiniz. Ayrıca, servise giren arabaların kaydını tutmalı ve bu kayıtları listeleyebilmelisiniz. (2 sınıf oluşturunuz)"
      ],
      "metadata": {
        "id": "ChvS2HrFImA7"
      }
    },
    {
      "cell_type": "code",
      "source": [],
      "metadata": {
        "id": "Jw9YYK2jImGp"
      },
      "execution_count": 10,
      "outputs": []
    },
    {
      "cell_type": "code",
      "source": [],
      "metadata": {
        "id": "Au1Hf6abKAAP"
      },
      "execution_count": 11,
      "outputs": []
    },
    {
      "cell_type": "code",
      "source": [],
      "metadata": {
        "colab": {
          "base_uri": "https://localhost:8080/"
        },
        "id": "9PFHiSyVKWEI",
        "outputId": "41fc313c-5dcf-4d4e-cf03-a64c7d93c5b5"
      },
      "execution_count": 12,
      "outputs": [
        {
          "output_type": "stream",
          "name": "stdout",
          "text": [
            "Toyota Corolla servise kaydedildi.\n",
            "Ford Focus servise kaydedildi.\n",
            "Toyota Corolla servise getirildi. Güncel kilometre: 50500 km\n",
            "Servise getirilen arabalar:\n",
            "- Toyota Corolla, Kilometre: 50500 km\n",
            "- Ford Focus, Kilometre: 70000 km\n"
          ]
        }
      ]
    },
    {
      "cell_type": "markdown",
      "source": [
        "**3. Senaryo: Banka Hesap Yönetimi**\n",
        "\n",
        "Bir bankada hesap yönetim sistemi oluşturuyorsunuz. Her kullanıcının bir hesabı olacak ve hesap bakiyesi tutulacak. Kullanıcı para yatırabilecek ve para çekebilecek. Eğer kullanıcı bakiyesinden fazla para çekmeye çalışırsa, sistem buna izin vermemeli ve kullanıcıyı uyarmalı."
      ],
      "metadata": {
        "id": "ipL0GXlAImMg"
      }
    },
    {
      "cell_type": "code",
      "source": [],
      "metadata": {
        "id": "F1WR-JLeImR7"
      },
      "execution_count": 13,
      "outputs": []
    },
    {
      "cell_type": "code",
      "source": [],
      "metadata": {
        "colab": {
          "base_uri": "https://localhost:8080/"
        },
        "id": "MNaym-AJKhgE",
        "outputId": "493dea6c-a616-4cf0-d4fe-129699e7dce4"
      },
      "execution_count": 14,
      "outputs": [
        {
          "output_type": "stream",
          "name": "stdout",
          "text": [
            "500 TL yatırdınız. Güncel bakiyeniz: 1500 TL\n",
            "300 TL çektiniz. Güncel bakiyeniz: 1200 TL\n",
            "Yetersiz bakiye. Bakiyeniz: 1200 TL\n"
          ]
        }
      ]
    },
    {
      "cell_type": "markdown",
      "source": [
        "**4. Senaryo: Online Alışveriş Sepeti**\n",
        "\n",
        "Bir online alışveriş sistemi için bir sepet yönetim sistemi tasarlıyorsunuz. Kullanıcı, sepete ürün ekleyebilecek ve sepetindeki ürünleri listeleyebilecek. Her ürünün adı, fiyatı ve adedi tutulacak. Kullanıcı toplam tutarı görebilmeli. (2 sınıf oluşturunuz)"
      ],
      "metadata": {
        "id": "kDbBZjZ3ImWx"
      }
    },
    {
      "cell_type": "code",
      "source": [],
      "metadata": {
        "id": "wnJig9JwKm6U"
      },
      "execution_count": 16,
      "outputs": []
    },
    {
      "cell_type": "code",
      "source": [],
      "metadata": {
        "id": "Yt3q3FcmKnMX"
      },
      "execution_count": 17,
      "outputs": []
    },
    {
      "cell_type": "code",
      "source": [],
      "metadata": {
        "colab": {
          "base_uri": "https://localhost:8080/"
        },
        "id": "PPh8hl_DLICq",
        "outputId": "4a745623-b771-4edc-dd16-cd3963cd9e8f"
      },
      "execution_count": 18,
      "outputs": [
        {
          "output_type": "stream",
          "name": "stdout",
          "text": [
            "Telefon sepete eklendi.\n",
            "Kulaklık sepete eklendi.\n",
            "Sepetinizdeki ürünler:\n",
            "- Telefon, Adet: 1, Fiyat: 5000 TL\n",
            "- Kulaklık, Adet: 2, Fiyat: 300 TL\n",
            "Toplam tutar: 5600 TL\n"
          ]
        }
      ]
    }
  ]
}