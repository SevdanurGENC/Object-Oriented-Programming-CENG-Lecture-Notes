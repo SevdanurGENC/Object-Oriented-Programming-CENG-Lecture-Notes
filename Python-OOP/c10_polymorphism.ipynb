{
 "cells": [
  {
   "cell_type": "markdown",
   "metadata": {},
   "source": [
    "## Polymorphism (Çok Şekillilik , Çok Biçimlilik) \n",
    "\n",
    "Polymorphism (çok biçimlilik) NYP'de programlama dilinin farklı tip verileri ve sınıfları farklı şekilde işleme yeteneğini belirten özelliğidir. Daha belirgin olmak gerekirse, metotları ve türetilmiş sınıfları yeniden tanımlama yeteneğidir. Örnek olarak şekil diye bir sınıf olsun; polymorphism sayesinde programcı farklı şekillerin alanlarını farklı metotlar ile belirleyebilir. Şeklin ne olduğu fark etmeksizin program kullanıcıya doğru alanı verecektir. \n",
    "\n",
    "Çok biçimlilik çeşitli biçimler alabilme yeteneği olarak da ifade edilebilir. Bir nesne ya da metodun farklı yerlerde farklı kullanım şeklinde yer almasıdır. Örneğin + operatörü sayısal değerleri matematiksel olarak toplarken, metin değerleri birleştirme görevini yerine getirir. Öyleyse Python’da + operatörü çok biçimli bir nesnedir.\n",
    "\n",
    "Şimdi, Python’da nesne tabanlı programlama ile çalışırken çok biçimlilikten nasıl faydalanabileceğimiz ile ilgili detaylı ama basit seviyede bir örnekle durumu açıklayalım.\n",
    "\n",
    "Örnek olarak bir fabrika çalışanları için personel sınıfı oluşturalım. Fabrikada 4 kategoride personel bulunsun; İşçi,Ustabaşı,Mühendis,Üretim Müdürü.\n",
    "Temel ücret olarak asgari ücret baz alınsın. Ayrıca fabrikada çalışma süresine bağlı bir kıdem katsayısı ile aynı görevdeki kişilerden daha eski çalışanlar yenilere göre daha fazla maaş alsın. Ancak bu katsayı da belirli bir tavan limitini geçmemelidir ki unvana göre alınabilecek maaş dengesi bozulmasın. Yani 20 yıllık bir ustabaşı 2 yıllık bir üretim müdüründen daha fazla maaş almayacaktır.\n",
    "Bu durum ile iligli oluşturabileceğimiz temel sınıf ve miras alan sınıflar şu şekilde olabilir;"
   ]
  },
  {
   "cell_type": "code",
   "execution_count": 1,
   "metadata": {},
   "outputs": [],
   "source": [
    "class Personel:\n",
    "  def __init__(kisi,ad,soyad, gorev, calismaSuresi):\n",
    "    kisi.ad=ad\n",
    "    kisi.soyad=soyad\n",
    "    kisi.gorev=gorev\n",
    "    kisi.calismaSuresi=calismaSuresi\n",
    "\n",
    "  def maas(kisi):\n",
    "    pass\n",
    "\n",
    "  def veriyazdir(kisi):\n",
    "    pass\n",
    "\n",
    "class Calisan(Personel):\n",
    "  pass\n",
    "\n",
    "class Yonetici(Personel):\n",
    "  pass"
   ]
  },
  {
   "cell_type": "markdown",
   "metadata": {},
   "source": [
    "Gördüğünüz gibi ana sınıfımızdan her bir personel için adı-soyadı, görevi ve çalışma süresi ile ilgili bilgi üretebiliriz. Alt sınıflarımız ise belirli unvanlara göre personele farklı bir işlev kazandırabilecek şekilde kullanılabilir. Veri yapımızı böylece oluşturmuş olduk.\n",
    "\n",
    "Şimdi de, uygulamamıza gerekli işlevselliği kazandıracak fonksiyonlarımızı yazalım."
   ]
  },
  {
   "cell_type": "code",
   "execution_count": 2,
   "metadata": {},
   "outputs": [],
   "source": [
    "class Personel:\n",
    "  def __init__(kisi,ad,soyad, gorev, calismaSuresi):\n",
    "    kisi.ad=ad\n",
    "    kisi.soyad=soyad\n",
    "    kisi.gorev=gorev\n",
    "    kisi.calismaSuresi=calismaSuresi\n",
    "\n",
    "  def maasHesapla(kisi):\n",
    "    asgariUcret=2324\n",
    "    kidemKatsayisi=kisi.calismaSuresi*0.01\n",
    "    maas=asgariUcret+(asgariUcret*kidemKatsayisi)\n",
    "    return maas\n",
    "  \n",
    "  def veriYazdir(kisi):\n",
    "    print(\"Personelin Adı-Soyadı: \", kisi.ad, kisi.soyad)\n",
    "    print(\"Görevi: \", kisi.gorev)\n",
    "    print(\"Kurumda Çalışma Süresi: \", kisi.calismaSuresi)\n",
    "    print(\"Aldığı Ücret: \")\n",
    "\n",
    "class Calisan(Personel):\n",
    "  pass\n",
    "\n",
    "class Yonetici(Personel):\n",
    "  def maasHesapla(kisi):\n",
    "    asgariUcret=2324\n",
    "    kidemKatsayisi=kisi.calismaSuresi*0.01\n",
    "    if kisi.gorev == \"Mühendis\":\n",
    "      unvanKatsayisi=0.25\n",
    "    elif kisi.gorev == \"Üretim Müdürü\":\n",
    "      unvanKatsayisi=1.25\n",
    "    maas=(3*asgariUcret)+(asgariUcret*kidemKatsayisi)+(asgariUcret*unvanKatsayisi)\n",
    "    return maas\n"
   ]
  },
  {
   "cell_type": "code",
   "execution_count": 3,
   "metadata": {},
   "outputs": [
    {
     "name": "stdout",
     "output_type": "stream",
     "text": [
      "Personelin Adı-Soyadı:  Ahmet Yılmaz\n",
      "Görevi:  İşçi\n",
      "Kurumda Çalışma Süresi:  4\n",
      "Aldığı Ücret: \n",
      "2416.96\n",
      "\n",
      "\n",
      "Personelin Adı-Soyadı:  Veli Kocaman\n",
      "Görevi:  İşçi\n",
      "Kurumda Çalışma Süresi:  9\n",
      "Aldığı Ücret: \n",
      "2533.16\n",
      "\n",
      "\n",
      "Personelin Adı-Soyadı:  Hasan Karadağ\n",
      "Görevi:  Ustabaşı\n",
      "Kurumda Çalışma Süresi:  13\n",
      "Aldığı Ücret: \n",
      "2626.12\n",
      "\n",
      "\n",
      "Personelin Adı-Soyadı:  Tamer Doğrusöz\n",
      "Görevi:  Mühendis\n",
      "Kurumda Çalışma Süresi:  8\n",
      "Aldığı Ücret: \n",
      "7738.92\n",
      "\n",
      "\n",
      "Personelin Adı-Soyadı:  Serdar Deveci\n",
      "Görevi:  Üretim Müdürü\n",
      "Kurumda Çalışma Süresi:  5\n",
      "Aldığı Ücret: \n",
      "9993.2\n"
     ]
    }
   ],
   "source": [
    "personel1=Calisan(\"Ahmet\",\"Yılmaz\",\"İşçi\",4)\n",
    "personel2=Calisan(\"Veli\",\"Kocaman\",\"İşçi\",9)\n",
    "personel3=Calisan(\"Hasan\",\"Karadağ\",\"Ustabaşı\",13)\n",
    "personel4=Yonetici(\"Tamer\",\"Doğrusöz\",\"Mühendis\",8)\n",
    "personel5=Yonetici(\"Serdar\",\"Deveci\",\"Üretim Müdürü\",5)\n",
    "\n",
    "personel1.veriYazdir()\n",
    "print(personel1.maasHesapla())\n",
    "print()\n",
    "print()\n",
    "personel2.veriYazdir()\n",
    "print(personel2.maasHesapla())\n",
    "print()\n",
    "print()\n",
    "personel3.veriYazdir()\n",
    "print(personel3.maasHesapla())\n",
    "print()\n",
    "print()\n",
    "personel4.veriYazdir()\n",
    "print(personel4.maasHesapla())\n",
    "print()\n",
    "print()\n",
    "personel5.veriYazdir()\n",
    "print(personel5.maasHesapla())"
   ]
  },
  {
   "cell_type": "markdown",
   "metadata": {},
   "source": [
    "Gördüğünüz gibi ana sınıfımızın içinde bir maaş hesaplama metodumuz mevcut ve bu sayede çalışanların maaşlarını hesaplayabiliyoruz. Ancak, mühendis ve yönetici ünvanlarına sahip olan personelin maaşında bir takım unvan ile ilgili değişik hesaplamalar söz konusu. Bu nedenle ana sınıftan miras alma yoluyla türetilen yöneticiler sınıfında maasHesapla() metodunu tekrar kodluyoruz. Sonuç olarak uygulamayı çalıştırdığımızda her personel için maasHesapla() metodunu kullanıyoruz ancak metod ana sınıf için farklı diğer sınıf için farklı hesaplamalar yapıyor. İşte buna Çok Biçimlilik(Polymorphism) diyoruz."
   ]
  },
  {
   "cell_type": "code",
   "execution_count": null,
   "metadata": {},
   "outputs": [],
   "source": []
  },
  {
   "cell_type": "code",
   "execution_count": 4,
   "metadata": {},
   "outputs": [],
   "source": [
    "class Employee:\n",
    "    def raisee(self):\n",
    "        print(f\"Employee: {( 100 * 1.1):.2f}\")\n"
   ]
  },
  {
   "cell_type": "code",
   "execution_count": 5,
   "metadata": {},
   "outputs": [],
   "source": [
    "class CompEng(Employee):\n",
    "    def raisee(self):\n",
    "        print(f\"CompEng: {( 100 * 1.2):.2f}\")\n"
   ]
  },
  {
   "cell_type": "code",
   "execution_count": 6,
   "metadata": {},
   "outputs": [],
   "source": [
    "class EEE(Employee):\n",
    "    def raisee(self):\n",
    "        print(f\"EEE: {( 100 * 1.3):.2f}\")\n"
   ]
  },
  {
   "cell_type": "code",
   "execution_count": 7,
   "metadata": {},
   "outputs": [
    {
     "name": "stdout",
     "output_type": "stream",
     "text": [
      "Employee: 110.00\n"
     ]
    }
   ],
   "source": [
    "e1 = Employee()\n",
    "e1.raisee()\n"
   ]
  },
  {
   "cell_type": "code",
   "execution_count": 8,
   "metadata": {},
   "outputs": [
    {
     "name": "stdout",
     "output_type": "stream",
     "text": [
      "CompEng: 120.00\n"
     ]
    }
   ],
   "source": [
    "ce1 = CompEng()\n",
    "ce1.raisee()"
   ]
  },
  {
   "cell_type": "code",
   "execution_count": 9,
   "metadata": {},
   "outputs": [
    {
     "name": "stdout",
     "output_type": "stream",
     "text": [
      "EEE: 130.00\n"
     ]
    }
   ],
   "source": [
    "eee1 = EEE()\n",
    "eee1.raisee()\n"
   ]
  },
  {
   "cell_type": "code",
   "execution_count": 10,
   "metadata": {},
   "outputs": [],
   "source": [
    "ce = CompEng()\n",
    "eee = EEE()"
   ]
  },
  {
   "cell_type": "code",
   "execution_count": 11,
   "metadata": {},
   "outputs": [
    {
     "name": "stdout",
     "output_type": "stream",
     "text": [
      "CompEng: 120.00\n",
      "EEE: 130.00\n"
     ]
    }
   ],
   "source": [
    "employee_list = [ce,eee]\n",
    "for employee in employee_list:\n",
    "    employee.raisee()"
   ]
  },
  {
   "cell_type": "code",
   "execution_count": 12,
   "metadata": {},
   "outputs": [
    {
     "name": "stdout",
     "output_type": "stream",
     "text": [
      "CompEng: 120.00\n",
      "EEE: 130.00\n"
     ]
    }
   ],
   "source": [
    "for employee in employee_list:\n",
    "    employee.raisee()"
   ]
  },
  {
   "cell_type": "code",
   "execution_count": null,
   "metadata": {},
   "outputs": [],
   "source": []
  }
 ],
 "metadata": {
  "kernelspec": {
   "display_name": "Python 3 (ipykernel)",
   "language": "python",
   "name": "python3"
  },
  "language_info": {
   "codemirror_mode": {
    "name": "ipython",
    "version": 3
   },
   "file_extension": ".py",
   "mimetype": "text/x-python",
   "name": "python",
   "nbconvert_exporter": "python",
   "pygments_lexer": "ipython3",
   "version": "3.10.9"
  },
  "vscode": {
   "interpreter": {
    "hash": "b885c526da3326e581d3a88563282ab625602807b12d7b4af8a2a7f32a015837"
   }
  }
 },
 "nbformat": 4,
 "nbformat_minor": 2
}
