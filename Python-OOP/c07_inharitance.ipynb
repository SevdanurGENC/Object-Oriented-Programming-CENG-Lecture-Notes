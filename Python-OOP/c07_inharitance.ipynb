{
 "cells": [
  {
   "cell_type": "markdown",
   "metadata": {},
   "source": [
    "## Inheritance - Kalıtım\n",
    "\n",
    "Nesne tabanlı programlamada kalıtım (inheritance) ile bir sınıf (Parent Class) içerisindeki tüm özellik ve metotları başka bir sınıfa (Child Class) aktarabiliriz. \n",
    "\n",
    "Person sınıfı için tanımladığımız name, lastname, age özellikleri ve eat(), run(), drink() metotlarını Student ve Teacher sınıfları için de tekrar tekrar tanımlamamıza gerek yok çünkü Student ve Teacher zaten Person sınıfının barındırdığı özellik ve yeteneklere de sahip birer sınıftır. Dolayısıyla Person sınıfını Parent Class olarak tanımlayıp Student ve Teacher sınıflarını Child Class olarak tanımlayıp Parent Class' ın tüm özellik ve yeteneklerini Child Class' lara kalıtım yoluyla aktarabiliriz."
   ]
  },
  {
   "cell_type": "markdown",
   "metadata": {},
   "source": [
    "## Parent Class Tanımlama\n",
    "\n",
    "Parent bir sınıf yani base sınıf tanımlarken o sınıfa ait temel özellik ve yetenek tanımlaması yapıyoruz. Örneğin Person sınıfı için bir insanın temel özellikleri ya da bir araç için aracın temel özellik tanımlaması yapmamız gerekiyor."
   ]
  },
  {
   "cell_type": "code",
   "execution_count": 20,
   "metadata": {},
   "outputs": [],
   "source": [
    "class Person:\n",
    "    def __init__(self,name,lastname,age):\n",
    "        self.name = name\n",
    "        self.lastName = lastname\n",
    "        self.age = age\n",
    "\n",
    "    def eat(self):\n",
    "        print('I am eating')\n",
    "\n",
    "    def drink(self):\n",
    "        print('I am drinking')\n",
    "\n",
    "    def run(self):\n",
    "        print('I am running')"
   ]
  },
  {
   "cell_type": "markdown",
   "metadata": {},
   "source": [
    "## Child (Base) Class Tanımlama\n",
    "\n",
    "Temel sınıftaki özelliklere sahip olacak ancak ekstra üzerine özellik yada yetenek ekleyecek olduğumuz sınıflar child yani base class olarak tanımlanır.\n",
    "\n",
    "Person sınıfı için olan özellik ve yetenekler Student ve Teacher sınıfları için de geçerlidir dolayısıyla Person sınıfı, Student ve Teacher sınıfı için Parent Class ya da diğer adıyla Base Class 'dır. Student ve Teacher sınıfları ise Person sınıfına göre Child Class' dır.\n"
   ]
  },
  {
   "cell_type": "code",
   "execution_count": 21,
   "metadata": {},
   "outputs": [],
   "source": [
    "class Student(Person):\n",
    "  pass\n",
    "\n",
    "class Teacher(Person):\n",
    "  pass"
   ]
  },
  {
   "cell_type": "markdown",
   "metadata": {},
   "source": [
    "Base sınıfı Child sınıflarda parametre olarak almamız gerekiyor bu durumda Student ve Teacher sınıfları Person sınıfının sahip olduğu tüm özellik ve yeteneklere sahiptir."
   ]
  },
  {
   "cell_type": "code",
   "execution_count": 22,
   "metadata": {},
   "outputs": [],
   "source": [
    "p1 = Person(\"Çınar\",\"Turan\",3)\n",
    "s1 = Student(\"Yiğit\",\"Bilgi\",12)\n",
    "t1 = Teacher(\"Sadık\",\"turan\",36)"
   ]
  },
  {
   "cell_type": "code",
   "execution_count": 24,
   "metadata": {},
   "outputs": [
    {
     "name": "stdout",
     "output_type": "stream",
     "text": [
      "Çınar Turan 3\n",
      "Yiğit Bilgi 12\n",
      "Sadık turan 36\n"
     ]
    }
   ],
   "source": [
    "print(p1.name+' '+p1.lastName+' '+str(p1.age))  # Çınar Turan 3\n",
    "print(s1.name+' '+s1.lastName+' '+str(s1.age))  # Yiğit Bilgi 12\n",
    "print(t1.name+' '+t1.lastName+' '+str(t1.age))  # Sadık turan 36"
   ]
  },
  {
   "cell_type": "code",
   "execution_count": 25,
   "metadata": {},
   "outputs": [
    {
     "name": "stdout",
     "output_type": "stream",
     "text": [
      "I am eating\n",
      "I am running\n"
     ]
    }
   ],
   "source": [
    "s1.eat()   # I am eating\n",
    "t1.run()   # I am running"
   ]
  },
  {
   "cell_type": "markdown",
   "metadata": {},
   "source": [
    "## Child Class' ın Genişletilmesi\n",
    "\n",
    "Child sınıflar her ne kadar base sınıfın özelliklerini kullansalarda miras aldığı tüm özelliklerin üstüne kendilerine özgü özelliklere ihtiyaç duyarlar. Çünkü bir student nesnesi her ne kadar run(), eat() yeneklerine sahip olsa da study() özelliğine de sahip olmalıdır yani ders çalışma eylemini de yapabiliyor olmalıdır. Peki neden study() yeteneğini Person sınıfına eklemedik ? Çünkü her person örneğin emekli bir kişi ders çalışma eyleminde bulunmaz, bu durum öğrenciyi ilgilendirir. Ya da Student sınıfına özel bir öğrenci numarası olabilir."
   ]
  },
  {
   "cell_type": "code",
   "execution_count": 26,
   "metadata": {},
   "outputs": [],
   "source": [
    "class Student(Person):\n",
    "    def __init__(self,name,lastname,age,number):\n",
    "        Person.__init__(self, name, lastname, age)\n",
    "        self.number = number"
   ]
  },
  {
   "cell_type": "markdown",
   "metadata": {},
   "source": [
    "Student sınıfına ekstra olarak number bilgisi gönderiyoruz. İlk 3 parametreyi Person sınıfının yapıcı metoduna gönderiyoruz ve number bilgisini ise Student sınıfının yapıcı metodu ele alıyor.\n",
    "\n",
    "Person__init__() ile base sınıfın yapıcı metodunu çağırıyoruz aynı şekilde super().__init__() şeklinde de kullanabiliriz."
   ]
  },
  {
   "cell_type": "code",
   "execution_count": 29,
   "metadata": {},
   "outputs": [],
   "source": [
    "#Aynı şekilde Teacher sınıfı için de öğretmen branş bilgisini ekleyelim.\n",
    "\n",
    "class Teacher(Person):\n",
    "    def __init__(self,name,lastname,age,branch):\n",
    "        super().__init__(name,lastname,age)\n",
    "        self.branch = branch"
   ]
  },
  {
   "cell_type": "code",
   "execution_count": 35,
   "metadata": {},
   "outputs": [],
   "source": [
    "#Peki Student() ve Teacher() sınıfından nesne türetelim. \n",
    "\n",
    "p1 = Person('Ali','Yılmaz', 41)\n",
    "s1 = Student('Çınar','Turan', 41, 1256)\n",
    "t1 = Teacher('Serkan','Yılmaz',41,'Math')"
   ]
  },
  {
   "cell_type": "code",
   "execution_count": 38,
   "metadata": {},
   "outputs": [
    {
     "name": "stdout",
     "output_type": "stream",
     "text": [
      "Ali Yılmaz\n",
      "Çınar Turan 1256\n",
      "Serkan Yılmaz Math\n"
     ]
    }
   ],
   "source": [
    "print(p1.name + ' ' + p1.lastName)\n",
    "print(s1.name + ' ' + s1.lastName+ ' '+ str(s1.number))\n",
    "print(t1.name + ' ' + t1.lastName+ ' '+ t1.branch)"
   ]
  },
  {
   "cell_type": "markdown",
   "metadata": {},
   "source": [
    "## Base Sınıf Metodunu Ezme (Method Override)\n",
    "\n",
    "Base sınıf için yeni bir metot ekleyelim.\n"
   ]
  },
  {
   "cell_type": "code",
   "execution_count": 39,
   "metadata": {},
   "outputs": [],
   "source": [
    "class Person: \n",
    "    # Diğer tanımlamalar... \n",
    "    def who(self):\n",
    "        print('I am a person')\n",
    "\n",
    "class Student(Person):\n",
    "  pass\n",
    "\n",
    "class Teacher(Person):\n",
    "  pass\n"
   ]
  },
  {
   "cell_type": "code",
   "execution_count": 40,
   "metadata": {},
   "outputs": [],
   "source": [
    "# Bu durumda 3 sınıf üzerinden de who() metodu ekrana 'I am a person' yazar. \n",
    "# Ancak ben Student üzerinden 'I am a student' ve Teacher üzerinden ise 'I am a teacher yazdırmak istiyorum'. \n",
    "# Bu durumda base sınıfın who() metodunu ezmemiz gerekiyor.\n",
    "\n",
    "class Student(Person):\n",
    "  def who(self):\n",
    "      print(\"I am a student\")\n",
    "\n",
    "class Teacher(Person):\n",
    "   def who(self):\n",
    "      print(\"I am a teacher\")\n",
    "        \n",
    "# Aynı isimle eklediğimiz metotlar temel sınıftaki metodu ezmiş olur ve artık \n",
    "# student ve teacher nesneleri üzerinden çağırdığımız who() metodu farklı mesajları ekrana yazar."
   ]
  },
  {
   "cell_type": "markdown",
   "metadata": {},
   "source": [
    "## Ornek Uygulama"
   ]
  },
  {
   "cell_type": "code",
   "execution_count": 41,
   "metadata": {},
   "outputs": [],
   "source": [
    "class Website:\n",
    "    def __init__(self, name, surname):\n",
    "        \"\"\"name -> your name\\n\n",
    "         surname -> your surname\"\"\"\n",
    "        self.name = name\n",
    "        self.surname = surname\n",
    "\n",
    "    def loginInfo(self):\n",
    "        print(self.name + \" \"+ self.surname)"
   ]
  },
  {
   "cell_type": "code",
   "execution_count": 42,
   "metadata": {},
   "outputs": [],
   "source": [
    "p1 = Website(name=\"Ömer\", surname=\"YILDIZ\")"
   ]
  },
  {
   "cell_type": "code",
   "execution_count": 43,
   "metadata": {},
   "outputs": [
    {
     "name": "stdout",
     "output_type": "stream",
     "text": [
      "Ömer YILDIZ\n"
     ]
    }
   ],
   "source": [
    "p1.loginInfo()"
   ]
  },
  {
   "cell_type": "code",
   "execution_count": 44,
   "metadata": {},
   "outputs": [],
   "source": [
    "class Website1(Website):\n",
    "    \"Website child\"\n",
    "    def __init__(self, name, surname, id):\n",
    "        Website.__init__(self, name, surname )\n",
    "        self.id = id\n",
    "    \n",
    "    def login(self):\n",
    "        print(self.name + \" \"+ self.surname + \" \"+ self.id)\n"
   ]
  },
  {
   "cell_type": "code",
   "execution_count": 45,
   "metadata": {},
   "outputs": [],
   "source": [
    "p2 = Website1(name=\"Ömer\", surname=\"deniz\", id=\"123\")"
   ]
  },
  {
   "cell_type": "code",
   "execution_count": 46,
   "metadata": {},
   "outputs": [
    {
     "name": "stdout",
     "output_type": "stream",
     "text": [
      "Ömer deniz 123\n"
     ]
    }
   ],
   "source": [
    "p2.login()"
   ]
  },
  {
   "cell_type": "code",
   "execution_count": 47,
   "metadata": {},
   "outputs": [
    {
     "name": "stdout",
     "output_type": "stream",
     "text": [
      "Ömer deniz\n"
     ]
    }
   ],
   "source": [
    "p2.loginInfo()"
   ]
  },
  {
   "cell_type": "code",
   "execution_count": 48,
   "metadata": {},
   "outputs": [],
   "source": [
    "class Website2(Website):\n",
    "    def __init__(self, name, surname, email):\n",
    "        Website.__init__(self, name, surname)\n",
    "        self.email = email\n",
    "\n",
    "    def login(self):\n",
    "        print(self.name + \" \"+ self.surname + \" \"+ self.email)\n"
   ]
  },
  {
   "cell_type": "code",
   "execution_count": 52,
   "metadata": {},
   "outputs": [],
   "source": [
    "p3 = Website2(email=\"ali@mail.com\", name=\"Ali\", surname=\"Cengiz\")"
   ]
  },
  {
   "cell_type": "code",
   "execution_count": 53,
   "metadata": {},
   "outputs": [
    {
     "name": "stdout",
     "output_type": "stream",
     "text": [
      "Ali Cengiz ali@mail.com\n"
     ]
    }
   ],
   "source": [
    "p3.login()"
   ]
  },
  {
   "cell_type": "code",
   "execution_count": 54,
   "metadata": {},
   "outputs": [
    {
     "name": "stdout",
     "output_type": "stream",
     "text": [
      "Ali Cengiz\n"
     ]
    }
   ],
   "source": [
    "p3.loginInfo()"
   ]
  },
  {
   "cell_type": "code",
   "execution_count": null,
   "metadata": {},
   "outputs": [],
   "source": []
  },
  {
   "cell_type": "code",
   "execution_count": null,
   "metadata": {},
   "outputs": [],
   "source": []
  }
 ],
 "metadata": {
  "kernelspec": {
   "display_name": "Python 3 (ipykernel)",
   "language": "python",
   "name": "python3"
  },
  "language_info": {
   "codemirror_mode": {
    "name": "ipython",
    "version": 3
   },
   "file_extension": ".py",
   "mimetype": "text/x-python",
   "name": "python",
   "nbconvert_exporter": "python",
   "pygments_lexer": "ipython3",
   "version": "3.10.9"
  },
  "vscode": {
   "interpreter": {
    "hash": "b885c526da3326e581d3a88563282ab625602807b12d7b4af8a2a7f32a015837"
   }
  }
 },
 "nbformat": 4,
 "nbformat_minor": 2
}
