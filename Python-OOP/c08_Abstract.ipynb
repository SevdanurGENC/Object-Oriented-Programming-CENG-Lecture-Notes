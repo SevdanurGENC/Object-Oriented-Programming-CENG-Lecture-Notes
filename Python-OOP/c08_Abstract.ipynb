{
 "cells": [
  {
   "cell_type": "markdown",
   "metadata": {},
   "source": [
    "## Abstract Class (Soyut Sınıflar):\n",
    "\n",
    "Abstract sınnıflar aynı özellikleri taşıyan nesneleri aynı çatı altında toplayıp, Nesnelere bir şablon çizerek çizilen  şablondan çıkmadan istediğimiz gibi şekil vermemizi sağlar.\n",
    "\n",
    "### Abstract Class Özellikleri:\n",
    "\n",
    "Abstract class‘ların içi ya boş bırakılır yada methodlarla donatılır. Abstract class olmak için en az 1 tane abstract method bulundurmak şarttır. Abstract Class içerisinde kullanılan methodları kalıtım verdiği bütün sınıflarda kullanmak zorundadır. Asla Abstract sınıftan örnek yaratamayız (new kelimesiylede oluşturamayız).\n",
    "\n",
    "Örnek olarak;\n",
    "\n",
    "Hayvan dediğimizde hepimizin aklına genel, elle tutulamaz soyut bir kavram gelir dimi? Evet hayvan genel bir kavramdır. Kuş dediğimizde ise aklımıza hayvanların kuş sınıfına ait canlılar gelir ve bu yöntemle hayvan kavramı kuş olarak somutlaştırılır. Yani Hayvan kavramı soyutken kuş kavramı somuttur. \n",
    "\n",
    "### Pythonda Abstract Class Oluşturma:\n",
    "\n",
    "Bu bölümde hem özellikleri hem de abstract sınıf oluşturmayı kod parçalarıyla açıklayalım:\n",
    "\n",
    "```\n",
    "from abc import ABC,abstractmethod\n",
    "class Animal(ABC):\n",
    "    @abstractmethod\n",
    "    def Drink(self):\n",
    "        pass\n",
    "    @abstractmethod\n",
    "        def Walk(self):\n",
    "    pass\n",
    "```\n",
    "\n",
    "Öncelikle import etmemiz gereken bir kütüphane bulunmakta => abc (Abstract Base Class).\n",
    "\n",
    "Bu modülü import ettikten sonra Abstract Sınıfımızı bu modülden kalıtım alarak oluşturmalıyız.\n",
    "\n",
    "Yaratacağımız Abstract classta @abstractmethod olarak işaretlenen methodlar bu sınıftan kalıtım alacağımız bütün sınıflarda kesinlikle kullanılmak zorundadır. Yani Kod bloğumuzu incelediğimizde  Play ve Walk methodlarını @abstractmethod olarak işaretleyerek onları bu sınıfın kalıtım vereceği sınıflarda kullanılmasını şart kıldık."
   ]
  },
  {
   "cell_type": "markdown",
   "metadata": {},
   "source": [
    "Soyut sınıflar alt sınıflar için bir şablon görevi görürler. \n",
    "Soyut sınıfların İki tane özelliği var. \n",
    "\n",
    "1. Soyut sınıftan bir nesne üretilemez\n",
    "2. Alt sınıfta bu metodları kullanacaksanız orada yeniden tanımlanmalı"
   ]
  },
  {
   "cell_type": "code",
   "execution_count": 8,
   "metadata": {},
   "outputs": [],
   "source": [
    "# Soyut sınıftan bir nesne üretilemez\n",
    "from abc import ABC,abstractmethod \n",
    "\n",
    "class Hayvan(ABC): \n",
    "    @abstractmethod \n",
    "    def yürü(self): \n",
    "        pass \n",
    "    @abstractmethod \n",
    "    def kos(self): \n",
    "        pass \n",
    "\n",
    "class Kedi(Hayvan): \n",
    "    pass  "
   ]
  },
  {
   "cell_type": "code",
   "execution_count": 9,
   "metadata": {},
   "outputs": [
    {
     "ename": "TypeError",
     "evalue": "Can't instantiate abstract class Hayvan with abstract methods kos, yürü",
     "output_type": "error",
     "traceback": [
      "\u001b[1;31m---------------------------------------------------------------------------\u001b[0m",
      "\u001b[1;31mTypeError\u001b[0m                                 Traceback (most recent call last)",
      "Cell \u001b[1;32mIn[9], line 1\u001b[0m\n\u001b[1;32m----> 1\u001b[0m kus \u001b[38;5;241m=\u001b[39m \u001b[43mHayvan\u001b[49m\u001b[43m(\u001b[49m\u001b[43m)\u001b[49m\n",
      "\u001b[1;31mTypeError\u001b[0m: Can't instantiate abstract class Hayvan with abstract methods kos, yürü"
     ]
    }
   ],
   "source": [
    "kus = Hayvan()"
   ]
  },
  {
   "cell_type": "code",
   "execution_count": 10,
   "metadata": {},
   "outputs": [],
   "source": [
    "# Alt sınıfta bu metodları kullanacaksanız orada yeniden tanımlanmalı\n",
    "\n",
    "from abc import ABC,abstractmethod \n",
    "\n",
    "class Hayvan(ABC): \n",
    "    @abstractmethod \n",
    "    def yürü(self): \n",
    "        pass \n",
    "    @abstractmethod \n",
    "    def kos(self): \n",
    "        pass \n",
    "\n",
    "class Kedi(Hayvan): \n",
    "    def yürü(self): \n",
    "        print(\"kedi yürüyor\") \n",
    "    def kos(self): \n",
    "        print(\"kedi kosuyor\") "
   ]
  },
  {
   "cell_type": "code",
   "execution_count": 11,
   "metadata": {},
   "outputs": [],
   "source": [
    "bir = Kedi() "
   ]
  },
  {
   "cell_type": "code",
   "execution_count": 12,
   "metadata": {},
   "outputs": [
    {
     "name": "stdout",
     "output_type": "stream",
     "text": [
      "kedi yürüyor\n"
     ]
    }
   ],
   "source": [
    "bir.yürü()"
   ]
  },
  {
   "cell_type": "markdown",
   "metadata": {},
   "source": [
    "### Python abstract, abstract base class abc"
   ]
  },
  {
   "cell_type": "code",
   "execution_count": 1,
   "metadata": {},
   "outputs": [],
   "source": [
    "from abc import ABC, abstractmethod"
   ]
  },
  {
   "cell_type": "code",
   "execution_count": 2,
   "metadata": {},
   "outputs": [],
   "source": [
    "class Animal(ABC):\n",
    "    @abstractmethod\n",
    "    def walk(self):\n",
    "        pass\n",
    "    \n",
    "    @abstractmethod\n",
    "    def run(self):\n",
    "        pass\n",
    "\n",
    "class Bird(Animal):\n",
    "    def __init__(self):\n",
    "        print(\"bird\")\n",
    "   \n",
    "    def walk(self):\n",
    "        print(\"walk\")\n",
    "     \n",
    "    def run(self):\n",
    "        print(\"run\")\n"
   ]
  },
  {
   "cell_type": "code",
   "execution_count": 3,
   "metadata": {},
   "outputs": [
    {
     "name": "stdout",
     "output_type": "stream",
     "text": [
      "bird\n"
     ]
    }
   ],
   "source": [
    "a = Bird()"
   ]
  },
  {
   "cell_type": "code",
   "execution_count": 4,
   "metadata": {},
   "outputs": [
    {
     "name": "stdout",
     "output_type": "stream",
     "text": [
      "run\n"
     ]
    }
   ],
   "source": [
    "a.run()"
   ]
  },
  {
   "cell_type": "markdown",
   "metadata": {},
   "source": [
    "## Ornek Uygulama"
   ]
  },
  {
   "cell_type": "code",
   "execution_count": 18,
   "metadata": {},
   "outputs": [],
   "source": [
    "# Öncelikle abc modülünden soyutlama sınıfını ve metodunu ekleyelim\n",
    "from abc import ABC, abstractmethod\n",
    "\n",
    "# Soyut bir sınıf oluşturalım\n",
    "class SoyutOrnek(ABC):\n",
    "  def __init__(kisi,ad,soyad, programlamaDili, deneyimSuresi):\n",
    "    kisi.ad=ad\n",
    "    kisi.soyad=soyad\n",
    "    kisi.programlamaDili=programlamaDili\n",
    "    kisi.deneyimSuresi=deneyimSuresi\n",
    "\n",
    "  @abstractmethod\n",
    "  def dilYazdir(kisi):\n",
    "    pass\n",
    "\n",
    "# Soyut sınıftan miras alan bir sınıf oluşturalım\n",
    "class SunucuTarafiGelistirici(SoyutOrnek):\n",
    "  def __init__(kisi, ad, soyad, programlamaDili, deneyimSuresi, konum, egitim):\n",
    "    super().__init__(ad, soyad, programlamaDili, deneyimSuresi)\n",
    "    kisi.konum=konum\n",
    "    kisi.egitim=egitim\n",
    "    "
   ]
  },
  {
   "cell_type": "code",
   "execution_count": 19,
   "metadata": {},
   "outputs": [
    {
     "ename": "TypeError",
     "evalue": "Can't instantiate abstract class SunucuTarafiGelistirici with abstract method dilYazdir",
     "output_type": "error",
     "traceback": [
      "\u001b[1;31m---------------------------------------------------------------------------\u001b[0m",
      "\u001b[1;31mTypeError\u001b[0m                                 Traceback (most recent call last)",
      "Cell \u001b[1;32mIn[19], line 2\u001b[0m\n\u001b[0;32m      1\u001b[0m \u001b[38;5;66;03m# Miras ile türetilen sınıfımızdan bir nesne oluşturalım.\u001b[39;00m\n\u001b[1;32m----> 2\u001b[0m personel\u001b[38;5;241m=\u001b[39m\u001b[43mSunucuTarafiGelistirici\u001b[49m\u001b[43m(\u001b[49m\u001b[38;5;124;43m\"\u001b[39;49m\u001b[38;5;124;43mBuğra\u001b[39;49m\u001b[38;5;124;43m\"\u001b[39;49m\u001b[43m,\u001b[49m\u001b[38;5;124;43m\"\u001b[39;49m\u001b[38;5;124;43mMoralı\u001b[39;49m\u001b[38;5;124;43m\"\u001b[39;49m\u001b[43m,\u001b[49m\u001b[43m(\u001b[49m\u001b[38;5;124;43m\"\u001b[39;49m\u001b[38;5;124;43mNodeJS\u001b[39;49m\u001b[38;5;124;43m\"\u001b[39;49m\u001b[43m,\u001b[49m\u001b[38;5;124;43m\"\u001b[39;49m\u001b[38;5;124;43mPHP\u001b[39;49m\u001b[38;5;124;43m\"\u001b[39;49m\u001b[43m,\u001b[49m\u001b[38;5;124;43m\"\u001b[39;49m\u001b[38;5;124;43mPython\u001b[39;49m\u001b[38;5;124;43m\"\u001b[39;49m\u001b[43m)\u001b[49m\u001b[43m,\u001b[49m\u001b[38;5;241;43m9\u001b[39;49m\u001b[43m,\u001b[49m\u001b[38;5;124;43m\"\u001b[39;49m\u001b[38;5;124;43mİzmir\u001b[39;49m\u001b[38;5;124;43m\"\u001b[39;49m\u001b[43m,\u001b[49m\u001b[38;5;124;43m\"\u001b[39;49m\u001b[38;5;124;43mYazılım Mühendisi\u001b[39;49m\u001b[38;5;124;43m\"\u001b[39;49m\u001b[43m)\u001b[49m\n\u001b[0;32m      4\u001b[0m \u001b[38;5;66;03m# Bu nesne ile işlem gerçekleştirelim.\u001b[39;00m\n\u001b[0;32m      5\u001b[0m \u001b[38;5;28mprint\u001b[39m(\u001b[38;5;124m\"\u001b[39m\u001b[38;5;124mPersonel Ad-Soyad: \u001b[39m\u001b[38;5;124m\"\u001b[39m \u001b[38;5;241m+\u001b[39m personel\u001b[38;5;241m.\u001b[39mad \u001b[38;5;241m+\u001b[39m \u001b[38;5;124m\"\u001b[39m\u001b[38;5;124m \u001b[39m\u001b[38;5;124m\"\u001b[39m \u001b[38;5;241m+\u001b[39m personel\u001b[38;5;241m.\u001b[39msoyad)\n",
      "\u001b[1;31mTypeError\u001b[0m: Can't instantiate abstract class SunucuTarafiGelistirici with abstract method dilYazdir"
     ]
    }
   ],
   "source": [
    "# Miras ile türetilen sınıfımızdan bir nesne oluşturalım.\n",
    "personel=SunucuTarafiGelistirici(\"Buğra\",\"Moralı\",(\"NodeJS\",\"PHP\",\"Python\"),9,\"İzmir\",\"Yazılım Mühendisi\")\n",
    "\n",
    "# Bu nesne ile işlem gerçekleştirelim.\n",
    "print(\"Personel Ad-Soyad: \" + personel.ad + \" \" + personel.soyad)\n",
    "print(\"Deneyim Süresi: \" , personel.deneyimSuresi)\n",
    "print(\"Kullandığı Programlama Dilleri: \")\n",
    "\n",
    "personel.dilYazdir()\n",
    "print(\"Yaşadığı Şehir: \" + personel.konum)\n",
    "print(\"Eğitim: \" + personel.egitim)"
   ]
  },
  {
   "cell_type": "code",
   "execution_count": 20,
   "metadata": {},
   "outputs": [],
   "source": [
    "# Öncelikle abc modülünden soyutlama sınıfını ve metodunu ekleyelim\n",
    "from abc import ABC, abstractmethod\n",
    "# Soyut bir sınıf oluşturalım\n",
    "class SoyutOrnek(ABC):\n",
    "  def __init__(kisi,ad,soyad, programlamaDili, deneyimSuresi):\n",
    "    kisi.ad=ad\n",
    "    kisi.soyad=soyad\n",
    "    kisi.programlamaDili=programlamaDili\n",
    "    kisi.deneyimSuresi=deneyimSuresi\n",
    "  @abstractmethod\n",
    "  def dilYazdir(kisi):\n",
    "    pass\n",
    "# Soyut sınıftan miras alan bir sınıf oluşturalım\n",
    "class SunucuTarafiGelistirici(SoyutOrnek):\n",
    "  def __init__(kisi, ad, soyad, programlamaDili, deneyimSuresi, konum, egitim):\n",
    "    super().__init__(ad, soyad, programlamaDili, deneyimSuresi)\n",
    "    kisi.konum=konum\n",
    "    kisi.egitim=egitim\n",
    "    \n",
    "  def dilYazdir(kisi):\n",
    "    veriTuru=type(kisi.programlamaDili)\n",
    "    if veriTuru is str:\n",
    "      print(\"  - \", kisi.programlamaDili)\n",
    "    elif veriTuru is tuple or list:\n",
    "      for dil in kisi.programlamaDili:\n",
    "        print(\"  - \", dil)\n",
    "    else:\n",
    "      print(\"Hatalı bir veri girişi yapılmış!\")    \n"
   ]
  },
  {
   "cell_type": "code",
   "execution_count": 21,
   "metadata": {},
   "outputs": [
    {
     "name": "stdout",
     "output_type": "stream",
     "text": [
      "Personel Ad-Soyad: Buğra Moralı\n",
      "Deneyim Süresi:  9\n",
      "Kullandığı Programlama Dilleri: \n",
      "  -  NodeJS\n",
      "  -  PHP\n",
      "  -  Python\n",
      "Yaşadığı Şehir: İzmir\n",
      "Eğitim: Yazılım Mühendisi\n"
     ]
    }
   ],
   "source": [
    "# Miras ile türetilen sınıfımızdan bir nesne oluşturalım.\n",
    "personel=SunucuTarafiGelistirici(\"Buğra\",\"Moralı\",(\"NodeJS\",\"PHP\",\"Python\"),9,\"İzmir\",\"Yazılım Mühendisi\")\n",
    "# Bu nesne ile işlem gerçekleştirelim.\n",
    "print(\"Personel Ad-Soyad: \" + personel.ad + \" \" + personel.soyad)\n",
    "print(\"Deneyim Süresi: \" , personel.deneyimSuresi)\n",
    "print(\"Kullandığı Programlama Dilleri: \")\n",
    "personel.dilYazdir()\n",
    "print(\"Yaşadığı Şehir: \" + personel.konum)\n",
    "print(\"Eğitim: \" + personel.egitim)"
   ]
  },
  {
   "cell_type": "code",
   "execution_count": null,
   "metadata": {},
   "outputs": [],
   "source": []
  }
 ],
 "metadata": {
  "kernelspec": {
   "display_name": "Python 3 (ipykernel)",
   "language": "python",
   "name": "python3"
  },
  "language_info": {
   "codemirror_mode": {
    "name": "ipython",
    "version": 3
   },
   "file_extension": ".py",
   "mimetype": "text/x-python",
   "name": "python",
   "nbconvert_exporter": "python",
   "pygments_lexer": "ipython3",
   "version": "3.10.9"
  },
  "vscode": {
   "interpreter": {
    "hash": "b885c526da3326e581d3a88563282ab625602807b12d7b4af8a2a7f32a015837"
   }
  }
 },
 "nbformat": 4,
 "nbformat_minor": 2
}
