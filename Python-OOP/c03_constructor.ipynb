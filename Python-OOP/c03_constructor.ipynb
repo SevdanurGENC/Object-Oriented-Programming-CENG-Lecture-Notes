{
 "cells": [
  {
   "cell_type": "markdown",
   "metadata": {},
   "source": [
    "## Class \n",
    "\n",
    "Gerçek hayattaki bir nesneyi yazılım dünyasında temsil edecek olan yapıya class denir. Peki örnek bir class tanımlaması yapalım."
   ]
  },
  {
   "cell_type": "markdown",
   "metadata": {},
   "source": [
    "## Constructor (Yapıcı) Metod\n",
    "\n",
    "Class bünyesinde tanımlanan bir özellik (attribute) bilgisine değer ataması yapabilmek için yapıcı metod tanımlaması yapmalıyız. Instance metodlar için yapıcı metod tanımlaması yapmamız gerekiyor.\n",
    "\n",
    "Yapıcı metod ismi __init__() olarak tanımlanmalıdır. Başta ve sonda 2 alt çizgi ile oluşturulan __init__() metodu sınıf için özel bir metottur. İlk parametre olarak self parametresi ve özellik parametrelerini alır.\n",
    "\n",
    "self parametresi sınıftan türetilecek olan nesneleri (p1, p2) temsil eder. Yani Person sınıfından türetilecek olan p1 ve p2 nesneleri sınıf tanımlama aşamasında bilinmediğinden dolayı self ile temsil edilir ve yapıcı metoda gönderilen name ve year parametreleri p1 ve p2 nesneleri içerisine yani self içerisine kopyalanır."
   ]
  },
  {
   "cell_type": "markdown",
   "metadata": {},
   "source": [
    "## Özellik (Attributes) Tanımlama\n",
    "\n",
    "Sınıflar içerisinde class attributes yani özellikleri class seviyesinde ya da nesne seviyesinde tanımlayabiliriz."
   ]
  },
  {
   "cell_type": "markdown",
   "metadata": {},
   "source": [
    "## Metod Tanımlama\n",
    "\n",
    "Sınıflar içerisinde tanımlanan ve sınıfın yeteneklerini yapmak için görevlendirilen fonksiyonlara metod denir."
   ]
  },
  {
   "cell_type": "markdown",
   "metadata": {},
   "source": [
    "## Attributes Güncelleme\n",
    "\n",
    "Nesne özelliklerinin güncellenmesidir."
   ]
  },
  {
   "cell_type": "code",
   "execution_count": 7,
   "metadata": {},
   "outputs": [],
   "source": [
    "class Animal(object):\n",
    "    def __init__(self,name, age): # (name, age) = (\"dog\", 7)\n",
    "        self.name = name\n",
    "        self.age = age\n",
    "    \n",
    "    def getAge(self):\n",
    "        return self.age\n",
    "    def getName(self):\n",
    "        return "
   ]
  },
  {
   "cell_type": "code",
   "execution_count": 8,
   "metadata": {},
   "outputs": [],
   "source": [
    "animal1 = Animal(name=\"dog\", age=7)"
   ]
  },
  {
   "cell_type": "code",
   "execution_count": 9,
   "metadata": {},
   "outputs": [
    {
     "data": {
      "text/plain": [
       "7"
      ]
     },
     "execution_count": 9,
     "metadata": {},
     "output_type": "execute_result"
    }
   ],
   "source": [
    "animal1.getAge()"
   ]
  },
  {
   "cell_type": "code",
   "execution_count": 10,
   "metadata": {},
   "outputs": [
    {
     "data": {
      "text/plain": [
       "7"
      ]
     },
     "execution_count": 10,
     "metadata": {},
     "output_type": "execute_result"
    }
   ],
   "source": [
    "animal1.age"
   ]
  },
  {
   "cell_type": "markdown",
   "metadata": {},
   "source": [
    "## Ornek Uygulama"
   ]
  },
  {
   "cell_type": "code",
   "execution_count": 12,
   "metadata": {},
   "outputs": [],
   "source": [
    "class Person:\n",
    "    pass\n",
    "\n",
    "p1 = Person()\n",
    "p2 = Person()"
   ]
  },
  {
   "cell_type": "code",
   "execution_count": 13,
   "metadata": {},
   "outputs": [],
   "source": [
    "class Person:\n",
    "    def __init__(self, name, year):\n",
    "        self.name = name\n",
    "        self.year = year\n",
    "        print('init metodu çalıştı.')"
   ]
  },
  {
   "cell_type": "code",
   "execution_count": 14,
   "metadata": {},
   "outputs": [
    {
     "name": "stdout",
     "output_type": "stream",
     "text": [
      "init metodu çalıştı.\n",
      "init metodu çalıştı.\n"
     ]
    }
   ],
   "source": [
    "p1 = Person(\"ahmet\", 1986)\n",
    "p2 = Person(\"deniz\", 1989)"
   ]
  },
  {
   "cell_type": "code",
   "execution_count": 15,
   "metadata": {},
   "outputs": [],
   "source": [
    "class Person:\n",
    "     # class attributes\n",
    "     address = 'no information'\n",
    "\n",
    "     # constructor (yapıcı metod)\n",
    "     def __init__(self, name, year):\n",
    "\n",
    "         # object attributes\n",
    "         self.name = name\n",
    "         self.year = year"
   ]
  },
  {
   "cell_type": "code",
   "execution_count": 17,
   "metadata": {},
   "outputs": [
    {
     "name": "stdout",
     "output_type": "stream",
     "text": [
      "p1 :name: ahmet year: 1990 address: kocaeli\n",
      "p2 :name: yağmur year: 1995 address: no information\n"
     ]
    }
   ],
   "source": [
    "p1 = Person(name='ali', year= 1990) \n",
    "p2 = Person(name ='yağmur', year = 1995)\n",
    "\n",
    "p1.name = 'ahmet'\n",
    "p1.address = 'kocaeli' \n",
    "\n",
    "print(f'p1 :name: {p1.name} year: {p1.year} address: {p1.address}')\n",
    "print(f'p2 :name: {p2.name} year: {p2.year} address: {p2.address}')\n",
    " "
   ]
  },
  {
   "cell_type": "code",
   "execution_count": 18,
   "metadata": {},
   "outputs": [],
   "source": [
    "class Person:\n",
    "    def __init__(self, name, year):\n",
    "        self.name = name\n",
    "        self.year = year\n",
    "\n",
    "    def calculateAge(self):\n",
    "         return 2020 - self.year"
   ]
  },
  {
   "cell_type": "code",
   "execution_count": 19,
   "metadata": {},
   "outputs": [
    {
     "name": "stdout",
     "output_type": "stream",
     "text": [
      "adım: ali ve yaşım: 30\n",
      "adım: yağmur ve yaşım: 25\n"
     ]
    }
   ],
   "source": [
    "p1 = Person('ali', 1990) \n",
    "p2 = Person('yağmur', 1995)\n",
    "\n",
    "print(f'adım: {p1.name} ve yaşım: {p1.calculateAge()}') # adım: ali ve yaşım: 30\n",
    "print(f'adım: {p2.name} ve yaşım: {p2.calculateAge()}') # adım: yağmur ve yaşım: 25"
   ]
  },
  {
   "cell_type": "code",
   "execution_count": 20,
   "metadata": {},
   "outputs": [
    {
     "name": "stdout",
     "output_type": "stream",
     "text": [
      "adım: ahmet ve yaşım: 30\n"
     ]
    }
   ],
   "source": [
    "# Attributes Güncelleme: Nesne özelliklerini aşağıdaki gibi güncelleyebiliriz.\n",
    "\n",
    "p1 = Person('ali', 1990) \n",
    "p1.name = 'ahmet';\n",
    "print(f'adım: {p1.name} ve yaşım: {p1.calculateAge()}') # adım: ahmet ve yaşım: 30"
   ]
  },
  {
   "cell_type": "code",
   "execution_count": null,
   "metadata": {},
   "outputs": [],
   "source": []
  }
 ],
 "metadata": {
  "kernelspec": {
   "display_name": "Python 3 (ipykernel)",
   "language": "python",
   "name": "python3"
  },
  "language_info": {
   "codemirror_mode": {
    "name": "ipython",
    "version": 3
   },
   "file_extension": ".py",
   "mimetype": "text/x-python",
   "name": "python",
   "nbconvert_exporter": "python",
   "pygments_lexer": "ipython3",
   "version": "3.10.9"
  },
  "vscode": {
   "interpreter": {
    "hash": "b885c526da3326e581d3a88563282ab625602807b12d7b4af8a2a7f32a015837"
   }
  }
 },
 "nbformat": 4,
 "nbformat_minor": 2
}
