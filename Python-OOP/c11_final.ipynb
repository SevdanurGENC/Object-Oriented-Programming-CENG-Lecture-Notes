{
 "cells": [
  {
   "cell_type": "markdown",
   "metadata": {},
   "source": [
    "# OOP\n",
    "* class / object\n",
    "* attirubutes / methods\n",
    "* encapsulation / abstraction\n",
    "* inheritance\n",
    "* overriding / polymorphism\n",
    "\n"
   ]
  },
  {
   "cell_type": "code",
   "execution_count": 1,
   "metadata": {},
   "outputs": [],
   "source": [
    "from abc import ABC, abstractmethod\n",
    "class Shape(ABC):\n",
    "    @abstractmethod\n",
    "    def area(self):\n",
    "        pass\n",
    "\n",
    "    @abstractmethod\n",
    "    def perimeter(self):\n",
    "        pass\n",
    "\n",
    "    def toString(self):\n",
    "        print(\"Shape\")\n"
   ]
  },
  {
   "cell_type": "code",
   "execution_count": 2,
   "metadata": {},
   "outputs": [],
   "source": [
    "class Square(Shape):\n",
    "    def __init__(self, edge):\n",
    "        self.__edge = edge\n",
    "    def area(self):\n",
    "        result = self.__edge ** 2\n",
    "        print(f\"Square area: {result:.2f}\")\n",
    "\n",
    "    def perimeter(self):\n",
    "        result = self.__edge * 4\n",
    "        print(f\"Square perimeter: {result:.2f}\")\n",
    "\n",
    "\n",
    "    def toString(self):\n",
    "        print(\"Square\")"
   ]
  },
  {
   "cell_type": "code",
   "execution_count": 3,
   "metadata": {},
   "outputs": [],
   "source": [
    "class Circle(Shape):\n",
    "    def __init__(self, r):\n",
    "        self.__r = r\n",
    "        self.__pi = 3.14\n",
    "    def area(self):\n",
    "        result = self.__pi * self.__r ** 2\n",
    "        print(f\"Circle area: {result:.2f}\")\n",
    "\n",
    "    def perimeter(self):\n",
    "        result = self.__pi * 2 * self.__r\n",
    "        print(f\"Circle perimeter: {result:.2f}\")\n",
    "\n",
    "    def toString(self):\n",
    "        print(\"Circle\")"
   ]
  },
  {
   "cell_type": "code",
   "execution_count": 4,
   "metadata": {},
   "outputs": [
    {
     "name": "stdout",
     "output_type": "stream",
     "text": [
      "Circle area: 153.86\n",
      "Circle perimeter: 43.96\n"
     ]
    },
    {
     "data": {
      "text/plain": [
       "(None, None)"
      ]
     },
     "execution_count": 4,
     "metadata": {},
     "output_type": "execute_result"
    }
   ],
   "source": [
    "a = Circle(7)\n",
    "a.area(), a.perimeter()"
   ]
  },
  {
   "cell_type": "code",
   "execution_count": 5,
   "metadata": {},
   "outputs": [
    {
     "name": "stdout",
     "output_type": "stream",
     "text": [
      "Circle\n"
     ]
    }
   ],
   "source": [
    "a.toString()"
   ]
  },
  {
   "cell_type": "code",
   "execution_count": null,
   "metadata": {},
   "outputs": [],
   "source": []
  }
 ],
 "metadata": {
  "kernelspec": {
   "display_name": "Python 3 (ipykernel)",
   "language": "python",
   "name": "python3"
  },
  "language_info": {
   "codemirror_mode": {
    "name": "ipython",
    "version": 3
   },
   "file_extension": ".py",
   "mimetype": "text/x-python",
   "name": "python",
   "nbconvert_exporter": "python",
   "pygments_lexer": "ipython3",
   "version": "3.10.9"
  },
  "vscode": {
   "interpreter": {
    "hash": "b885c526da3326e581d3a88563282ab625602807b12d7b4af8a2a7f32a015837"
   }
  }
 },
 "nbformat": 4,
 "nbformat_minor": 2
}
