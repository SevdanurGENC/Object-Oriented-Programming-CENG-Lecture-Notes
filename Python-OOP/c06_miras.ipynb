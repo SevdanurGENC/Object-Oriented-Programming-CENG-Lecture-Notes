{
 "cells": [
  {
   "cell_type": "markdown",
   "metadata": {},
   "source": [
    "## Python Inheritance (Miras/Kalıtım) Nedir?\n",
    "\n",
    "Büyük projelerde çalıştığınız zaman projenin alt modül yani alt parçacıklardan oluştuğunu ve bu alt modüllerin birçok özelliklerinin ana modülde zaten olduğunu göreceksiniz. Bunun için her seferinde alt modüller için, özellikleri ve işlevleri  oluşturmanız gerekecek buda sizin için resmen bir işkenceye dönüşüyor olacak. İşte bunun için inheritance (miras alma) kavramı ortaya çıkıyor.\n",
    "\n",
    "Inheritance Türkçe karşılığı kalıtım veya miras alma olan bu kavram nesne tabanlı programlama (OOP) ile gelen bir kavramdır. Nesne tabanlı programlamayı anlatırken biz her nesne için yeni bir sınıf oluşturuyorduk ve her nesnenin özellik ve işlevlerini belirtiyorduk. İşte burada çok daha pratik olan bir yöntem olan inheritance ile artık her nesne için ayrıca özellik ve işlev belirtmeniz gerek kalmıyor. Bir defa oluşturduğunuz özellikleri tekrar tekrar kullanıyorsunuz.\n",
    "\n",
    "Örneğin elinizde bir taşıt nesnesi var; siz araba, motosiklet gibi nesneler oluşturacaksınız. Burada araba ve motor için tekrar özellikleri yazmanıza gerek yok çünkü araba ve motosiklet nesnesinin özellikleri zaten taşıt nesnesinin içinde var. Sebebi ise araba ve motosiklet nesneleri taşıt nesnesinin birer alt kümesi.  Kafanız karıştıysa hiç merak etmeyin örnekleri yaptığımız zaman çok daha iyi anlayacaksınız."
   ]
  },
  {
   "cell_type": "code",
   "execution_count": 1,
   "metadata": {},
   "outputs": [],
   "source": [
    "# parent\n",
    "class Animal:\n",
    "    def __init__(self):\n",
    "        print(\"Animal is created\")\n",
    "    def toString(self):\n",
    "        print(\"animal\")\n",
    "    def walk(self):\n",
    "        print(\"animal walk\")\n"
   ]
  },
  {
   "cell_type": "code",
   "execution_count": 2,
   "metadata": {},
   "outputs": [],
   "source": [
    "# child\n",
    "class Monkey(Animal):\n",
    "    def __init__(self):\n",
    "        super().__init__()    \n",
    "        print(\"Monkey is created\")\n",
    "    def toString(self):\n",
    "        print(\"monkey\")\n",
    "    def climb(self):\n",
    "        print(\"monkey can climb\")\n"
   ]
  },
  {
   "cell_type": "code",
   "execution_count": 3,
   "metadata": {},
   "outputs": [
    {
     "name": "stdout",
     "output_type": "stream",
     "text": [
      "Animal is created\n",
      "Monkey is created\n",
      "monkey can climb\n"
     ]
    }
   ],
   "source": [
    "m1 = Monkey()\n",
    "m1.climb()"
   ]
  },
  {
   "cell_type": "code",
   "execution_count": 4,
   "metadata": {},
   "outputs": [],
   "source": [
    "class A:\n",
    "    def __init__(self, i = 100):\n",
    "        self.i = i\n",
    "\n",
    "class B(A):\n",
    "    def __init__(self, j = 10):\n",
    "        self.j = j"
   ]
  },
  {
   "attachments": {
    "image.png": {
     "image/png": "[encoded data removed]"
    }
   },
   "cell_type": "markdown",
   "metadata": {},
   "source": [
    "### Ornek Uygulama \n",
    "\n",
    "Birçoğumuzun üniversite veya lisede gördüğü öğrenci bilgilendirme veya veli bilgilendirme sistemleri vardır. Bu sistemlerin birden fazla kullanıcı giriş sistemi vardır. Ben örnek olarak bir üniversitenin öğrenci bilgilendirme sistemini ele aldım.\n",
    "\n",
    "![image.png](attachment:image.png)"
   ]
  },
  {
   "cell_type": "code",
   "execution_count": 5,
   "metadata": {},
   "outputs": [],
   "source": [
    "class Akademisyen:\n",
    "    def __init__(self,adi,soyadi,numarasi):\n",
    "        self.adi = adi\n",
    "        self.soyadi = soyadi\n",
    "        self.numarasi = numarasi\n",
    "\n",
    "\n",
    "    def giris(self):\n",
    "        print(\"Giriş Yapıldı\")\n",
    "\n",
    "    def cikis(self):\n",
    "        print(\"Çıkış yapıldı\")"
   ]
  },
  {
   "cell_type": "code",
   "execution_count": 6,
   "metadata": {},
   "outputs": [],
   "source": [
    "class Personel:\n",
    "    def __init__(self, adi, soyadi, numarasi):\n",
    "        self.adi = adi\n",
    "        self.soyadi = soyadi\n",
    "        self.numarasi = numarasi\n",
    "\n",
    "    def giris(self):\n",
    "        print(\"Giriş Yapıldı\")\n",
    "\n",
    "    def cikis(self):\n",
    "        print(\"Çıkış yapıldı\")"
   ]
  },
  {
   "cell_type": "code",
   "execution_count": 7,
   "metadata": {},
   "outputs": [],
   "source": [
    "class Ogrenci:\n",
    "    def __init__(self, adi, soyadi, numarasi):\n",
    "        self.adi = adi\n",
    "        self.soyadi = soyadi\n",
    "        self.numarasi = numarasi\n",
    "\n",
    "    def giris(self):\n",
    "        print(\"Giriş Yapıldı\")\n",
    "\n",
    "    def cikis(self):\n",
    "        print(\"Çıkış yapıldı\")"
   ]
  },
  {
   "cell_type": "code",
   "execution_count": 8,
   "metadata": {},
   "outputs": [],
   "source": [
    "class Kullanici:\n",
    "    def __init__(self,adi,soyadi,numara):\n",
    "        print(\"Kullanıcı sınıfı fonksyonu\")\n",
    "        self.adi = adi\n",
    "        self.soyadi = soyadi\n",
    "        self.numara = numara\n",
    " \n",
    "    def giris(self):\n",
    "        print(\"Giriş Yapıldı\")\n",
    "\n",
    "    def cikis(self):\n",
    "        print(\"Çıkış yapıldı\")\n"
   ]
  },
  {
   "cell_type": "code",
   "execution_count": 9,
   "metadata": {},
   "outputs": [],
   "source": [
    "class Akademisyen(Kullanici):\n",
    "    pass\n",
    "class Personel(Kullanici):\n",
    "    pass\n",
    "class Ogrenci(Kullanici):\n",
    "    pass"
   ]
  },
  {
   "cell_type": "code",
   "execution_count": 11,
   "metadata": {},
   "outputs": [
    {
     "name": "stdout",
     "output_type": "stream",
     "text": [
      "Kullanıcı sınıfı fonksyonu\n",
      "Kullanıcı sınıfı fonksyonu\n",
      "Kullanıcı sınıfı fonksyonu\n"
     ]
    }
   ],
   "source": [
    "akademisyen = Akademisyen(\"Mustafa\",\"Kaya\",1236521)\n",
    "personel = Personel(\"Mehmet\",\"Yıldız\",1539527)\n",
    "ogrenci = Ogrenci(\"Can\",\"Demir\",1436589)"
   ]
  },
  {
   "cell_type": "code",
   "execution_count": 12,
   "metadata": {},
   "outputs": [
    {
     "name": "stdout",
     "output_type": "stream",
     "text": [
      "Akademisyen\n",
      "Mustafa\n",
      "Kaya\n",
      "1236521\n"
     ]
    }
   ],
   "source": [
    "print(\"Akademisyen\")\n",
    "print(akademisyen.adi)\n",
    "print(akademisyen.soyadi)\n",
    "print(akademisyen.numara)"
   ]
  },
  {
   "cell_type": "code",
   "execution_count": 13,
   "metadata": {},
   "outputs": [
    {
     "name": "stdout",
     "output_type": "stream",
     "text": [
      "Personel\n",
      "Mehmet\n",
      "Yıldız\n",
      "1539527\n"
     ]
    }
   ],
   "source": [
    "print(\"Personel\")\n",
    "print(personel.adi)\n",
    "print(personel.soyadi)\n",
    "print(personel.numara)"
   ]
  },
  {
   "cell_type": "code",
   "execution_count": 14,
   "metadata": {},
   "outputs": [
    {
     "name": "stdout",
     "output_type": "stream",
     "text": [
      "Öğrenci\n",
      "Can\n",
      "Demir\n",
      "1436589\n"
     ]
    }
   ],
   "source": [
    "print(\"Öğrenci\")\n",
    "print(ogrenci.adi)\n",
    "print(ogrenci.soyadi)\n",
    "print(ogrenci.numara)"
   ]
  },
  {
   "cell_type": "markdown",
   "metadata": {},
   "source": [
    "## Overriding\n",
    "\n",
    "Overriding Türkçe karşılığı üstüne yazmak anlamına geliyor. Biz sınıfları işlediğimiz zaman yapıcı olan fonksiyon __init__() fonksiyonu için oluşturduğumuz sınıfın referansı demiştik ve bu fonksiyon otomatik olarak çalışıyordu. Onun için biz yeni sınıfımızda miras aldığımız fonksiyonun özelliklerini değil yeni özellikleri kullanmak istediğimiz zaman yeni sınıf için __init__() fonksiyonu tanımlamamız gerekiyor. Hemen gösterelim.\n"
   ]
  },
  {
   "cell_type": "code",
   "execution_count": 15,
   "metadata": {},
   "outputs": [],
   "source": [
    "class Kullanici:\n",
    "    def __init__(self,adi,soyadi,numara):\n",
    "        print(\"Kullanıcı sınıfı fonksyonu\")\n",
    "        self.adi = adi\n",
    "        self.soyadi = soyadi\n",
    "        self.numara = numara \n",
    "        \n",
    "    def giris(self):\n",
    "        print(\"Giriş Yapıldı\")\n",
    "\n",
    "    def cikis(self):\n",
    "        print(\"Çıkış yapıldı\")\n"
   ]
  },
  {
   "cell_type": "code",
   "execution_count": 16,
   "metadata": {},
   "outputs": [],
   "source": [
    "class Akademisyen(Kullanici):\n",
    "    def __init__(self,adi,soyadi,numara,dogum_tarihi):\n",
    "        print(\"Akademisyen sınıfı fonksiyonu\")\n",
    "        self.adi= adi\n",
    "        self.soyadi=soyadi\n",
    "        self.numara= numara\n",
    "        self.dugum_tarihi = dogum_tarihi\n"
   ]
  },
  {
   "cell_type": "code",
   "execution_count": 17,
   "metadata": {},
   "outputs": [
    {
     "name": "stdout",
     "output_type": "stream",
     "text": [
      "Akademisyen sınıfı fonksiyonu\n",
      "Mustafa\n",
      "Giriş Yapıldı\n"
     ]
    }
   ],
   "source": [
    "akademisyen = Akademisyen(\"Mustafa\",\"Kaya\",1236521,1997)\n",
    "print(akademisyen.adi)\n",
    "akademisyen.giris()"
   ]
  },
  {
   "cell_type": "markdown",
   "metadata": {},
   "source": [
    "## super()\n",
    "\n",
    "Türkçe karşılığı üst olan bu fonksiyon içinde bulunduğu sınıfın üst bir sınıftan miras alındığını ve oradaki özellikleri kullanabilmenizi sağlıyor. \n",
    "Hemen gösterelim; \n",
    "Genel kullanımı şu şekildedir; \n",
    "super().__init__(ust_sinif_parametreleri)"
   ]
  },
  {
   "cell_type": "code",
   "execution_count": 18,
   "metadata": {},
   "outputs": [],
   "source": [
    "class Kullanici:\n",
    "    def __init__(self,adi,soyadi,numara):\n",
    "        print(\"Kullanıcı sınıfı fonksiyonu\")\n",
    "        self.adi = adi\n",
    "        self.soyadi = soyadi\n",
    "        self.numara = numara \n",
    "\n",
    "    def giris(self):\n",
    "        print(\"Giriş Yapıldı\")\n",
    "\n",
    "    def cikis(self):\n",
    "        print(\"Çıkış yapıldı\")\n"
   ]
  },
  {
   "cell_type": "code",
   "execution_count": 19,
   "metadata": {},
   "outputs": [],
   "source": [
    "class Akademisyen(Kullanici):\n",
    "    def __init__(self,adi,soyadi,numara,dogum_tarihi):\n",
    "        print(\"Akademisyen sınıfı fonksiyonu\")\n",
    "        super().__init__(adi,soyadi,numara)\n",
    "        self.dugum_tarihi = dogum_tarihi"
   ]
  },
  {
   "cell_type": "code",
   "execution_count": 20,
   "metadata": {},
   "outputs": [
    {
     "name": "stdout",
     "output_type": "stream",
     "text": [
      "Akademisyen sınıfı fonksiyonu\n",
      "Kullanıcı sınıfı fonksiyonu\n"
     ]
    }
   ],
   "source": [
    "akademisyen = Akademisyen(\"Mustafa\",\"Kaya\",1236521,1997)"
   ]
  },
  {
   "cell_type": "code",
   "execution_count": null,
   "metadata": {},
   "outputs": [],
   "source": []
  }
 ],
 "metadata": {
  "kernelspec": {
   "display_name": "Python 3 (ipykernel)",
   "language": "python",
   "name": "python3"
  },
  "language_info": {
   "codemirror_mode": {
    "name": "ipython",
    "version": 3
   },
   "file_extension": ".py",
   "mimetype": "text/x-python",
   "name": "python",
   "nbconvert_exporter": "python",
   "pygments_lexer": "ipython3",
   "version": "3.10.9"
  },
  "vscode": {
   "interpreter": {
    "hash": "b885c526da3326e581d3a88563282ab625602807b12d7b4af8a2a7f32a015837"
   }
  }
 },
 "nbformat": 4,
 "nbformat_minor": 2
}
