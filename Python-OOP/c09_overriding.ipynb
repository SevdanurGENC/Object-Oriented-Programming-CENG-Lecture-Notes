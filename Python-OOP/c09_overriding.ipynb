{
 "cells": [
  {
   "cell_type": "markdown",
   "metadata": {},
   "source": [
    "## Overriding (Üzerine Yazma-Öncekini İptal Etme)\n",
    "\n",
    "Eğer alt sınıfta ana sınıftan metotları aynı isimde tanımlarsak alt sınıftaki üst sınıftakini iptal eder ve alt sınıftaki aktif olur. "
   ]
  },
  {
   "cell_type": "code",
   "execution_count": 1,
   "metadata": {},
   "outputs": [],
   "source": [
    "class Animal:\n",
    "    def toString(self):\n",
    "        print(\"Animal\")\n",
    "\n",
    "class Monkey(Animal):\n",
    "    def toString(self):\n",
    "        print(\"Monkey\")"
   ]
  },
  {
   "cell_type": "code",
   "execution_count": 2,
   "metadata": {},
   "outputs": [
    {
     "name": "stdout",
     "output_type": "stream",
     "text": [
      "Animal\n"
     ]
    }
   ],
   "source": [
    "a = Animal()\n",
    "a.toString()"
   ]
  },
  {
   "cell_type": "code",
   "execution_count": 3,
   "metadata": {},
   "outputs": [
    {
     "name": "stdout",
     "output_type": "stream",
     "text": [
      "Monkey\n"
     ]
    }
   ],
   "source": [
    "m1 = Monkey()\n",
    "m1.toString()"
   ]
  },
  {
   "cell_type": "code",
   "execution_count": 4,
   "metadata": {},
   "outputs": [],
   "source": [
    "class Rectangle():\n",
    "\tdef __init__(self,length,breadth):\n",
    "\t\tself.length = length\n",
    "\t\tself.breadth = breadth\n",
    "\tdef getArea(self):\n",
    "\t\tprint(self.length*self.breadth,\" is area of rectangle\")\n",
    "\n",
    "class Square(Rectangle):\n",
    "\tdef __init__(self,side):\n",
    "\t\tself.side = side\n",
    "\t\tRectangle.__init__(self,side,side)\n",
    "\tdef getArea(self):\n",
    "\t\tprint(self.side*self.side,\" is area of square\")\n"
   ]
  },
  {
   "cell_type": "code",
   "execution_count": 5,
   "metadata": {},
   "outputs": [
    {
     "name": "stdout",
     "output_type": "stream",
     "text": [
      "16  is area of square\n",
      "8  is area of rectangle\n"
     ]
    }
   ],
   "source": [
    "s = Square(4)\n",
    "r = Rectangle(2,4)\n",
    "s.getArea()\n",
    "r.getArea()"
   ]
  },
  {
   "cell_type": "code",
   "execution_count": null,
   "metadata": {},
   "outputs": [],
   "source": []
  }
 ],
 "metadata": {
  "kernelspec": {
   "display_name": "Python 3 (ipykernel)",
   "language": "python",
   "name": "python3"
  },
  "language_info": {
   "codemirror_mode": {
    "name": "ipython",
    "version": 3
   },
   "file_extension": ".py",
   "mimetype": "text/x-python",
   "name": "python",
   "nbconvert_exporter": "python",
   "pygments_lexer": "ipython3",
   "version": "3.10.9"
  },
  "vscode": {
   "interpreter": {
    "hash": "b885c526da3326e581d3a88563282ab625602807b12d7b4af8a2a7f32a015837"
   }
  }
 },
 "nbformat": 4,
 "nbformat_minor": 2
}
