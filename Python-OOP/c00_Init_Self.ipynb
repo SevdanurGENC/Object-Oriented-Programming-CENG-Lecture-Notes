{
  "nbformat": 4,
  "nbformat_minor": 0,
  "metadata": {
    "colab": {
      "provenance": []
    },
    "kernelspec": {
      "name": "python3",
      "display_name": "Python 3"
    },
    "language_info": {
      "name": "python"
    }
  },
  "cells": [
    {
      "cell_type": "markdown",
      "source": [
        "# **__init__ nedir?**\n",
        "\n",
        "*   __init__ metodu initialize-**ilklendirmek**, initializer-**başlatıcı** kavramlarından gelmektedir.\n",
        "*   __init__ , OOP ile programlamada bir class’ın **yapıcı (constructor) metodur**.\n",
        "*   Eğer bir class’tan **nesne türetecek** isek __init__ ,class’ın ilk metodu olmak zorundadır.\n",
        "*   Class içinden türetilen nesnelere ait **özellikler bu metot ile nesnelere atanır**."
      ],
      "metadata": {
        "id": "r7vwqp_pMQDA"
      }
    },
    {
      "cell_type": "code",
      "execution_count": 1,
      "metadata": {
        "id": "NFySqLFHMPhQ"
      },
      "outputs": [],
      "source": [
        "class Cars:\n",
        "    def __init__(self, brand: str, model: str, color: str, gear: str):\n",
        "        self.brand = brand\n",
        "        self.model = model\n",
        "        self.color = color\n",
        "        self.gear = gear"
      ]
    },
    {
      "cell_type": "markdown",
      "source": [
        "# **self nedir?**\n",
        "\n",
        "__init__ metodunun yapısına baktığımızda parantez içinde self kavramı dikkatimizi çekmektedir.\n",
        "\n",
        "*   self anahtar sözcüğü (keyword) **__init__** metodu ile gelen ve class içinden **türetmiş olduğumuz nesnelere ulaşmamızı sağlayan bir kavramdır**.\n",
        "*   __init__ metodunu class’tan hemen sonra kullandığımızda gelen self keyword **yerine biz kendi keyword’ümüzü de yazabiliriz **ve daha sonra, çağırmak istediğimiz her fonksiyon veya değişken için; oluşturduğumuz keyword’ü kullanabiliriz.\n",
        "*   Tavsiye: self sözcüğü karışıklık olmaması adına **değiştirilmemelidir**."
      ],
      "metadata": {
        "id": "j2mR2nfgMeRp"
      }
    },
    {
      "cell_type": "code",
      "source": [
        "class Cars:\n",
        "    def __init__(self, brand: str, model: str, color: str, gear: str):\n",
        "        self.brand = brand\n",
        "        self.model = model\n",
        "        self.color = color\n",
        "        self.gear = gear"
      ],
      "metadata": {
        "id": "-Z9zow7gMd1S"
      },
      "execution_count": 2,
      "outputs": []
    },
    {
      "cell_type": "code",
      "source": [
        "car_1 = Cars(\n",
        "    brand=\"Ford\",\n",
        "    model=\"Mustang\",\n",
        "    color=\"Siyah\",\n",
        "    gear=\"Manuel\"\n",
        ")\n",
        "\n",
        "car_2 = Cars(\n",
        "    brand=\"BMW\",\n",
        "    model=\"X6\",\n",
        "    color=\"Beyaz\",\n",
        "    gear=\"Otomatik\"\n",
        ")"
      ],
      "metadata": {
        "id": "qx1pijNvNAVN"
      },
      "execution_count": 4,
      "outputs": []
    },
    {
      "cell_type": "code",
      "source": [
        "car_3 = Cars()\n",
        "\n",
        "print(car_3)"
      ],
      "metadata": {
        "colab": {
          "base_uri": "https://localhost:8080/",
          "height": 214
        },
        "id": "d2YsLmWyNG4i",
        "outputId": "89a91096-266a-4d63-b28d-32fa35145aca"
      },
      "execution_count": 5,
      "outputs": [
        {
          "output_type": "error",
          "ename": "TypeError",
          "evalue": "ignored",
          "traceback": [
            "\u001b[0;31m---------------------------------------------------------------------------\u001b[0m",
            "\u001b[0;31mTypeError\u001b[0m                                 Traceback (most recent call last)",
            "\u001b[0;32m<ipython-input-5-70968abfe7e7>\u001b[0m in \u001b[0;36m<cell line: 1>\u001b[0;34m()\u001b[0m\n\u001b[0;32m----> 1\u001b[0;31m \u001b[0mcar_3\u001b[0m \u001b[0;34m=\u001b[0m \u001b[0mCars\u001b[0m\u001b[0;34m(\u001b[0m\u001b[0;34m)\u001b[0m\u001b[0;34m\u001b[0m\u001b[0;34m\u001b[0m\u001b[0m\n\u001b[0m\u001b[1;32m      2\u001b[0m \u001b[0;34m\u001b[0m\u001b[0m\n\u001b[1;32m      3\u001b[0m \u001b[0mprint\u001b[0m\u001b[0;34m(\u001b[0m\u001b[0mcar_3\u001b[0m\u001b[0;34m)\u001b[0m\u001b[0;34m\u001b[0m\u001b[0;34m\u001b[0m\u001b[0m\n",
            "\u001b[0;31mTypeError\u001b[0m: Cars.__init__() missing 4 required positional arguments: 'brand', 'model', 'color', and 'gear'"
          ]
        }
      ]
    },
    {
      "cell_type": "markdown",
      "source": [
        "Alınan hata, Cars class’ına ait __init__ metodunun 4 tane zorunlu argümanının eksik olduğunu bize bildirmektedir. İşte, __init__ metodunun parantezi içindeki değerler, bizim, nesneleremize atadığımız ve bu class içinden bir nesne türetilecekse bu 4 özelliği alması zorunludur dediğimiz özelliklerimizdir."
      ],
      "metadata": {
        "id": "Ueivo7pyNMFl"
      }
    },
    {
      "cell_type": "markdown",
      "source": [
        "# **Self'in Metotlarda Kullanımı**\n",
        "\n",
        "self anahtar sözcüğünün nesnelerimizin özelliklerine ulaşmakta kullanılacağından bahsetmiştik. **get_employee_information** metodumuzda **nesnelerimize ait özellikleri çağırırken** *self.name*, *self.salary* şeklinde kulladığımıza dikkat ediniz."
      ],
      "metadata": {
        "id": "UFL51LW9QRNd"
      }
    },
    {
      "cell_type": "code",
      "source": [
        "class Employees:\n",
        "    def __init__(self, name: str, surname: str, salary: int, department: str):\n",
        "        self.name = name\n",
        "        self.surname = surname\n",
        "        self.salary = salary\n",
        "        self.department = department\n",
        "\n",
        "    def get_employee_information(self):\n",
        "        \"\"\"\n",
        "        Bu Fonksiyon Employees Bilgilerini Döndürür\n",
        "        :return:\n",
        "        \"\"\"\n",
        "        print(F\"Name: {self.name}, Surname: {self.surname}, Salary: {self.salary}, Department: {self.department}\")"
      ],
      "metadata": {
        "id": "OsARr1UoOKB4"
      },
      "execution_count": 7,
      "outputs": []
    },
    {
      "cell_type": "code",
      "source": [
        "employee_1 = Employees(\n",
        "    name=\"Ali\",\n",
        "    surname=\"Cengiz\",\n",
        "    salary=6500,\n",
        "    department=\"Bilgi Teknolojileri\"\n",
        ")\n",
        "\n",
        "employee_1.get_employee_information()"
      ],
      "metadata": {
        "colab": {
          "base_uri": "https://localhost:8080/"
        },
        "id": "sys0aG9aOUju",
        "outputId": "67d67ba9-2fb2-40cd-bbf6-ae02e6cfb3f1"
      },
      "execution_count": 12,
      "outputs": [
        {
          "output_type": "stream",
          "name": "stdout",
          "text": [
            "Name: Ali, Surname: Cengiz, Salary: 6500, Department: Bilgi Teknolojileri\n"
          ]
        }
      ]
    },
    {
      "cell_type": "markdown",
      "source": [
        "Örnek : İşin içerisine kalıtım girerse eğer:\n"
      ],
      "metadata": {
        "id": "J3Grz-rNOtcY"
      }
    },
    {
      "cell_type": "code",
      "source": [
        "class Managers(Employees):\n",
        "    \"\"\" Bu Sınıf Managers Nesneleri Oluşturur, Kalıtım vardır \"\"\"\n",
        "    pass\n",
        "\n",
        "manager_1 = Managers(\n",
        "    name=\"Ali\",\n",
        "    surname=\"Cengiz\",\n",
        "    salary=9000,\n",
        "    department=\"Bilgi Teknolojileri\"\n",
        ")\n",
        "\n",
        "manager_1.get_employee_information()"
      ],
      "metadata": {
        "colab": {
          "base_uri": "https://localhost:8080/"
        },
        "id": "PLXYM9jrOYvf",
        "outputId": "4bb0dfbb-7725-47b6-84be-5904cdf179f5"
      },
      "execution_count": 13,
      "outputs": [
        {
          "output_type": "stream",
          "name": "stdout",
          "text": [
            "Name: Ali, Surname: Cengiz, Salary: 9000, Department: Bilgi Teknolojileri\n"
          ]
        }
      ]
    },
    {
      "cell_type": "code",
      "source": [
        "class Managers(Employees):\n",
        "    \"\"\" Bu Sınıf Managers Nesneleri Oluşturur, Kalıtım vardır, ek olarak yeni bir oznitelik vardır \"\"\"\n",
        "    def __init__(self, name: str, surname: str, salary: int, department: str, trade_score: int):\n",
        "        super().__init__(name, surname, salary, department)\n",
        "        self.trade_score = trade_score\n",
        "\n",
        "    def get_employee_information(self):\n",
        "        \"\"\"\n",
        "        Bu Fonksiyon Employees Bilgilerini Döndürür\n",
        "        :return:\n",
        "        \"\"\"\n",
        "        print(\n",
        "            F\"Name: {self.name}, Surname: {self.surname}, Salary: {self.salary}, Department: {self.department}, \"\n",
        "            F\"Trade Score: {self.trade_score}\")"
      ],
      "metadata": {
        "id": "XgajASz2O90X"
      },
      "execution_count": 14,
      "outputs": []
    },
    {
      "cell_type": "code",
      "source": [
        "manager_1 = Managers(\n",
        "    name=\"Ali\",\n",
        "    surname=\"CENGİZ\",\n",
        "    salary=6500,\n",
        "    department=\"Bilgi Teknolojileri\",\n",
        "    trade_score=100\n",
        "\n",
        ")\n",
        "\n",
        "manager_1.get_employee_information()"
      ],
      "metadata": {
        "colab": {
          "base_uri": "https://localhost:8080/"
        },
        "id": "VEWoIwuiPMTI",
        "outputId": "1863774a-f203-4d5e-8960-95580f9435a7"
      },
      "execution_count": 15,
      "outputs": [
        {
          "output_type": "stream",
          "name": "stdout",
          "text": [
            "Name: Ali, Surname: CENGİZ, Salary: 6500, Department: Bilgi Teknolojileri, Trade Score: 100\n"
          ]
        }
      ]
    }
  ]
}