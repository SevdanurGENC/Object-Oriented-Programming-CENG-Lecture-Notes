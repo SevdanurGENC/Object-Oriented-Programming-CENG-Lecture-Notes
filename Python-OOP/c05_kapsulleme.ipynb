{
 "cells": [
  {
   "cell_type": "markdown",
   "metadata": {},
   "source": [
    "## Kapsülleme (Encapsulation) \n",
    "\n",
    "Kapsülleme, sınıfınız içindeki özellik ve fonksiyonlara diğer sınıflar içinden yetkisiz erişimden korunması işlemidir. Bunun için erişim yetkilerini siz belirlersiniz. Bir sınıftaki özellikleri (değişkenleri) özel (private) olarak belirleyerek dış erişimden koruyabilirsiniz. Python’da bir özelliği (değişkeni) özel (private) yapmak için başına iki tane alt çizgi ekleriz. Bunu yaptığımızda o sınıftan oluşturulan nesne ile bu özelliğe direkt olarak erişilemez."
   ]
  },
  {
   "cell_type": "markdown",
   "metadata": {},
   "source": [
    "## SET ve GET\n",
    "\n",
    "Methodlara dışarıdan erişip hiç değişiklik yapamaz mıyız?\n",
    "Getter ve Setter metodları sayesinde bu işlemleri gerçekleştirebiliriz.\n",
    "Getter fonksiyonunun amacı kullanıcıya private alanın değerini gösterir.\n",
    "Setter fonksiyonu ise değeri güncellemede kullanılır."
   ]
  },
  {
   "cell_type": "code",
   "execution_count": 1,
   "metadata": {},
   "outputs": [],
   "source": [
    "class BankAccount(object):\n",
    "    def __init__(self, name, money, adress):\n",
    "        self.__name = name\n",
    "        self.__money = money\n",
    "        self.__adress = adress\n",
    "\n",
    "    def getMoney(self):\n",
    "        return self.__money    \n",
    "    def setMoney(self, amount):\n",
    "        self.__money = amount\n",
    "    def __Money(self, amount):\n",
    "        self.__money = amount"
   ]
  },
  {
   "cell_type": "code",
   "execution_count": 2,
   "metadata": {},
   "outputs": [],
   "source": [
    "p1 = BankAccount(\"ömer\", 1000, \"ankara\")\n",
    "p2 = BankAccount(\"ali\", 2000, \"malatya\")\n"
   ]
  },
  {
   "cell_type": "code",
   "execution_count": 3,
   "metadata": {},
   "outputs": [
    {
     "data": {
      "text/plain": [
       "1000"
      ]
     },
     "execution_count": 3,
     "metadata": {},
     "output_type": "execute_result"
    }
   ],
   "source": [
    "p1.getMoney()"
   ]
  },
  {
   "cell_type": "code",
   "execution_count": 4,
   "metadata": {},
   "outputs": [
    {
     "data": {
      "text/plain": [
       "5000"
      ]
     },
     "execution_count": 4,
     "metadata": {},
     "output_type": "execute_result"
    }
   ],
   "source": [
    "p1.setMoney(5000)\n",
    "p1.getMoney()"
   ]
  },
  {
   "cell_type": "code",
   "execution_count": 5,
   "metadata": {},
   "outputs": [
    {
     "data": {
      "text/plain": [
       "5000"
      ]
     },
     "execution_count": 5,
     "metadata": {},
     "output_type": "execute_result"
    }
   ],
   "source": [
    "p1.__money=10000\n",
    "p1.getMoney()"
   ]
  },
  {
   "cell_type": "code",
   "execution_count": 13,
   "metadata": {},
   "outputs": [],
   "source": [
    "class Ogretmen: \n",
    "\n",
    "    def __init__(self,isim,soyisim, yas,maas,uzmanlik): \n",
    "        self.isim = isim \n",
    "        self.soyisim = soyisim \n",
    "        self.yas = yas #genel degisken \n",
    "        self.__maas = maas #6zel degisken \n",
    "        self.uzmanlik = uzmanlik \n",
    "\n",
    "    def getMaas(self): \n",
    "        return self.__maas \n",
    "\n",
    "    def setMaas(self,yeni_maas): \n",
    "        self.__maas = yeni_maas"
   ]
  },
  {
   "cell_type": "code",
   "execution_count": 20,
   "metadata": {},
   "outputs": [],
   "source": [
    "iki = Ogretmen(\"Ahmet\",\"durmaz\",37,6000,\"Matematik\") "
   ]
  },
  {
   "cell_type": "code",
   "execution_count": 21,
   "metadata": {},
   "outputs": [
    {
     "data": {
      "text/plain": [
       "6000"
      ]
     },
     "execution_count": 21,
     "metadata": {},
     "output_type": "execute_result"
    }
   ],
   "source": [
    "iki.getMaas() "
   ]
  },
  {
   "cell_type": "code",
   "execution_count": 22,
   "metadata": {},
   "outputs": [],
   "source": [
    "iki.setMaas(10000) "
   ]
  },
  {
   "cell_type": "code",
   "execution_count": 23,
   "metadata": {},
   "outputs": [
    {
     "data": {
      "text/plain": [
       "10000"
      ]
     },
     "execution_count": 23,
     "metadata": {},
     "output_type": "execute_result"
    }
   ],
   "source": [
    "iki.getMaas() "
   ]
  },
  {
   "cell_type": "code",
   "execution_count": null,
   "metadata": {},
   "outputs": [],
   "source": []
  }
 ],
 "metadata": {
  "kernelspec": {
   "display_name": "Python 3 (ipykernel)",
   "language": "python",
   "name": "python3"
  },
  "language_info": {
   "codemirror_mode": {
    "name": "ipython",
    "version": 3
   },
   "file_extension": ".py",
   "mimetype": "text/x-python",
   "name": "python",
   "nbconvert_exporter": "python",
   "pygments_lexer": "ipython3",
   "version": "3.10.9"
  },
  "vscode": {
   "interpreter": {
    "hash": "b885c526da3326e581d3a88563282ab625602807b12d7b4af8a2a7f32a015837"
   }
  }
 },
 "nbformat": 4,
 "nbformat_minor": 2
}
