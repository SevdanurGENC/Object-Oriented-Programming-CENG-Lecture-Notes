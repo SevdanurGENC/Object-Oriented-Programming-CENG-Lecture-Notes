{
 "cells": [
  {
   "cell_type": "markdown",
   "metadata": {},
   "source": [
    "# Nesne Tabanlı Programlama (OOP)\n",
    "\n",
    "Nesne tabanlı programlama, pek çok yazılım geliştirme yönteminden yalnızca biridir. Nesne Tabanlı Programlama gerçek hayattaki nesneleri yazılım dünyasına aktarma çabasıdır. Örneğin yeni bir araba üretecek bir firmayı düşünelim. Somut olarak üretilecek olan arabanın tüm özellik (attributes) ve fonksiyonlarını (method) ilk olarak yazılıma aktarmak gerekiyor. Bu aktarım aşamasının kendisi aslında arabanın tüm özellik ve fonksiyonlarını içerecek olan bir sınıfın (class) oluşturmasıdır. Sınıf tanımlanmasından sonra ise sınıfın tüm özellik ve yeteneklerine sahip olacak her kopyaya ise nesne (object) diyoruz.\n",
    "\n",
    "Nesne tabanlı programlama kapsamındaki kullandığımız terimler:\n",
    "class (sınıf), object (nesne), attributes (özellik) ve metod kavramlarıdır.\n"
   ]
  },
  {
   "cell_type": "markdown",
   "metadata": {},
   "source": [
    "## Sınıflar (Class)\n",
    "\n",
    "Nesne tabanlı programlamanın temelinde, ‘sınıf’ (class) adlı bir kavram bulunur. \n",
    "\n",
    "Gerçek hayattaki bir nesneyi yazılım dünyasında temsil edecek olan yapıya class denir. Tabi ki bu terim nesne tabanlı programlamayı daha somut bir şekilde anlamamız için söyleyebileceğimiz bir açıklamadır. \n"
   ]
  },
  {
   "cell_type": "markdown",
   "metadata": {},
   "source": [
    "## Object (Nesne) \n",
    "\n",
    "Nesne tabanlı programlama da bir nesneyi modellemek için ilk başta class oluşturuyoruz. \n",
    "Örneğin bir araba sınıfı ya da bir öğrenci sınıfı. \n",
    "Sınıfa ait tüm özellik ve fonksiyonları sınıf içerisine ekliyoruz.\n",
    "Örneğin araba sınıfı açısından düşünürsek arabanın vites tipi, yakıt tipi gibi arabayı temsil edecek olan özelliklerdir ve arabanın sahip olduğu yetenekler ise örneğin arabanın çalıştırılması, stop edilmesi, araç takip özelliği gibi.\n"
   ]
  },
  {
   "cell_type": "markdown",
   "metadata": {},
   "source": [
    "## Attributes (Özellik)\n",
    "\n",
    "Sınıf içinde tanımlanan sınıfın her hangi bir özelliğini taşıyacak olan değişkenlere verdiğimiz isimdir. \n",
    "Örneğin Arabanın renk bilgisi gibi."
   ]
  },
  {
   "cell_type": "markdown",
   "metadata": {},
   "source": [
    "##  Metod \n",
    "\n",
    "Sınıflara hizmet eden fonksiyonlara verilen isimdir. \n",
    "Örneğin bir Arabanın çalıştırılması, hızlandırılması, takip sistemi vb. fonksiyonlara verdiğimiz isim metod olarak adlandırılır."
   ]
  },
  {
   "cell_type": "code",
   "execution_count": 33,
   "metadata": {},
   "outputs": [],
   "source": [
    "class Employee:\n",
    "    pass"
   ]
  },
  {
   "cell_type": "code",
   "execution_count": 34,
   "metadata": {},
   "outputs": [],
   "source": [
    "employee1 = Employee()"
   ]
  },
  {
   "cell_type": "code",
   "execution_count": 35,
   "metadata": {},
   "outputs": [],
   "source": [
    "class Footballer:\n",
    "    football_club = \"Besiktas\"\n",
    "    age = 41"
   ]
  },
  {
   "cell_type": "code",
   "execution_count": 36,
   "metadata": {},
   "outputs": [
    {
     "data": {
      "text/plain": [
       "<__main__.Footballer at 0x23b64e4c7f0>"
      ]
     },
     "execution_count": 36,
     "metadata": {},
     "output_type": "execute_result"
    }
   ],
   "source": [
    "f1 = Footballer()\n",
    "f1"
   ]
  },
  {
   "cell_type": "code",
   "execution_count": 37,
   "metadata": {},
   "outputs": [
    {
     "data": {
      "text/plain": [
       "41"
      ]
     },
     "execution_count": 37,
     "metadata": {},
     "output_type": "execute_result"
    }
   ],
   "source": [
    "f1.age"
   ]
  },
  {
   "cell_type": "code",
   "execution_count": 38,
   "metadata": {},
   "outputs": [
    {
     "data": {
      "text/plain": [
       "'Besiktas'"
      ]
     },
     "execution_count": 38,
     "metadata": {},
     "output_type": "execute_result"
    }
   ],
   "source": [
    "f1.football_club "
   ]
  },
  {
   "cell_type": "code",
   "execution_count": 39,
   "metadata": {},
   "outputs": [
    {
     "data": {
      "text/plain": [
       "'Juventus'"
      ]
     },
     "execution_count": 39,
     "metadata": {},
     "output_type": "execute_result"
    }
   ],
   "source": [
    "f1.football_club  = \"Juventus\"\n",
    "f1.football_club"
   ]
  },
  {
   "cell_type": "code",
   "execution_count": 40,
   "metadata": {},
   "outputs": [
    {
     "data": {
      "text/plain": [
       "20"
      ]
     },
     "execution_count": 40,
     "metadata": {},
     "output_type": "execute_result"
    }
   ],
   "source": [
    "class A:\n",
    "\n",
    "    global age\n",
    "    age = 15\n",
    "\n",
    "    def __init__(self, age):\n",
    "        self.age = age\n",
    "\n",
    "a = A(20)\n",
    "a.age"
   ]
  },
  {
   "cell_type": "markdown",
   "metadata": {},
   "source": [
    "## Ornek Uygulama"
   ]
  },
  {
   "cell_type": "code",
   "execution_count": 47,
   "metadata": {},
   "outputs": [],
   "source": [
    "class Araba:\n",
    "    pass"
   ]
  },
  {
   "cell_type": "code",
   "execution_count": 48,
   "metadata": {},
   "outputs": [],
   "source": [
    "class Araba:\n",
    "     def __init__(self, renk):\n",
    "        self.renk= renk"
   ]
  },
  {
   "cell_type": "code",
   "execution_count": 49,
   "metadata": {},
   "outputs": [],
   "source": [
    "kirmiziOpel = Araba(\"kırmızı\")\n",
    "maviOpel = Araba(\"mavi\")\n",
    "siyahOpel = Araba(\"siyah\")"
   ]
  },
  {
   "cell_type": "code",
   "execution_count": 50,
   "metadata": {},
   "outputs": [],
   "source": [
    "class Araba:\n",
    "     def __init__(self, renk):\n",
    "        self.renk= renk\n",
    "\n",
    "     def start(self):\n",
    "         print(\"araç çalıştırıldı.\")\n",
    "\n",
    "     def stop(self):\n",
    "         print(\"araç durduruldu.\")"
   ]
  },
  {
   "cell_type": "code",
   "execution_count": null,
   "metadata": {},
   "outputs": [],
   "source": []
  }
 ],
 "metadata": {
  "kernelspec": {
   "display_name": "Python 3 (ipykernel)",
   "language": "python",
   "name": "python3"
  },
  "language_info": {
   "codemirror_mode": {
    "name": "ipython",
    "version": 3
   },
   "file_extension": ".py",
   "mimetype": "text/x-python",
   "name": "python",
   "nbconvert_exporter": "python",
   "pygments_lexer": "ipython3",
   "version": "3.10.9"
  },
  "vscode": {
   "interpreter": {
    "hash": "b885c526da3326e581d3a88563282ab625602807b12d7b4af8a2a7f32a015837"
   }
  }
 },
 "nbformat": 4,
 "nbformat_minor": 2
}
