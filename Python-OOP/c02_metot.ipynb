{
 "cells": [
  {
   "cell_type": "markdown",
   "metadata": {},
   "source": [
    "## Method Oluşturma\n",
    "\n",
    "Nesne tabanlı programlamada sınıftan türetilmiş her bir nesneye hizmet eden ve belli bir görevi yerine getiren fonksiyona method diyoruz. Her bir nesne derken burada bahsettiğimiz instance metottur ve instance metotlar ilk parametre olarak self parametresini almak zorundadırlar ki hizmet ettiği nesnenin diğer elemanlarına ulaşabilsin."
   ]
  },
  {
   "cell_type": "code",
   "execution_count": 19,
   "metadata": {},
   "outputs": [],
   "source": [
    "class Square(object):\n",
    "    edge = 5\n",
    "    area = 0\n",
    "    def area1(self):\n",
    "        self.area = self.edge **2\n",
    "        return self.area"
   ]
  },
  {
   "cell_type": "code",
   "execution_count": 20,
   "metadata": {},
   "outputs": [
    {
     "data": {
      "text/plain": [
       "<__main__.Square at 0x16e4bc4d8a0>"
      ]
     },
     "execution_count": 20,
     "metadata": {},
     "output_type": "execute_result"
    }
   ],
   "source": [
    "s1 = Square()\n",
    "s1"
   ]
  },
  {
   "cell_type": "code",
   "execution_count": 21,
   "metadata": {},
   "outputs": [
    {
     "data": {
      "text/plain": [
       "5"
      ]
     },
     "execution_count": 21,
     "metadata": {},
     "output_type": "execute_result"
    }
   ],
   "source": [
    "s1.edge"
   ]
  },
  {
   "cell_type": "code",
   "execution_count": 22,
   "metadata": {},
   "outputs": [
    {
     "data": {
      "text/plain": [
       "25"
      ]
     },
     "execution_count": 22,
     "metadata": {},
     "output_type": "execute_result"
    }
   ],
   "source": [
    "s1.area1()"
   ]
  },
  {
   "cell_type": "code",
   "execution_count": 23,
   "metadata": {},
   "outputs": [
    {
     "data": {
      "text/plain": [
       "25"
      ]
     },
     "execution_count": 23,
     "metadata": {},
     "output_type": "execute_result"
    }
   ],
   "source": [
    "s1.area"
   ]
  },
  {
   "cell_type": "code",
   "execution_count": 24,
   "metadata": {},
   "outputs": [],
   "source": [
    "s1.edge = 8"
   ]
  },
  {
   "cell_type": "code",
   "execution_count": 25,
   "metadata": {},
   "outputs": [
    {
     "data": {
      "text/plain": [
       "25"
      ]
     },
     "execution_count": 25,
     "metadata": {},
     "output_type": "execute_result"
    }
   ],
   "source": [
    "s1.area"
   ]
  },
  {
   "cell_type": "code",
   "execution_count": 26,
   "metadata": {},
   "outputs": [
    {
     "data": {
      "text/plain": [
       "64"
      ]
     },
     "execution_count": 26,
     "metadata": {},
     "output_type": "execute_result"
    }
   ],
   "source": [
    "s1.area1()"
   ]
  },
  {
   "cell_type": "markdown",
   "metadata": {},
   "source": [
    "Fonksiyon vs metot"
   ]
  },
  {
   "cell_type": "code",
   "execution_count": 27,
   "metadata": {},
   "outputs": [],
   "source": [
    "class Emp(object):\n",
    "    age = 25\n",
    "    salary = 1000\n",
    "\n",
    "    def ageSalaryRatio(self):\n",
    "        print(self.age / self.salary)\n",
    "        # method"
   ]
  },
  {
   "cell_type": "code",
   "execution_count": 28,
   "metadata": {},
   "outputs": [],
   "source": [
    "def ageSalaryRatio(age, salary):\n",
    "    print(age / salary)\n",
    "    # func\n"
   ]
  },
  {
   "cell_type": "code",
   "execution_count": 29,
   "metadata": {},
   "outputs": [
    {
     "name": "stdout",
     "output_type": "stream",
     "text": [
      "0.025\n"
     ]
    }
   ],
   "source": [
    "e1 = Emp()\n",
    "e1.ageSalaryRatio()"
   ]
  },
  {
   "cell_type": "code",
   "execution_count": 30,
   "metadata": {},
   "outputs": [
    {
     "name": "stdout",
     "output_type": "stream",
     "text": [
      "0.01\n"
     ]
    }
   ],
   "source": [
    "ageSalaryRatio(30,3000)"
   ]
  },
  {
   "cell_type": "code",
   "execution_count": 31,
   "metadata": {},
   "outputs": [],
   "source": [
    "pi=3.14159265359\n",
    "r=5"
   ]
  },
  {
   "cell_type": "code",
   "execution_count": 32,
   "metadata": {},
   "outputs": [],
   "source": [
    "def findArea(pi=3, r =0):\n",
    "    # waeawewaewa\n",
    "    return pi * r**2"
   ]
  },
  {
   "cell_type": "code",
   "execution_count": 33,
   "metadata": {},
   "outputs": [
    {
     "data": {
      "text/plain": [
       "0"
      ]
     },
     "execution_count": 33,
     "metadata": {},
     "output_type": "execute_result"
    }
   ],
   "source": [
    "findArea()"
   ]
  },
  {
   "cell_type": "code",
   "execution_count": 34,
   "metadata": {},
   "outputs": [
    {
     "data": {
      "text/plain": [
       "147"
      ]
     },
     "execution_count": 34,
     "metadata": {},
     "output_type": "execute_result"
    }
   ],
   "source": [
    "findArea(r=7)"
   ]
  },
  {
   "cell_type": "code",
   "execution_count": 35,
   "metadata": {},
   "outputs": [],
   "source": [
    "class A:\n",
    "\n",
    "    def __init__(self, age):\n",
    "\n",
    "        self.age = age\n",
    "\n",
    "        age = 15\n",
    "\n",
    "    def getAge(self):\n",
    "\n",
    "        return self.age\n",
    "\n"
   ]
  },
  {
   "cell_type": "code",
   "execution_count": 36,
   "metadata": {},
   "outputs": [
    {
     "data": {
      "text/plain": [
       "22"
      ]
     },
     "execution_count": 36,
     "metadata": {},
     "output_type": "execute_result"
    }
   ],
   "source": [
    "a = A(22)\n",
    "\n",
    "a.getAge() "
   ]
  },
  {
   "cell_type": "markdown",
   "metadata": {},
   "source": [
    "## Ornek Uygulama"
   ]
  },
  {
   "cell_type": "code",
   "execution_count": 42,
   "metadata": {},
   "outputs": [],
   "source": [
    "class Person:      \n",
    "   def __init__(self, name, year):       \n",
    "      self.name = name\n",
    "      self.year = year\n",
    "\n",
    "   # instance methods\n",
    "   def intro(self):\n",
    "        print('Hello There. I am '+ self.name )\n",
    "\n",
    "   # instance methods\n",
    "   def calculateAge(self):\n",
    "        return 2020 - self.year"
   ]
  },
  {
   "cell_type": "code",
   "execution_count": 44,
   "metadata": {},
   "outputs": [
    {
     "name": "stdout",
     "output_type": "stream",
     "text": [
      "Hello There. I am ali\n",
      "Hello There. I am yağmur\n"
     ]
    }
   ],
   "source": [
    "# object (instance)\n",
    "p1 = Person(name='ali', year= 1990) \n",
    "p2 = Person(name ='yağmur', year = 1995)\n",
    "\n",
    "p1.intro() # Hello There. I am ali\n",
    "p2.intro() # Hello There. I am yağmur"
   ]
  },
  {
   "cell_type": "code",
   "execution_count": 45,
   "metadata": {},
   "outputs": [
    {
     "name": "stdout",
     "output_type": "stream",
     "text": [
      "adım: ali ve yaşım: 30\n",
      "adım: yağmur ve yaşım: 25\n"
     ]
    }
   ],
   "source": [
    "print(f'adım: {p1.name} ve yaşım: {p1.calculateAge()}')\n",
    "print(f'adım: {p2.name} ve yaşım: {p2.calculateAge()}')"
   ]
  },
  {
   "cell_type": "code",
   "execution_count": 51,
   "metadata": {},
   "outputs": [],
   "source": [
    "class Circle:\n",
    "    # Class object attribute\n",
    "    pi = 3.14\n",
    "\n",
    "    def __init__(self, yaricap=1):\n",
    "        self.yaricap = yaricap \n",
    "    \n",
    "    def cevre_hesapla(self):\n",
    "     return 2 * self.pi * self.yaricap\n",
    "\n",
    "    def alan_hesapla(self):\n",
    "     return self.pi * (self.yaricap**2)"
   ]
  },
  {
   "cell_type": "code",
   "execution_count": 52,
   "metadata": {},
   "outputs": [],
   "source": [
    "c1 = Circle() \n",
    "c2 = Circle(5)"
   ]
  },
  {
   "cell_type": "code",
   "execution_count": 53,
   "metadata": {},
   "outputs": [
    {
     "name": "stdout",
     "output_type": "stream",
     "text": [
      "c1 : alan = 3.14 çevre = 6.28\n",
      "c2 : alan = 78.5 çevre = 31.400000000000002\n"
     ]
    }
   ],
   "source": [
    "c1 = Circle() \n",
    "c2 = Circle(5)\n",
    "\n",
    "print(f'c1 : alan = {c1.alan_hesapla()} çevre = {c1.cevre_hesapla()}')\n",
    "print(f'c2 : alan = {c2.alan_hesapla()} çevre = {c2.cevre_hesapla()}')"
   ]
  },
  {
   "cell_type": "code",
   "execution_count": null,
   "metadata": {},
   "outputs": [],
   "source": []
  }
 ],
 "metadata": {
  "kernelspec": {
   "display_name": "Python 3 (ipykernel)",
   "language": "python",
   "name": "python3"
  },
  "language_info": {
   "codemirror_mode": {
    "name": "ipython",
    "version": 3
   },
   "file_extension": ".py",
   "mimetype": "text/x-python",
   "name": "python",
   "nbconvert_exporter": "python",
   "pygments_lexer": "ipython3",
   "version": "3.10.9"
  },
  "vscode": {
   "interpreter": {
    "hash": "b885c526da3326e581d3a88563282ab625602807b12d7b4af8a2a7f32a015837"
   }
  }
 },
 "nbformat": 4,
 "nbformat_minor": 2
}
